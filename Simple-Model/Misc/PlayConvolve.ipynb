{
 "cells": [
  {
   "cell_type": "markdown",
   "metadata": {},
   "source": [
    "# Figuring out Convolutions"
   ]
  },
  {
   "cell_type": "code",
   "execution_count": 2,
   "metadata": {},
   "outputs": [],
   "source": [
    "import matplotlib as mpl\n",
    "import matplotlib.pyplot as plt\n",
    "mpl.rcParams.update(mpl.rcParamsDefault)\n",
    "mpl.use(\"pgf\")\n",
    "%matplotlib inline\n",
    "plt.plot([1, 2, 3])\n",
    "mpl.use(\"pgf\")\n",
    "mpl.rcParams.update(\n",
    "    {\n",
    "        \"pgf.texsystem\": \"lualatex\",\n",
    "        \"font.family\": \"serif\",\n",
    "        \"text.usetex\": True,\n",
    "        \"pgf.rcfonts\": False,\n",
    "        \"pgf.preamble\": \"\\n\".join(\n",
    "            [\n",
    "                r\"\\usepackage{bm}\",\n",
    "                r\"\\usepackage{mathtools}\",\n",
    "                r\"\\usepackage{amsmath}\",\n",
    "                r\"\\DeclarePairedDelimiter\\abs{\\lvert}{\\rvert}%\",\n",
    "                r\"\\DeclarePairedDelimiter\\norm{\\lVert}{\\rVert}\",\n",
    "                r\"\\makeatletter\",\n",
    "                r\"\\let\\oldabs\\abs\",\n",
    "                r\"\\def\\abs{\\@ifstar{\\oldabs}{\\oldabs*}}\",\n",
    "                r\"\\let\\oldnorm\\norm\",\n",
    "                r\"\\def\\norm{\\@ifstar{\\oldnorm}{\\oldnorm*}}\",\n",
    "                r\"\\makeatother\",\n",
    "                r\"\\usepackage[dvipsnames]{xcolor}\", \n",
    "                r\"\\definecolor{myred}{RGB}{205, 108, 46}\",\n",
    "            ]\n",
    "        ),\n",
    "        \"font.serif\": [\"Computer Modern Roman\"],\n",
    "    }\n",
    ")\n",
    "\n",
    "import matplotlib.font_manager\n",
    "import matplotlib.ticker as mticker\n",
    "import matplotlib.pyplot as plt\n",
    "from mpl_toolkits.axes_grid1 import Divider, Size, make_axes_locatable\n",
    "import matplotlib.patches as mpatches\n",
    "from mpl_toolkits import mplot3d\n",
    "import matplotlib.cm as cm\n",
    "\n",
    "import numpy as np\n",
    "import scipy as sc\n",
    "import scipy.io as io\n",
    "from scipy.stats import multivariate_normal\n",
    "from functools import partial\n",
    "\n",
    "import jax.numpy as jnp\n",
    "import jax.scipy as jsc\n",
    "from jax import grad, jit, vmap, random, lax, value_and_grad, tree_multimap, tree_map"
   ]
  },
  {
   "cell_type": "code",
   "execution_count": 3,
   "metadata": {},
   "outputs": [],
   "source": [
    "from jax.config import config\n",
    "config.update(\"jax_enable_x64\", True)"
   ]
  },
  {
   "cell_type": "code",
   "execution_count": 4,
   "metadata": {
    "executionInfo": {
     "elapsed": 905,
     "status": "ok",
     "timestamp": 1646766606599,
     "user": {
      "displayName": "Simon Gomez-Cullen",
      "photoUrl": "https://lh3.googleusercontent.com/a/default-user=s64",
      "userId": "13652272254121268238"
     },
     "user_tz": 0
    },
    "id": "j2WqJJohnzd3"
   },
   "outputs": [],
   "source": [
    "key = random.PRNGKey(1)\n",
    "key, *subkeys = random.split(key, 4)"
   ]
  },
  {
   "cell_type": "code",
   "execution_count": 5,
   "metadata": {
    "executionInfo": {
     "elapsed": 3,
     "status": "ok",
     "timestamp": 1646766606600,
     "user": {
      "displayName": "Simon Gomez-Cullen",
      "photoUrl": "https://lh3.googleusercontent.com/a/default-user=s64",
      "userId": "13652272254121268238"
     },
     "user_tz": 0
    },
    "id": "RHWOu5SEr2H3"
   },
   "outputs": [],
   "source": [
    "# Time resolution\n",
    "time_bin = 0.005"
   ]
  },
  {
   "cell_type": "code",
   "execution_count": 6,
   "metadata": {},
   "outputs": [],
   "source": [
    "subkeyx = subkeys[-1]\n",
    "\n",
    "# Time horizon for input data\n",
    "x_maxt = 2.0\n",
    "x_maxn = 3.0\n",
    "\n",
    "# Maximum index of input data\n",
    "k = np.floor(x_maxt/time_bin).astype(np.int64)\n",
    "knew = np.floor(x_maxn/time_bin).astype(np.int64)\n",
    "\n",
    "xtime = np.linspace(0.0, x_maxt, k + 1)\n",
    "xtimen = np.linspace(0.0, x_maxn, knew + 1)\n",
    "\n",
    "xtest = random.bernoulli(subkeyx, 0.001, (k+1,)).astype(np.float64)\n",
    "xtestn = np.append(xtest, random.bernoulli(subkeyx, 0.01, (knew - k,)).astype(np.float64) )"
   ]
  },
  {
   "cell_type": "code",
   "execution_count": 7,
   "metadata": {},
   "outputs": [
    {
     "data": {
      "text/plain": [
       "[<matplotlib.lines.Line2D at 0x7f2cb85bd130>]"
      ]
     },
     "execution_count": 7,
     "metadata": {},
     "output_type": "execute_result"
    },
    {
     "data": {
      "image/png": "[encoded data removed]",
      "text/plain": [
       "<Figure size 432x288 with 1 Axes>"
      ]
     },
     "metadata": {
      "needs_background": "light"
     },
     "output_type": "display_data"
    }
   ],
   "source": [
    "plt.plot(xtime, xtest)\n",
    "plt.plot(xtimen, xtestn)"
   ]
  },
  {
   "cell_type": "code",
   "execution_count": 8,
   "metadata": {},
   "outputs": [],
   "source": [
    "subkeyf = subkeys[-2]\n",
    "\n",
    "# Filter horizon\n",
    "f_maxt = 0.25\n",
    "\n",
    "# Maximum index of filter data\n",
    "n = np.floor(f_maxt/time_bin).astype(np.int64)\n",
    "ftime = np.linspace(0.0, f_maxt, n + 1)\n",
    "ftrue = np.zeros(n + 1,)\n",
    "ftrue = np.where(ftime >= 0.05, np.exp(-70 * (ftime - 0.05)), 0.0)"
   ]
  },
  {
   "cell_type": "code",
   "execution_count": 9,
   "metadata": {},
   "outputs": [
    {
     "data": {
      "text/plain": [
       "[<matplotlib.lines.Line2D at 0x7f2d40b9ac10>]"
      ]
     },
     "execution_count": 9,
     "metadata": {},
     "output_type": "execute_result"
    },
    {
     "data": {
      "image/png": "[encoded data removed]",
      "text/plain": [
       "<Figure size 432x288 with 1 Axes>"
      ]
     },
     "metadata": {
      "needs_background": "light"
     },
     "output_type": "display_data"
    }
   ],
   "source": [
    "plt.plot(ftime, ftrue)"
   ]
  },
  {
   "cell_type": "code",
   "execution_count": 10,
   "metadata": {},
   "outputs": [],
   "source": [
    "y1 = np.convolve(xtest, ftrue)[: k + 1]\n",
    "ytime = np.linspace(0.0, xtime[-1] + ftime[-1], n + k + 1)[: k + 1]\n",
    "\n",
    "ynew = np.convolve(xtestn, ftrue)[:knew + 1]\n",
    "ytimen = np.linspace(0.0, xtimen[-1] + ftime[-1], n + knew + 1)[: knew + 1]"
   ]
  },
  {
   "cell_type": "code",
   "execution_count": 11,
   "metadata": {},
   "outputs": [
    {
     "data": {
      "text/plain": [
       "[<matplotlib.lines.Line2D at 0x7f2d40afcfd0>]"
      ]
     },
     "execution_count": 11,
     "metadata": {},
     "output_type": "execute_result"
    },
    {
     "data": {
      "image/png": "[encoded data removed]",
      "text/plain": [
       "<Figure size 432x288 with 1 Axes>"
      ]
     },
     "metadata": {
      "needs_background": "light"
     },
     "output_type": "display_data"
    }
   ],
   "source": [
    "plt.plot(ytime, y1)\n",
    "plt.plot(xtime, xtest)\n",
    "# plt.xlim((1.0, 1.2))"
   ]
  },
  {
   "cell_type": "code",
   "execution_count": 12,
   "metadata": {},
   "outputs": [
    {
     "data": {
      "text/plain": [
       "[<matplotlib.lines.Line2D at 0x7f2d40af6160>]"
      ]
     },
     "execution_count": 12,
     "metadata": {},
     "output_type": "execute_result"
    },
    {
     "data": {
      "image/png": "[encoded data removed]",
      "text/plain": [
       "<Figure size 432x288 with 1 Axes>"
      ]
     },
     "metadata": {
      "needs_background": "light"
     },
     "output_type": "display_data"
    }
   ],
   "source": [
    "plt.plot(ytimen, ynew)\n",
    "plt.plot(ytime, y1)"
   ]
  },
  {
   "cell_type": "code",
   "execution_count": 22,
   "metadata": {},
   "outputs": [
    {
     "name": "stdout",
     "output_type": "stream",
     "text": [
      "(401,)\n"
     ]
    },
    {
     "data": {
      "text/plain": [
       "[<matplotlib.lines.Line2D at 0x7f2d21830d30>]"
      ]
     },
     "execution_count": 22,
     "metadata": {},
     "output_type": "execute_result"
    },
    {
     "data": {
      "image/png": "[encoded data removed]",
      "text/plain": [
       "<Figure size 432x288 with 1 Axes>"
      ]
     },
     "metadata": {
      "needs_background": "light"
     },
     "output_type": "display_data"
    }
   ],
   "source": [
    "xpad = np.append(np.zeros(n), xtest)\n",
    "print(np.shape(np.convolve(ftrue, xpad, mode='valid')))\n",
    "plt.plot(ytime, np.convolve(ftrue, xpad, mode='valid'))\n",
    "#plt.plot(ytime, y1)"
   ]
  },
  {
   "cell_type": "code",
   "execution_count": 1,
   "metadata": {},
   "outputs": [
    {
     "ename": "FileNotFoundError",
     "evalue": "[Errno 2] No such file or directory: 'img/rtt.png'",
     "output_type": "error",
     "traceback": [
      "\u001b[0;31m---------------------------------------------------------------------------\u001b[0m",
      "\u001b[0;31mFileNotFoundError\u001b[0m                         Traceback (most recent call last)",
      "\u001b[1;32m/home/sgome/Project/Bayesian-Convolutional-Model/Simple-Model/Misc/PlayConvolve.ipynb Cell 14'\u001b[0m in \u001b[0;36m<module>\u001b[0;34m\u001b[0m\n\u001b[1;32m      <a href='vscode-notebook-cell://wsl%2Bubuntu/home/sgome/Project/Bayesian-Convolutional-Model/Simple-Model/Misc/PlayConvolve.ipynb#ch0000013vscode-remote?line=0'>1</a>\u001b[0m \u001b[39mfrom\u001b[39;00m \u001b[39mIPython\u001b[39;00m\u001b[39m.\u001b[39;00m\u001b[39mdisplay\u001b[39;00m \u001b[39mimport\u001b[39;00m display, Image\n\u001b[0;32m----> <a href='vscode-notebook-cell://wsl%2Bubuntu/home/sgome/Project/Bayesian-Convolutional-Model/Simple-Model/Misc/PlayConvolve.ipynb#ch0000013vscode-remote?line=1'>2</a>\u001b[0m display(Image(filename\u001b[39m=\u001b[39;49m\u001b[39m\"\u001b[39;49m\u001b[39mimg/rtt.png\u001b[39;49m\u001b[39m\"\u001b[39;49m, embed\u001b[39m=\u001b[39;49m\u001b[39mTrue\u001b[39;49;00m))\n",
      "File \u001b[0;32m~/Project/Bayesian-Convolutional-Model/Simple-Model/.venv/lib/python3.8/site-packages/IPython/core/display.py:952\u001b[0m, in \u001b[0;36mImage.__init__\u001b[0;34m(self, data, url, filename, format, embed, width, height, retina, unconfined, metadata, alt)\u001b[0m\n\u001b[1;32m    <a href='file:///home/sgome/Project/Bayesian-Convolutional-Model/Simple-Model/.venv/lib/python3.8/site-packages/IPython/core/display.py?line=949'>950</a>\u001b[0m \u001b[39mself\u001b[39m\u001b[39m.\u001b[39munconfined \u001b[39m=\u001b[39m unconfined\n\u001b[1;32m    <a href='file:///home/sgome/Project/Bayesian-Convolutional-Model/Simple-Model/.venv/lib/python3.8/site-packages/IPython/core/display.py?line=950'>951</a>\u001b[0m \u001b[39mself\u001b[39m\u001b[39m.\u001b[39malt \u001b[39m=\u001b[39m alt\n\u001b[0;32m--> <a href='file:///home/sgome/Project/Bayesian-Convolutional-Model/Simple-Model/.venv/lib/python3.8/site-packages/IPython/core/display.py?line=951'>952</a>\u001b[0m \u001b[39msuper\u001b[39;49m(Image, \u001b[39mself\u001b[39;49m)\u001b[39m.\u001b[39;49m\u001b[39m__init__\u001b[39;49m(data\u001b[39m=\u001b[39;49mdata, url\u001b[39m=\u001b[39;49murl, filename\u001b[39m=\u001b[39;49mfilename,\n\u001b[1;32m    <a href='file:///home/sgome/Project/Bayesian-Convolutional-Model/Simple-Model/.venv/lib/python3.8/site-packages/IPython/core/display.py?line=952'>953</a>\u001b[0m         metadata\u001b[39m=\u001b[39;49mmetadata)\n\u001b[1;32m    <a href='file:///home/sgome/Project/Bayesian-Convolutional-Model/Simple-Model/.venv/lib/python3.8/site-packages/IPython/core/display.py?line=954'>955</a>\u001b[0m \u001b[39mif\u001b[39;00m \u001b[39mself\u001b[39m\u001b[39m.\u001b[39mwidth \u001b[39mis\u001b[39;00m \u001b[39mNone\u001b[39;00m \u001b[39mand\u001b[39;00m \u001b[39mself\u001b[39m\u001b[39m.\u001b[39mmetadata\u001b[39m.\u001b[39mget(\u001b[39m'\u001b[39m\u001b[39mwidth\u001b[39m\u001b[39m'\u001b[39m, {}):\n\u001b[1;32m    <a href='file:///home/sgome/Project/Bayesian-Convolutional-Model/Simple-Model/.venv/lib/python3.8/site-packages/IPython/core/display.py?line=955'>956</a>\u001b[0m     \u001b[39mself\u001b[39m\u001b[39m.\u001b[39mwidth \u001b[39m=\u001b[39m metadata[\u001b[39m'\u001b[39m\u001b[39mwidth\u001b[39m\u001b[39m'\u001b[39m]\n",
      "File \u001b[0;32m~/Project/Bayesian-Convolutional-Model/Simple-Model/.venv/lib/python3.8/site-packages/IPython/core/display.py:327\u001b[0m, in \u001b[0;36mDisplayObject.__init__\u001b[0;34m(self, data, url, filename, metadata)\u001b[0m\n\u001b[1;32m    <a href='file:///home/sgome/Project/Bayesian-Convolutional-Model/Simple-Model/.venv/lib/python3.8/site-packages/IPython/core/display.py?line=323'>324</a>\u001b[0m \u001b[39melif\u001b[39;00m \u001b[39mself\u001b[39m\u001b[39m.\u001b[39mmetadata \u001b[39mis\u001b[39;00m \u001b[39mNone\u001b[39;00m:\n\u001b[1;32m    <a href='file:///home/sgome/Project/Bayesian-Convolutional-Model/Simple-Model/.venv/lib/python3.8/site-packages/IPython/core/display.py?line=324'>325</a>\u001b[0m     \u001b[39mself\u001b[39m\u001b[39m.\u001b[39mmetadata \u001b[39m=\u001b[39m {}\n\u001b[0;32m--> <a href='file:///home/sgome/Project/Bayesian-Convolutional-Model/Simple-Model/.venv/lib/python3.8/site-packages/IPython/core/display.py?line=326'>327</a>\u001b[0m \u001b[39mself\u001b[39;49m\u001b[39m.\u001b[39;49mreload()\n\u001b[1;32m    <a href='file:///home/sgome/Project/Bayesian-Convolutional-Model/Simple-Model/.venv/lib/python3.8/site-packages/IPython/core/display.py?line=327'>328</a>\u001b[0m \u001b[39mself\u001b[39m\u001b[39m.\u001b[39m_check_data()\n",
      "File \u001b[0;32m~/Project/Bayesian-Convolutional-Model/Simple-Model/.venv/lib/python3.8/site-packages/IPython/core/display.py:987\u001b[0m, in \u001b[0;36mImage.reload\u001b[0;34m(self)\u001b[0m\n\u001b[1;32m    <a href='file:///home/sgome/Project/Bayesian-Convolutional-Model/Simple-Model/.venv/lib/python3.8/site-packages/IPython/core/display.py?line=984'>985</a>\u001b[0m \u001b[39m\"\"\"Reload the raw data from file or URL.\"\"\"\u001b[39;00m\n\u001b[1;32m    <a href='file:///home/sgome/Project/Bayesian-Convolutional-Model/Simple-Model/.venv/lib/python3.8/site-packages/IPython/core/display.py?line=985'>986</a>\u001b[0m \u001b[39mif\u001b[39;00m \u001b[39mself\u001b[39m\u001b[39m.\u001b[39membed:\n\u001b[0;32m--> <a href='file:///home/sgome/Project/Bayesian-Convolutional-Model/Simple-Model/.venv/lib/python3.8/site-packages/IPython/core/display.py?line=986'>987</a>\u001b[0m     \u001b[39msuper\u001b[39;49m(Image,\u001b[39mself\u001b[39;49m)\u001b[39m.\u001b[39;49mreload()\n\u001b[1;32m    <a href='file:///home/sgome/Project/Bayesian-Convolutional-Model/Simple-Model/.venv/lib/python3.8/site-packages/IPython/core/display.py?line=987'>988</a>\u001b[0m     \u001b[39mif\u001b[39;00m \u001b[39mself\u001b[39m\u001b[39m.\u001b[39mretina:\n\u001b[1;32m    <a href='file:///home/sgome/Project/Bayesian-Convolutional-Model/Simple-Model/.venv/lib/python3.8/site-packages/IPython/core/display.py?line=988'>989</a>\u001b[0m         \u001b[39mself\u001b[39m\u001b[39m.\u001b[39m_retina_shape()\n",
      "File \u001b[0;32m~/Project/Bayesian-Convolutional-Model/Simple-Model/.venv/lib/python3.8/site-packages/IPython/core/display.py:352\u001b[0m, in \u001b[0;36mDisplayObject.reload\u001b[0;34m(self)\u001b[0m\n\u001b[1;32m    <a href='file:///home/sgome/Project/Bayesian-Convolutional-Model/Simple-Model/.venv/lib/python3.8/site-packages/IPython/core/display.py?line=349'>350</a>\u001b[0m \u001b[39m\"\"\"Reload the raw data from file or URL.\"\"\"\u001b[39;00m\n\u001b[1;32m    <a href='file:///home/sgome/Project/Bayesian-Convolutional-Model/Simple-Model/.venv/lib/python3.8/site-packages/IPython/core/display.py?line=350'>351</a>\u001b[0m \u001b[39mif\u001b[39;00m \u001b[39mself\u001b[39m\u001b[39m.\u001b[39mfilename \u001b[39mis\u001b[39;00m \u001b[39mnot\u001b[39;00m \u001b[39mNone\u001b[39;00m:\n\u001b[0;32m--> <a href='file:///home/sgome/Project/Bayesian-Convolutional-Model/Simple-Model/.venv/lib/python3.8/site-packages/IPython/core/display.py?line=351'>352</a>\u001b[0m     \u001b[39mwith\u001b[39;00m \u001b[39mopen\u001b[39;49m(\u001b[39mself\u001b[39;49m\u001b[39m.\u001b[39;49mfilename, \u001b[39mself\u001b[39;49m\u001b[39m.\u001b[39;49m_read_flags) \u001b[39mas\u001b[39;00m f:\n\u001b[1;32m    <a href='file:///home/sgome/Project/Bayesian-Convolutional-Model/Simple-Model/.venv/lib/python3.8/site-packages/IPython/core/display.py?line=352'>353</a>\u001b[0m         \u001b[39mself\u001b[39m\u001b[39m.\u001b[39mdata \u001b[39m=\u001b[39m f\u001b[39m.\u001b[39mread()\n\u001b[1;32m    <a href='file:///home/sgome/Project/Bayesian-Convolutional-Model/Simple-Model/.venv/lib/python3.8/site-packages/IPython/core/display.py?line=353'>354</a>\u001b[0m \u001b[39melif\u001b[39;00m \u001b[39mself\u001b[39m\u001b[39m.\u001b[39murl \u001b[39mis\u001b[39;00m \u001b[39mnot\u001b[39;00m \u001b[39mNone\u001b[39;00m:\n\u001b[1;32m    <a href='file:///home/sgome/Project/Bayesian-Convolutional-Model/Simple-Model/.venv/lib/python3.8/site-packages/IPython/core/display.py?line=354'>355</a>\u001b[0m     \u001b[39m# Deferred import\u001b[39;00m\n",
      "\u001b[0;31mFileNotFoundError\u001b[0m: [Errno 2] No such file or directory: 'img/rtt.png'"
     ]
    }
   ],
   "source": [
    "from IPython.display import display, Image\n",
    "display(Image(filename=\"img/rtt.png\", embed=True))"
   ]
  }
 ],
 "metadata": {
  "interpreter": {
   "hash": "732f194484e0284080b04ff83f236bb381f8bb18faa7a6782cdb6b2333c8b4db"
  },
  "kernelspec": {
   "display_name": "Python 3.8.10 ('.venv': venv)",
   "language": "python",
   "name": "python3"
  },
  "language_info": {
   "codemirror_mode": {
    "name": "ipython",
    "version": 3
   },
   "file_extension": ".py",
   "mimetype": "text/x-python",
   "name": "python",
   "nbconvert_exporter": "python",
   "pygments_lexer": "ipython3",
   "version": "3.8.10"
  },
  "orig_nbformat": 4
 },
 "nbformat": 4,
 "nbformat_minor": 2
}
