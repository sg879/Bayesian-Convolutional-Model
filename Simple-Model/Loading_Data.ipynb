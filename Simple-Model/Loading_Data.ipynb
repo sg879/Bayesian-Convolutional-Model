{
 "cells": [
  {
   "cell_type": "markdown",
   "metadata": {},
   "source": [
    "# Loading the Dataset"
   ]
  },
  {
   "cell_type": "markdown",
   "metadata": {},
   "source": [
    "## Loading the correct modules"
   ]
  },
  {
   "cell_type": "code",
   "execution_count": 123,
   "metadata": {},
   "outputs": [],
   "source": [
    "from nlb_tools.nwb_interface import NWBDataset\n",
    "import numpy as np\n",
    "import pandas as pd\n",
    "import matplotlib.pyplot as plt\n",
    "from mpl_toolkits.mplot3d import Axes3D\n",
    "from matplotlib.collections import LineCollection\n",
    "import pyarrow as pa\n",
    "import pyarrow.parquet as pq"
   ]
  },
  {
   "cell_type": "code",
   "execution_count": 124,
   "metadata": {},
   "outputs": [],
   "source": [
    "dataset = NWBDataset(\"000129/sub-Indy\", \"*train\", split_heldout=False) # Loading the dataa"
   ]
  },
  {
   "cell_type": "code",
   "execution_count": 125,
   "metadata": {},
   "outputs": [
    {
     "data": {
      "text/plain": [
       "-334.41491272635915"
      ]
     },
     "execution_count": 125,
     "metadata": {},
     "output_type": "execute_result"
    }
   ],
   "source": [
    "np.nanmin(dataset.data.finger_vel.y.to_numpy())"
   ]
  },
  {
   "cell_type": "code",
   "execution_count": 126,
   "metadata": {},
   "outputs": [
    {
     "data": {
      "text/plain": [
       "[<matplotlib.lines.Line2D at 0x7fca6561ae20>]"
      ]
     },
     "execution_count": 126,
     "metadata": {},
     "output_type": "execute_result"
    },
    {
     "data": {
      "image/png": "[encoded data removed]",
      "text/plain": [
       "<Figure size 432x288 with 1 Axes>"
      ]
     },
     "metadata": {
      "needs_background": "light"
     },
     "output_type": "display_data"
    }
   ],
   "source": [
    "plt.plot(dataset.data.finger_vel.y.to_numpy()[:])"
   ]
  },
  {
   "cell_type": "code",
   "execution_count": 111,
   "metadata": {},
   "outputs": [
    {
     "data": {
      "text/html": [
       "<div>\n",
       "<style scoped>\n",
       "    .dataframe tbody tr th:only-of-type {\n",
       "        vertical-align: middle;\n",
       "    }\n",
       "\n",
       "    .dataframe tbody tr th {\n",
       "        vertical-align: top;\n",
       "    }\n",
       "\n",
       "    .dataframe thead th {\n",
       "        text-align: right;\n",
       "    }\n",
       "</style>\n",
       "<table border=\"1\" class=\"dataframe\">\n",
       "  <thead>\n",
       "    <tr style=\"text-align: right;\">\n",
       "      <th></th>\n",
       "      <th>trial_id</th>\n",
       "      <th>start_time</th>\n",
       "      <th>end_time</th>\n",
       "      <th>split</th>\n",
       "    </tr>\n",
       "  </thead>\n",
       "  <tbody>\n",
       "    <tr>\n",
       "      <th>0</th>\n",
       "      <td>0</td>\n",
       "      <td>0 days 00:00:00</td>\n",
       "      <td>0 days 00:00:00.600000</td>\n",
       "      <td>train</td>\n",
       "    </tr>\n",
       "    <tr>\n",
       "      <th>1</th>\n",
       "      <td>1</td>\n",
       "      <td>0 days 00:00:00.600000</td>\n",
       "      <td>0 days 00:00:01.200000</td>\n",
       "      <td>val</td>\n",
       "    </tr>\n",
       "    <tr>\n",
       "      <th>2</th>\n",
       "      <td>2</td>\n",
       "      <td>0 days 00:00:01.200000</td>\n",
       "      <td>0 days 00:00:01.800000</td>\n",
       "      <td>val</td>\n",
       "    </tr>\n",
       "    <tr>\n",
       "      <th>3</th>\n",
       "      <td>3</td>\n",
       "      <td>0 days 00:00:01.800000</td>\n",
       "      <td>0 days 00:00:02.400000</td>\n",
       "      <td>train</td>\n",
       "    </tr>\n",
       "    <tr>\n",
       "      <th>4</th>\n",
       "      <td>4</td>\n",
       "      <td>0 days 00:00:02.400000</td>\n",
       "      <td>0 days 00:00:03</td>\n",
       "      <td>train</td>\n",
       "    </tr>\n",
       "    <tr>\n",
       "      <th>...</th>\n",
       "      <td>...</td>\n",
       "      <td>...</td>\n",
       "      <td>...</td>\n",
       "      <td>...</td>\n",
       "    </tr>\n",
       "    <tr>\n",
       "      <th>1075</th>\n",
       "      <td>1075</td>\n",
       "      <td>0 days 00:10:45.900000</td>\n",
       "      <td>0 days 00:10:46.500000</td>\n",
       "      <td>val</td>\n",
       "    </tr>\n",
       "    <tr>\n",
       "      <th>1076</th>\n",
       "      <td>1076</td>\n",
       "      <td>0 days 00:10:46.500000</td>\n",
       "      <td>0 days 00:10:47.100000</td>\n",
       "      <td>train</td>\n",
       "    </tr>\n",
       "    <tr>\n",
       "      <th>1077</th>\n",
       "      <td>1077</td>\n",
       "      <td>0 days 00:10:47.100000</td>\n",
       "      <td>0 days 00:10:47.700000</td>\n",
       "      <td>train</td>\n",
       "    </tr>\n",
       "    <tr>\n",
       "      <th>1078</th>\n",
       "      <td>1078</td>\n",
       "      <td>0 days 00:10:47.700000</td>\n",
       "      <td>0 days 00:10:48.300000</td>\n",
       "      <td>train</td>\n",
       "    </tr>\n",
       "    <tr>\n",
       "      <th>1079</th>\n",
       "      <td>1079</td>\n",
       "      <td>0 days 00:10:48.300000</td>\n",
       "      <td>0 days 00:10:48.900000</td>\n",
       "      <td>train</td>\n",
       "    </tr>\n",
       "  </tbody>\n",
       "</table>\n",
       "<p>1080 rows × 4 columns</p>\n",
       "</div>"
      ],
      "text/plain": [
       "      trial_id             start_time               end_time  split\n",
       "0            0        0 days 00:00:00 0 days 00:00:00.600000  train\n",
       "1            1 0 days 00:00:00.600000 0 days 00:00:01.200000    val\n",
       "2            2 0 days 00:00:01.200000 0 days 00:00:01.800000    val\n",
       "3            3 0 days 00:00:01.800000 0 days 00:00:02.400000  train\n",
       "4            4 0 days 00:00:02.400000        0 days 00:00:03  train\n",
       "...        ...                    ...                    ...    ...\n",
       "1075      1075 0 days 00:10:45.900000 0 days 00:10:46.500000    val\n",
       "1076      1076 0 days 00:10:46.500000 0 days 00:10:47.100000  train\n",
       "1077      1077 0 days 00:10:47.100000 0 days 00:10:47.700000  train\n",
       "1078      1078 0 days 00:10:47.700000 0 days 00:10:48.300000  train\n",
       "1079      1079 0 days 00:10:48.300000 0 days 00:10:48.900000  train\n",
       "\n",
       "[1080 rows x 4 columns]"
      ]
     },
     "execution_count": 111,
     "metadata": {},
     "output_type": "execute_result"
    }
   ],
   "source": [
    "datsplit = dataset.trial_info\n",
    "datsplit"
   ]
  },
  {
   "cell_type": "code",
   "execution_count": 112,
   "metadata": {},
   "outputs": [
    {
     "data": {
      "text/plain": [
       "train    810\n",
       "val      270\n",
       "Name: split, dtype: int64"
      ]
     },
     "execution_count": 112,
     "metadata": {},
     "output_type": "execute_result"
    }
   ],
   "source": [
    "dataset.trial_info[\"split\"].value_counts()"
   ]
  },
  {
   "cell_type": "markdown",
   "metadata": {},
   "source": [
    "## Data Cleanup"
   ]
  },
  {
   "cell_type": "markdown",
   "metadata": {},
   "source": [
    "## Deriving the Training Data"
   ]
  },
  {
   "cell_type": "code",
   "execution_count": 113,
   "metadata": {},
   "outputs": [],
   "source": [
    "trainingind = (datsplit.split == \"val\")"
   ]
  },
  {
   "cell_type": "code",
   "execution_count": 114,
   "metadata": {},
   "outputs": [],
   "source": [
    "trainstarts = datsplit[trainingind].start_time\n",
    "trainends = datsplit[trainingind].end_time"
   ]
  },
  {
   "cell_type": "code",
   "execution_count": 122,
   "metadata": {},
   "outputs": [
    {
     "name": "stdout",
     "output_type": "stream",
     "text": [
      "(270,)\n",
      "(270,)\n"
     ]
    }
   ],
   "source": [
    "startintrain = np.isin(dataset.data.index, trainstarts).nonzero()[0]\n",
    "endintrain = np.isin(dataset.data.index, trainends).nonzero()[0]\n",
    "print(startintrain.shape)\n",
    "print(endintrain.shape)"
   ]
  },
  {
   "cell_type": "code",
   "execution_count": 20,
   "metadata": {},
   "outputs": [],
   "source": [
    "trainindices = list(zip(startintrain, endintrain + 1))\n",
    "trainindices = [slice(*i) for i in trainindices]"
   ]
  },
  {
   "cell_type": "code",
   "execution_count": 21,
   "metadata": {},
   "outputs": [
    {
     "data": {
      "text/html": [
       "<div>\n",
       "<style scoped>\n",
       "    .dataframe tbody tr th:only-of-type {\n",
       "        vertical-align: middle;\n",
       "    }\n",
       "\n",
       "    .dataframe tbody tr th {\n",
       "        vertical-align: top;\n",
       "    }\n",
       "\n",
       "    .dataframe thead tr th {\n",
       "        text-align: left;\n",
       "    }\n",
       "\n",
       "    .dataframe thead tr:last-of-type th {\n",
       "        text-align: right;\n",
       "    }\n",
       "</style>\n",
       "<table border=\"1\" class=\"dataframe\">\n",
       "  <thead>\n",
       "    <tr>\n",
       "      <th>signal_type</th>\n",
       "      <th colspan=\"2\" halign=\"left\">cursor_pos</th>\n",
       "      <th colspan=\"3\" halign=\"left\">finger_pos</th>\n",
       "      <th colspan=\"2\" halign=\"left\">finger_vel</th>\n",
       "      <th colspan=\"12\" halign=\"left\">spikes</th>\n",
       "      <th colspan=\"2\" halign=\"left\">target_pos</th>\n",
       "    </tr>\n",
       "    <tr>\n",
       "      <th>channel</th>\n",
       "      <th>x</th>\n",
       "      <th>y</th>\n",
       "      <th>x</th>\n",
       "      <th>y</th>\n",
       "      <th>z</th>\n",
       "      <th>x</th>\n",
       "      <th>y</th>\n",
       "      <th>201</th>\n",
       "      <th>203</th>\n",
       "      <th>204</th>\n",
       "      <th>...</th>\n",
       "      <th>9201</th>\n",
       "      <th>9203</th>\n",
       "      <th>9301</th>\n",
       "      <th>9403</th>\n",
       "      <th>9501</th>\n",
       "      <th>9502</th>\n",
       "      <th>9601</th>\n",
       "      <th>9602</th>\n",
       "      <th>x</th>\n",
       "      <th>y</th>\n",
       "    </tr>\n",
       "    <tr>\n",
       "      <th>clock_time</th>\n",
       "      <th></th>\n",
       "      <th></th>\n",
       "      <th></th>\n",
       "      <th></th>\n",
       "      <th></th>\n",
       "      <th></th>\n",
       "      <th></th>\n",
       "      <th></th>\n",
       "      <th></th>\n",
       "      <th></th>\n",
       "      <th></th>\n",
       "      <th></th>\n",
       "      <th></th>\n",
       "      <th></th>\n",
       "      <th></th>\n",
       "      <th></th>\n",
       "      <th></th>\n",
       "      <th></th>\n",
       "      <th></th>\n",
       "      <th></th>\n",
       "      <th></th>\n",
       "    </tr>\n",
       "  </thead>\n",
       "  <tbody>\n",
       "    <tr>\n",
       "      <th>0 days 00:00:00</th>\n",
       "      <td>-4.368126</td>\n",
       "      <td>56.778511</td>\n",
       "      <td>-4.357695</td>\n",
       "      <td>56.758063</td>\n",
       "      <td>94.737781</td>\n",
       "      <td>1.211079</td>\n",
       "      <td>-2.349968</td>\n",
       "      <td>0.0</td>\n",
       "      <td>0.0</td>\n",
       "      <td>0.0</td>\n",
       "      <td>...</td>\n",
       "      <td>0.0</td>\n",
       "      <td>0.0</td>\n",
       "      <td>0.0</td>\n",
       "      <td>0.0</td>\n",
       "      <td>0.0</td>\n",
       "      <td>0.0</td>\n",
       "      <td>0.0</td>\n",
       "      <td>0.0</td>\n",
       "      <td>-7.5</td>\n",
       "      <td>52.5</td>\n",
       "    </tr>\n",
       "    <tr>\n",
       "      <th>0 days 00:00:00.001000</th>\n",
       "      <td>-4.367445</td>\n",
       "      <td>56.776709</td>\n",
       "      <td>-4.356471</td>\n",
       "      <td>56.755696</td>\n",
       "      <td>94.736662</td>\n",
       "      <td>1.236134</td>\n",
       "      <td>-2.383193</td>\n",
       "      <td>0.0</td>\n",
       "      <td>0.0</td>\n",
       "      <td>0.0</td>\n",
       "      <td>...</td>\n",
       "      <td>0.0</td>\n",
       "      <td>0.0</td>\n",
       "      <td>0.0</td>\n",
       "      <td>0.0</td>\n",
       "      <td>0.0</td>\n",
       "      <td>0.0</td>\n",
       "      <td>0.0</td>\n",
       "      <td>0.0</td>\n",
       "      <td>-7.5</td>\n",
       "      <td>52.5</td>\n",
       "    </tr>\n",
       "    <tr>\n",
       "      <th>0 days 00:00:00.002000</th>\n",
       "      <td>-4.366716</td>\n",
       "      <td>56.774849</td>\n",
       "      <td>-4.355222</td>\n",
       "      <td>56.753297</td>\n",
       "      <td>94.735519</td>\n",
       "      <td>1.260579</td>\n",
       "      <td>-2.415633</td>\n",
       "      <td>0.0</td>\n",
       "      <td>0.0</td>\n",
       "      <td>0.0</td>\n",
       "      <td>...</td>\n",
       "      <td>0.0</td>\n",
       "      <td>0.0</td>\n",
       "      <td>0.0</td>\n",
       "      <td>0.0</td>\n",
       "      <td>0.0</td>\n",
       "      <td>0.0</td>\n",
       "      <td>0.0</td>\n",
       "      <td>0.0</td>\n",
       "      <td>-7.5</td>\n",
       "      <td>52.5</td>\n",
       "    </tr>\n",
       "    <tr>\n",
       "      <th>0 days 00:00:00.003000</th>\n",
       "      <td>-4.365940</td>\n",
       "      <td>56.772930</td>\n",
       "      <td>-4.353950</td>\n",
       "      <td>56.750865</td>\n",
       "      <td>94.734355</td>\n",
       "      <td>1.284410</td>\n",
       "      <td>-2.447283</td>\n",
       "      <td>0.0</td>\n",
       "      <td>0.0</td>\n",
       "      <td>0.0</td>\n",
       "      <td>...</td>\n",
       "      <td>0.0</td>\n",
       "      <td>0.0</td>\n",
       "      <td>0.0</td>\n",
       "      <td>0.0</td>\n",
       "      <td>0.0</td>\n",
       "      <td>0.0</td>\n",
       "      <td>0.0</td>\n",
       "      <td>0.0</td>\n",
       "      <td>-7.5</td>\n",
       "      <td>52.5</td>\n",
       "    </tr>\n",
       "    <tr>\n",
       "      <th>0 days 00:00:00.004000</th>\n",
       "      <td>-4.365118</td>\n",
       "      <td>56.770954</td>\n",
       "      <td>-4.352654</td>\n",
       "      <td>56.748402</td>\n",
       "      <td>94.733168</td>\n",
       "      <td>1.307626</td>\n",
       "      <td>-2.478143</td>\n",
       "      <td>0.0</td>\n",
       "      <td>0.0</td>\n",
       "      <td>0.0</td>\n",
       "      <td>...</td>\n",
       "      <td>0.0</td>\n",
       "      <td>0.0</td>\n",
       "      <td>0.0</td>\n",
       "      <td>0.0</td>\n",
       "      <td>0.0</td>\n",
       "      <td>0.0</td>\n",
       "      <td>0.0</td>\n",
       "      <td>0.0</td>\n",
       "      <td>-7.5</td>\n",
       "      <td>52.5</td>\n",
       "    </tr>\n",
       "    <tr>\n",
       "      <th>...</th>\n",
       "      <td>...</td>\n",
       "      <td>...</td>\n",
       "      <td>...</td>\n",
       "      <td>...</td>\n",
       "      <td>...</td>\n",
       "      <td>...</td>\n",
       "      <td>...</td>\n",
       "      <td>...</td>\n",
       "      <td>...</td>\n",
       "      <td>...</td>\n",
       "      <td>...</td>\n",
       "      <td>...</td>\n",
       "      <td>...</td>\n",
       "      <td>...</td>\n",
       "      <td>...</td>\n",
       "      <td>...</td>\n",
       "      <td>...</td>\n",
       "      <td>...</td>\n",
       "      <td>...</td>\n",
       "      <td>...</td>\n",
       "      <td>...</td>\n",
       "    </tr>\n",
       "    <tr>\n",
       "      <th>0 days 00:00:00.597000</th>\n",
       "      <td>3.592264</td>\n",
       "      <td>53.162740</td>\n",
       "      <td>4.471563</td>\n",
       "      <td>53.186858</td>\n",
       "      <td>95.740481</td>\n",
       "      <td>116.948651</td>\n",
       "      <td>-8.518965</td>\n",
       "      <td>0.0</td>\n",
       "      <td>0.0</td>\n",
       "      <td>0.0</td>\n",
       "      <td>...</td>\n",
       "      <td>0.0</td>\n",
       "      <td>0.0</td>\n",
       "      <td>0.0</td>\n",
       "      <td>0.0</td>\n",
       "      <td>0.0</td>\n",
       "      <td>0.0</td>\n",
       "      <td>0.0</td>\n",
       "      <td>0.0</td>\n",
       "      <td>52.5</td>\n",
       "      <td>67.5</td>\n",
       "    </tr>\n",
       "    <tr>\n",
       "      <th>0 days 00:00:00.598000</th>\n",
       "      <td>3.696196</td>\n",
       "      <td>53.156422</td>\n",
       "      <td>4.589246</td>\n",
       "      <td>53.178361</td>\n",
       "      <td>95.745555</td>\n",
       "      <td>118.421036</td>\n",
       "      <td>-8.472949</td>\n",
       "      <td>0.0</td>\n",
       "      <td>0.0</td>\n",
       "      <td>0.0</td>\n",
       "      <td>...</td>\n",
       "      <td>0.0</td>\n",
       "      <td>0.0</td>\n",
       "      <td>0.0</td>\n",
       "      <td>0.0</td>\n",
       "      <td>0.0</td>\n",
       "      <td>0.0</td>\n",
       "      <td>0.0</td>\n",
       "      <td>0.0</td>\n",
       "      <td>52.5</td>\n",
       "      <td>67.5</td>\n",
       "    </tr>\n",
       "    <tr>\n",
       "      <th>0 days 00:00:00.599000</th>\n",
       "      <td>3.801645</td>\n",
       "      <td>53.150114</td>\n",
       "      <td>4.708405</td>\n",
       "      <td>53.169912</td>\n",
       "      <td>95.750423</td>\n",
       "      <td>119.899329</td>\n",
       "      <td>-8.425221</td>\n",
       "      <td>0.0</td>\n",
       "      <td>0.0</td>\n",
       "      <td>0.0</td>\n",
       "      <td>...</td>\n",
       "      <td>1.0</td>\n",
       "      <td>0.0</td>\n",
       "      <td>0.0</td>\n",
       "      <td>0.0</td>\n",
       "      <td>0.0</td>\n",
       "      <td>0.0</td>\n",
       "      <td>0.0</td>\n",
       "      <td>0.0</td>\n",
       "      <td>52.5</td>\n",
       "      <td>67.5</td>\n",
       "    </tr>\n",
       "    <tr>\n",
       "      <th>0 days 00:00:00.600000</th>\n",
       "      <td>3.908635</td>\n",
       "      <td>53.143808</td>\n",
       "      <td>4.829045</td>\n",
       "      <td>53.161511</td>\n",
       "      <td>95.755097</td>\n",
       "      <td>121.383319</td>\n",
       "      <td>-8.375731</td>\n",
       "      <td>0.0</td>\n",
       "      <td>0.0</td>\n",
       "      <td>0.0</td>\n",
       "      <td>...</td>\n",
       "      <td>0.0</td>\n",
       "      <td>0.0</td>\n",
       "      <td>0.0</td>\n",
       "      <td>0.0</td>\n",
       "      <td>0.0</td>\n",
       "      <td>0.0</td>\n",
       "      <td>0.0</td>\n",
       "      <td>0.0</td>\n",
       "      <td>52.5</td>\n",
       "      <td>67.5</td>\n",
       "    </tr>\n",
       "    <tr>\n",
       "      <th>0 days 00:00:01.800000</th>\n",
       "      <td>29.491933</td>\n",
       "      <td>71.684603</td>\n",
       "      <td>27.019079</td>\n",
       "      <td>72.335210</td>\n",
       "      <td>96.913820</td>\n",
       "      <td>-349.881879</td>\n",
       "      <td>94.394634</td>\n",
       "      <td>0.0</td>\n",
       "      <td>0.0</td>\n",
       "      <td>0.0</td>\n",
       "      <td>...</td>\n",
       "      <td>0.0</td>\n",
       "      <td>0.0</td>\n",
       "      <td>0.0</td>\n",
       "      <td>0.0</td>\n",
       "      <td>0.0</td>\n",
       "      <td>0.0</td>\n",
       "      <td>0.0</td>\n",
       "      <td>0.0</td>\n",
       "      <td>-37.5</td>\n",
       "      <td>82.5</td>\n",
       "    </tr>\n",
       "  </tbody>\n",
       "</table>\n",
       "<p>602 rows × 139 columns</p>\n",
       "</div>"
      ],
      "text/plain": [
       "signal_type            cursor_pos            finger_pos                        \\\n",
       "channel                         x          y          x          y          z   \n",
       "clock_time                                                                      \n",
       "0 days 00:00:00         -4.368126  56.778511  -4.357695  56.758063  94.737781   \n",
       "0 days 00:00:00.001000  -4.367445  56.776709  -4.356471  56.755696  94.736662   \n",
       "0 days 00:00:00.002000  -4.366716  56.774849  -4.355222  56.753297  94.735519   \n",
       "0 days 00:00:00.003000  -4.365940  56.772930  -4.353950  56.750865  94.734355   \n",
       "0 days 00:00:00.004000  -4.365118  56.770954  -4.352654  56.748402  94.733168   \n",
       "...                           ...        ...        ...        ...        ...   \n",
       "0 days 00:00:00.597000   3.592264  53.162740   4.471563  53.186858  95.740481   \n",
       "0 days 00:00:00.598000   3.696196  53.156422   4.589246  53.178361  95.745555   \n",
       "0 days 00:00:00.599000   3.801645  53.150114   4.708405  53.169912  95.750423   \n",
       "0 days 00:00:00.600000   3.908635  53.143808   4.829045  53.161511  95.755097   \n",
       "0 days 00:00:01.800000  29.491933  71.684603  27.019079  72.335210  96.913820   \n",
       "\n",
       "signal_type             finger_vel            spikes            ...            \\\n",
       "channel                          x          y    201  203  204  ... 9201 9203   \n",
       "clock_time                                                      ...             \n",
       "0 days 00:00:00           1.211079  -2.349968    0.0  0.0  0.0  ...  0.0  0.0   \n",
       "0 days 00:00:00.001000    1.236134  -2.383193    0.0  0.0  0.0  ...  0.0  0.0   \n",
       "0 days 00:00:00.002000    1.260579  -2.415633    0.0  0.0  0.0  ...  0.0  0.0   \n",
       "0 days 00:00:00.003000    1.284410  -2.447283    0.0  0.0  0.0  ...  0.0  0.0   \n",
       "0 days 00:00:00.004000    1.307626  -2.478143    0.0  0.0  0.0  ...  0.0  0.0   \n",
       "...                            ...        ...    ...  ...  ...  ...  ...  ...   \n",
       "0 days 00:00:00.597000  116.948651  -8.518965    0.0  0.0  0.0  ...  0.0  0.0   \n",
       "0 days 00:00:00.598000  118.421036  -8.472949    0.0  0.0  0.0  ...  0.0  0.0   \n",
       "0 days 00:00:00.599000  119.899329  -8.425221    0.0  0.0  0.0  ...  1.0  0.0   \n",
       "0 days 00:00:00.600000  121.383319  -8.375731    0.0  0.0  0.0  ...  0.0  0.0   \n",
       "0 days 00:00:01.800000 -349.881879  94.394634    0.0  0.0  0.0  ...  0.0  0.0   \n",
       "\n",
       "signal_type                                          target_pos        \n",
       "channel                9301 9403 9501 9502 9601 9602          x     y  \n",
       "clock_time                                                             \n",
       "0 days 00:00:00         0.0  0.0  0.0  0.0  0.0  0.0       -7.5  52.5  \n",
       "0 days 00:00:00.001000  0.0  0.0  0.0  0.0  0.0  0.0       -7.5  52.5  \n",
       "0 days 00:00:00.002000  0.0  0.0  0.0  0.0  0.0  0.0       -7.5  52.5  \n",
       "0 days 00:00:00.003000  0.0  0.0  0.0  0.0  0.0  0.0       -7.5  52.5  \n",
       "0 days 00:00:00.004000  0.0  0.0  0.0  0.0  0.0  0.0       -7.5  52.5  \n",
       "...                     ...  ...  ...  ...  ...  ...        ...   ...  \n",
       "0 days 00:00:00.597000  0.0  0.0  0.0  0.0  0.0  0.0       52.5  67.5  \n",
       "0 days 00:00:00.598000  0.0  0.0  0.0  0.0  0.0  0.0       52.5  67.5  \n",
       "0 days 00:00:00.599000  0.0  0.0  0.0  0.0  0.0  0.0       52.5  67.5  \n",
       "0 days 00:00:00.600000  0.0  0.0  0.0  0.0  0.0  0.0       52.5  67.5  \n",
       "0 days 00:00:01.800000  0.0  0.0  0.0  0.0  0.0  0.0      -37.5  82.5  \n",
       "\n",
       "[602 rows x 139 columns]"
      ]
     },
     "execution_count": 21,
     "metadata": {},
     "output_type": "execute_result"
    }
   ],
   "source": [
    "trdat = dataset.data.iloc[np.r_[(*trainindices,)]]\n",
    "trdat[:602]"
   ]
  },
  {
   "cell_type": "code",
   "execution_count": 22,
   "metadata": {},
   "outputs": [
    {
     "name": "stdout",
     "output_type": "stream",
     "text": [
      "TimedeltaIndex(['0 days 00:00:00.252000', '0 days 00:00:01.800000',\n",
      "                '0 days 00:00:02.712000', '0 days 00:00:03.952000',\n",
      "                '0 days 00:00:05.400000', '0 days 00:00:06.364000',\n",
      "                '0 days 00:00:07.672000', '0 days 00:00:09.600000',\n",
      "                '0 days 00:00:10.220000', '0 days 00:00:11.400000',\n",
      "                ...\n",
      "                '0 days 00:10:35.864000', '0 days 00:10:36.940000',\n",
      "                '0 days 00:10:38.236000', '0 days 00:10:39.296000',\n",
      "                '0 days 00:10:40.652000', '0 days 00:10:41.644000',\n",
      "                '0 days 00:10:43.500000', '0 days 00:10:43.732000',\n",
      "                '0 days 00:10:46.500000', '0 days 00:10:47.924000'],\n",
      "               dtype='timedelta64[ns]', name='clock_time', length=529, freq=None)\n",
      "529\n"
     ]
    }
   ],
   "source": [
    "## Make trial data\n",
    "# Find when target pos changes\n",
    "trhas_change = trdat.target_pos.fillna(-1000).diff(axis=0).any(axis=1) # filling NaNs with arbitrary scalar to treat as one block\n",
    "print(trhas_change.index[trhas_change.to_numpy()]) # Times when a change occurs (i.e. when previous one is different, time given)\n",
    "print(trhas_change.to_numpy().nonzero()[0].size) # Number of changes"
   ]
  },
  {
   "cell_type": "code",
   "execution_count": 23,
   "metadata": {},
   "outputs": [
    {
     "name": "stdout",
     "output_type": "stream",
     "text": [
      "(array([], dtype=int64),)\n",
      "[]\n",
      "clock_time\n",
      "0 days 00:00:00.252000    False\n",
      "0 days 00:00:01.800000    False\n",
      "0 days 00:00:02.712000    False\n",
      "0 days 00:00:03.952000    False\n",
      "0 days 00:00:05.400000    False\n",
      "                          ...  \n",
      "0 days 00:10:41.644000    False\n",
      "0 days 00:10:43.500000    False\n",
      "0 days 00:10:43.732000    False\n",
      "0 days 00:10:46.500000    False\n",
      "0 days 00:10:47.924000    False\n",
      "Length: 529, dtype: bool\n"
     ]
    }
   ],
   "source": [
    "# Find if target pos change corresponds to NaN-padded gap between files\n",
    "trchange_nan = trdat[trhas_change].isna().any(axis=1) # Of all data entries where change, where now at NaN, marked as True\n",
    "print(trchange_nan.to_numpy().nonzero()) # Indices (within array of changes) where NaN padding ends\n",
    "print(trhas_change.to_numpy().nonzero()[0][trchange_nan.to_numpy()]) # Timestamps of end of NaN padding\n",
    "print(trchange_nan)"
   ]
  },
  {
   "cell_type": "code",
   "execution_count": 329,
   "metadata": {},
   "outputs": [
    {
     "name": "stdout",
     "output_type": "stream",
     "text": [
      "clock_time\n",
      "0 days 00:00:00.252000     True\n",
      "0 days 00:00:01.800000    False\n",
      "0 days 00:00:02.712000    False\n",
      "0 days 00:00:03.952000    False\n",
      "0 days 00:00:05.400000    False\n",
      "                          ...  \n",
      "0 days 00:10:40.652000    False\n",
      "0 days 00:10:41.644000    False\n",
      "0 days 00:10:43.500000    False\n",
      "0 days 00:10:43.732000    False\n",
      "0 days 00:10:46.500000    False\n",
      "Length: 528, dtype: bool\n",
      "(array([0]),)\n"
     ]
    }
   ],
   "source": [
    "# Drop trials containing the gap and immediately before and after, as those trials may be cut short\n",
    "trdrop_trial = (trchange_nan | trchange_nan.shift(1, fill_value=True) | trchange_nan.shift(-1, fill_value=True))[:-1]\n",
    "print(trdrop_trial)\n",
    "print(trdrop_trial.to_numpy().nonzero())"
   ]
  },
  {
   "cell_type": "code",
   "execution_count": 330,
   "metadata": {},
   "outputs": [],
   "source": [
    "# Add start and end times to trial info\n",
    "trchange_times = trdat.index[trhas_change]\n",
    "trstart_times = trchange_times[:-1][~trdrop_trial]\n",
    "trend_times = trchange_times[1:][~trdrop_trial]"
   ]
  },
  {
   "cell_type": "code",
   "execution_count": 331,
   "metadata": {},
   "outputs": [
    {
     "name": "stdout",
     "output_type": "stream",
     "text": [
      "TimedeltaIndex(['0 days 00:00:00.252000', '0 days 00:00:01.800000',\n",
      "                '0 days 00:00:02.712000', '0 days 00:00:03.952000',\n",
      "                '0 days 00:00:05.400000', '0 days 00:00:06.364000',\n",
      "                '0 days 00:00:07.672000', '0 days 00:00:09.600000',\n",
      "                '0 days 00:00:10.220000', '0 days 00:00:11.400000',\n",
      "                ...\n",
      "                '0 days 00:10:35.864000', '0 days 00:10:36.940000',\n",
      "                '0 days 00:10:38.236000', '0 days 00:10:39.296000',\n",
      "                '0 days 00:10:40.652000', '0 days 00:10:41.644000',\n",
      "                '0 days 00:10:43.500000', '0 days 00:10:43.732000',\n",
      "                '0 days 00:10:46.500000', '0 days 00:10:47.924000'],\n",
      "               dtype='timedelta64[ns]', name='clock_time', length=529, freq=None)\n",
      "TimedeltaIndex(['0 days 00:00:00.252000', '0 days 00:00:01.352000',\n",
      "                '0 days 00:00:02.712000', '0 days 00:00:03.952000',\n",
      "                '0 days 00:00:05.112000', '0 days 00:00:06.364000',\n",
      "                '0 days 00:00:07.672000', '0 days 00:00:09.064000',\n",
      "                '0 days 00:00:10.220000', '0 days 00:00:11.300000',\n",
      "                ...\n",
      "                '0 days 00:10:36.940000', '0 days 00:10:38.236000',\n",
      "                '0 days 00:10:39.296000', '0 days 00:10:40.652000',\n",
      "                '0 days 00:10:41.644000', '0 days 00:10:42.864000',\n",
      "                '0 days 00:10:43.732000', '0 days 00:10:46.496000',\n",
      "                '0 days 00:10:47.924000', '0 days 00:10:48.984000'],\n",
      "               dtype='timedelta64[ns]', name='clock_time', length=551, freq=None)\n"
     ]
    }
   ],
   "source": [
    "print(trchange_times)\n",
    "print(change_times)"
   ]
  },
  {
   "cell_type": "code",
   "execution_count": 332,
   "metadata": {},
   "outputs": [],
   "source": [
    "# Get target position per trial\n",
    "trtarget_pos = trdat.target_pos.loc[trstart_times].to_numpy().tolist()"
   ]
  },
  {
   "cell_type": "code",
   "execution_count": 333,
   "metadata": {},
   "outputs": [],
   "source": [
    "# Compute reach distance and angle\n",
    "reach_dist = dataset.data.target_pos.loc[end_times - pd.Timedelta(1, 'ms')].to_numpy() - dataset.data.target_pos.loc[start_times - pd.Timedelta(1, 'ms')].to_numpy()\n",
    "reach_angle = np.arctan2(reach_dist[:, 1], reach_dist[:, 0]) / np.pi * 180\n",
    "# Create trial info\n",
    "dataset.trial_info = pd.DataFrame({\n",
    "    'trial_id': np.arange(len(start_times)),\n",
    "    'start_time': start_times,\n",
    "    'end_time': end_times,\n",
    "    'target_pos': target_pos,\n",
    "    'reach_dist_x': reach_dist[:, 0],\n",
    "    'reach_dist_y': reach_dist[:, 1],\n",
    "    'reach_angle': reach_angle,\n",
    "})"
   ]
  },
  {
   "cell_type": "code",
   "execution_count": 334,
   "metadata": {},
   "outputs": [
    {
     "data": {
      "text/html": [
       "<div>\n",
       "<style scoped>\n",
       "    .dataframe tbody tr th:only-of-type {\n",
       "        vertical-align: middle;\n",
       "    }\n",
       "\n",
       "    .dataframe tbody tr th {\n",
       "        vertical-align: top;\n",
       "    }\n",
       "\n",
       "    .dataframe thead th {\n",
       "        text-align: right;\n",
       "    }\n",
       "</style>\n",
       "<table border=\"1\" class=\"dataframe\">\n",
       "  <thead>\n",
       "    <tr style=\"text-align: right;\">\n",
       "      <th>channel</th>\n",
       "      <th>x</th>\n",
       "      <th>y</th>\n",
       "    </tr>\n",
       "    <tr>\n",
       "      <th>clock_time</th>\n",
       "      <th></th>\n",
       "      <th></th>\n",
       "    </tr>\n",
       "  </thead>\n",
       "  <tbody>\n",
       "    <tr>\n",
       "      <th>0 days 00:00:00</th>\n",
       "      <td>-7.5</td>\n",
       "      <td>52.5</td>\n",
       "    </tr>\n",
       "    <tr>\n",
       "      <th>0 days 00:00:00.001000</th>\n",
       "      <td>-7.5</td>\n",
       "      <td>52.5</td>\n",
       "    </tr>\n",
       "    <tr>\n",
       "      <th>0 days 00:00:00.002000</th>\n",
       "      <td>-7.5</td>\n",
       "      <td>52.5</td>\n",
       "    </tr>\n",
       "    <tr>\n",
       "      <th>0 days 00:00:00.003000</th>\n",
       "      <td>-7.5</td>\n",
       "      <td>52.5</td>\n",
       "    </tr>\n",
       "    <tr>\n",
       "      <th>0 days 00:00:00.004000</th>\n",
       "      <td>-7.5</td>\n",
       "      <td>52.5</td>\n",
       "    </tr>\n",
       "    <tr>\n",
       "      <th>...</th>\n",
       "      <td>...</td>\n",
       "      <td>...</td>\n",
       "    </tr>\n",
       "    <tr>\n",
       "      <th>0 days 00:10:49.095000</th>\n",
       "      <td>37.5</td>\n",
       "      <td>82.5</td>\n",
       "    </tr>\n",
       "    <tr>\n",
       "      <th>0 days 00:10:49.096000</th>\n",
       "      <td>37.5</td>\n",
       "      <td>82.5</td>\n",
       "    </tr>\n",
       "    <tr>\n",
       "      <th>0 days 00:10:49.097000</th>\n",
       "      <td>37.5</td>\n",
       "      <td>82.5</td>\n",
       "    </tr>\n",
       "    <tr>\n",
       "      <th>0 days 00:10:49.098000</th>\n",
       "      <td>37.5</td>\n",
       "      <td>82.5</td>\n",
       "    </tr>\n",
       "    <tr>\n",
       "      <th>0 days 00:10:49.099000</th>\n",
       "      <td>37.5</td>\n",
       "      <td>82.5</td>\n",
       "    </tr>\n",
       "  </tbody>\n",
       "</table>\n",
       "<p>649100 rows × 2 columns</p>\n",
       "</div>"
      ],
      "text/plain": [
       "channel                    x     y\n",
       "clock_time                        \n",
       "0 days 00:00:00         -7.5  52.5\n",
       "0 days 00:00:00.001000  -7.5  52.5\n",
       "0 days 00:00:00.002000  -7.5  52.5\n",
       "0 days 00:00:00.003000  -7.5  52.5\n",
       "0 days 00:00:00.004000  -7.5  52.5\n",
       "...                      ...   ...\n",
       "0 days 00:10:49.095000  37.5  82.5\n",
       "0 days 00:10:49.096000  37.5  82.5\n",
       "0 days 00:10:49.097000  37.5  82.5\n",
       "0 days 00:10:49.098000  37.5  82.5\n",
       "0 days 00:10:49.099000  37.5  82.5\n",
       "\n",
       "[649100 rows x 2 columns]"
      ]
     },
     "execution_count": 334,
     "metadata": {},
     "output_type": "execute_result"
    }
   ],
   "source": [
    "dataset.data.target_pos"
   ]
  },
  {
   "cell_type": "code",
   "execution_count": 335,
   "metadata": {},
   "outputs": [
    {
     "data": {
      "text/html": [
       "<div>\n",
       "<style scoped>\n",
       "    .dataframe tbody tr th:only-of-type {\n",
       "        vertical-align: middle;\n",
       "    }\n",
       "\n",
       "    .dataframe tbody tr th {\n",
       "        vertical-align: top;\n",
       "    }\n",
       "\n",
       "    .dataframe thead th {\n",
       "        text-align: right;\n",
       "    }\n",
       "</style>\n",
       "<table border=\"1\" class=\"dataframe\">\n",
       "  <thead>\n",
       "    <tr style=\"text-align: right;\">\n",
       "      <th>channel</th>\n",
       "      <th>x</th>\n",
       "      <th>y</th>\n",
       "    </tr>\n",
       "    <tr>\n",
       "      <th>clock_time</th>\n",
       "      <th></th>\n",
       "      <th></th>\n",
       "    </tr>\n",
       "  </thead>\n",
       "  <tbody>\n",
       "    <tr>\n",
       "      <th>0 days 00:00:00</th>\n",
       "      <td>-7.5</td>\n",
       "      <td>52.5</td>\n",
       "    </tr>\n",
       "    <tr>\n",
       "      <th>0 days 00:00:00.001000</th>\n",
       "      <td>-7.5</td>\n",
       "      <td>52.5</td>\n",
       "    </tr>\n",
       "    <tr>\n",
       "      <th>0 days 00:00:00.002000</th>\n",
       "      <td>-7.5</td>\n",
       "      <td>52.5</td>\n",
       "    </tr>\n",
       "    <tr>\n",
       "      <th>0 days 00:00:00.003000</th>\n",
       "      <td>-7.5</td>\n",
       "      <td>52.5</td>\n",
       "    </tr>\n",
       "    <tr>\n",
       "      <th>0 days 00:00:00.004000</th>\n",
       "      <td>-7.5</td>\n",
       "      <td>52.5</td>\n",
       "    </tr>\n",
       "    <tr>\n",
       "      <th>...</th>\n",
       "      <td>...</td>\n",
       "      <td>...</td>\n",
       "    </tr>\n",
       "    <tr>\n",
       "      <th>0 days 00:10:48.896000</th>\n",
       "      <td>22.5</td>\n",
       "      <td>22.5</td>\n",
       "    </tr>\n",
       "    <tr>\n",
       "      <th>0 days 00:10:48.897000</th>\n",
       "      <td>22.5</td>\n",
       "      <td>22.5</td>\n",
       "    </tr>\n",
       "    <tr>\n",
       "      <th>0 days 00:10:48.898000</th>\n",
       "      <td>22.5</td>\n",
       "      <td>22.5</td>\n",
       "    </tr>\n",
       "    <tr>\n",
       "      <th>0 days 00:10:48.899000</th>\n",
       "      <td>22.5</td>\n",
       "      <td>22.5</td>\n",
       "    </tr>\n",
       "    <tr>\n",
       "      <th>0 days 00:10:48.900000</th>\n",
       "      <td>22.5</td>\n",
       "      <td>22.5</td>\n",
       "    </tr>\n",
       "  </tbody>\n",
       "</table>\n",
       "<p>486810 rows × 2 columns</p>\n",
       "</div>"
      ],
      "text/plain": [
       "channel                    x     y\n",
       "clock_time                        \n",
       "0 days 00:00:00         -7.5  52.5\n",
       "0 days 00:00:00.001000  -7.5  52.5\n",
       "0 days 00:00:00.002000  -7.5  52.5\n",
       "0 days 00:00:00.003000  -7.5  52.5\n",
       "0 days 00:00:00.004000  -7.5  52.5\n",
       "...                      ...   ...\n",
       "0 days 00:10:48.896000  22.5  22.5\n",
       "0 days 00:10:48.897000  22.5  22.5\n",
       "0 days 00:10:48.898000  22.5  22.5\n",
       "0 days 00:10:48.899000  22.5  22.5\n",
       "0 days 00:10:48.900000  22.5  22.5\n",
       "\n",
       "[486810 rows x 2 columns]"
      ]
     },
     "execution_count": 335,
     "metadata": {},
     "output_type": "execute_result"
    }
   ],
   "source": [
    "trdat.target_pos"
   ]
  },
  {
   "cell_type": "code",
   "execution_count": 336,
   "metadata": {},
   "outputs": [
    {
     "name": "stdout",
     "output_type": "stream",
     "text": [
      "TimedeltaIndex(['0 days 00:00:02.712000', '0 days 00:00:03.952000',\n",
      "                '0 days 00:00:05.112000', '0 days 00:00:06.364000',\n",
      "                '0 days 00:00:07.672000', '0 days 00:00:09.064000',\n",
      "                '0 days 00:00:10.220000', '0 days 00:00:11.300000',\n",
      "                '0 days 00:00:13.004000', '0 days 00:00:14.040000',\n",
      "                ...\n",
      "                '0 days 00:10:36.940000', '0 days 00:10:38.236000',\n",
      "                '0 days 00:10:39.296000', '0 days 00:10:40.652000',\n",
      "                '0 days 00:10:41.644000', '0 days 00:10:42.864000',\n",
      "                '0 days 00:10:43.732000', '0 days 00:10:46.496000',\n",
      "                '0 days 00:10:47.924000', '0 days 00:10:48.984000'],\n",
      "               dtype='timedelta64[ns]', name='clock_time', length=540, freq=None)\n"
     ]
    }
   ],
   "source": [
    "print(end_times)"
   ]
  },
  {
   "cell_type": "code",
   "execution_count": 337,
   "metadata": {},
   "outputs": [
    {
     "name": "stdout",
     "output_type": "stream",
     "text": [
      "TimedeltaIndex(['0 days 00:00:02.712000', '0 days 00:00:03.952000',\n",
      "                '0 days 00:00:05.400000', '0 days 00:00:06.364000',\n",
      "                '0 days 00:00:07.672000', '0 days 00:00:09.600000',\n",
      "                '0 days 00:00:10.220000', '0 days 00:00:11.400000',\n",
      "                '0 days 00:00:13.004000', '0 days 00:00:14.040000',\n",
      "                ...\n",
      "                '0 days 00:10:35.864000', '0 days 00:10:36.940000',\n",
      "                '0 days 00:10:38.236000', '0 days 00:10:39.296000',\n",
      "                '0 days 00:10:40.652000', '0 days 00:10:41.644000',\n",
      "                '0 days 00:10:43.500000', '0 days 00:10:43.732000',\n",
      "                '0 days 00:10:46.500000', '0 days 00:10:47.924000'],\n",
      "               dtype='timedelta64[ns]', name='clock_time', length=527, freq=None)\n"
     ]
    }
   ],
   "source": [
    "print(trend_times)"
   ]
  },
  {
   "cell_type": "code",
   "execution_count": 338,
   "metadata": {},
   "outputs": [
    {
     "name": "stdout",
     "output_type": "stream",
     "text": [
      "channel                    x     y\n",
      "clock_time                        \n",
      "0 days 00:00:02.711000 -37.5  82.5\n",
      "0 days 00:00:03.951000  22.5  67.5\n",
      "0 days 00:00:05.111000 -22.5   7.5\n",
      "0 days 00:00:06.363000 -52.5  67.5\n",
      "0 days 00:00:07.671000 -37.5  52.5\n",
      "...                      ...   ...\n",
      "0 days 00:10:42.863000 -52.5  82.5\n",
      "0 days 00:10:43.731000 -22.5  67.5\n",
      "0 days 00:10:46.495000  -7.5   7.5\n",
      "0 days 00:10:47.923000 -52.5  37.5\n",
      "0 days 00:10:48.983000  22.5  22.5\n",
      "\n",
      "[540 rows x 2 columns]\n"
     ]
    }
   ],
   "source": [
    "print(dataset.data.target_pos.loc[end_times - pd.Timedelta(1, 'ms')])"
   ]
  },
  {
   "cell_type": "code",
   "execution_count": 339,
   "metadata": {},
   "outputs": [
    {
     "name": "stdout",
     "output_type": "stream",
     "text": [
      "(array([  2,   5,   7,  11,  13,  15,  21,  26,  28,  35,  36,  38,  40,\n",
      "        46,  48,  51,  69,  82,  86,  91,  93,  95,  96, 101, 106, 109,\n",
      "       113, 116, 126, 127, 131, 134, 135, 139, 142, 144, 147, 155, 160,\n",
      "       162, 164, 166, 168, 169, 174, 178, 180, 188, 193, 198, 199, 202,\n",
      "       211, 217, 221, 227, 229, 230, 231, 233, 244, 251, 253, 258, 262,\n",
      "       264, 272, 273, 275, 281, 284, 295, 310, 311, 312, 314, 320, 323,\n",
      "       327, 328, 330, 335, 342, 349, 356, 361, 369, 371, 375, 380, 383,\n",
      "       387, 388, 391, 396, 399, 406, 408, 415, 417, 419, 425, 435, 439,\n",
      "       440, 442, 452, 459, 461, 467, 468, 469, 478, 479, 484, 487, 490,\n",
      "       500, 502, 504, 510, 513, 523, 525]),)\n"
     ]
    }
   ],
   "source": [
    "print(np.logical_not(np.isin(trend_times- pd.Timedelta(1, 'ms'), trdat.index)).nonzero())"
   ]
  },
  {
   "cell_type": "code",
   "execution_count": 340,
   "metadata": {},
   "outputs": [
    {
     "name": "stdout",
     "output_type": "stream",
     "text": [
      "TimedeltaIndex(['0 days 00:00:02.712000', '0 days 00:00:03.952000',\n",
      "                '0 days 00:00:05.400000', '0 days 00:00:06.364000',\n",
      "                '0 days 00:00:07.672000', '0 days 00:00:09.600000',\n",
      "                '0 days 00:00:10.220000', '0 days 00:00:11.400000',\n",
      "                '0 days 00:00:13.004000', '0 days 00:00:14.040000',\n",
      "                ...\n",
      "                '0 days 00:10:35.864000', '0 days 00:10:36.940000',\n",
      "                '0 days 00:10:38.236000', '0 days 00:10:39.296000',\n",
      "                '0 days 00:10:40.652000', '0 days 00:10:41.644000',\n",
      "                '0 days 00:10:43.500000', '0 days 00:10:43.732000',\n",
      "                '0 days 00:10:46.500000', '0 days 00:10:47.924000'],\n",
      "               dtype='timedelta64[ns]', name='clock_time', length=527, freq=None)\n"
     ]
    }
   ],
   "source": [
    "print(trend_times)"
   ]
  },
  {
   "cell_type": "code",
   "execution_count": 312,
   "metadata": {},
   "outputs": [
    {
     "name": "stdout",
     "output_type": "stream",
     "text": [
      "TimedeltaIndex(['0 days 00:00:02.711000', '0 days 00:00:03.951000',\n",
      "                '0 days 00:00:05.399000', '0 days 00:00:06.363000',\n",
      "                '0 days 00:00:07.671000', '0 days 00:00:09.599000',\n",
      "                '0 days 00:00:10.219000', '0 days 00:00:11.399000',\n",
      "                '0 days 00:00:13.003000', '0 days 00:00:14.039000',\n",
      "                ...\n",
      "                '0 days 00:10:35.863000', '0 days 00:10:36.939000',\n",
      "                '0 days 00:10:38.235000', '0 days 00:10:39.295000',\n",
      "                '0 days 00:10:40.651000', '0 days 00:10:41.643000',\n",
      "                '0 days 00:10:43.499000', '0 days 00:10:43.731000',\n",
      "                '0 days 00:10:46.499000', '0 days 00:10:47.923000'],\n",
      "               dtype='timedelta64[ns]', name='clock_time', length=527, freq=None)\n"
     ]
    }
   ],
   "source": [
    "print(trend_times - pd.Timedelta(1, 'ms'))"
   ]
  },
  {
   "cell_type": "code",
   "execution_count": 279,
   "metadata": {},
   "outputs": [
    {
     "ename": "KeyError",
     "evalue": "\"[Timedelta('0 days 00:00:05.399000'), Timedelta('0 days 00:00:09.599000'), Timedelta('0 days 00:00:11.399000'), Timedelta('0 days 00:00:16.799000'), Timedelta('0 days 00:00:19.199000'), Timedelta('0 days 00:00:20.999000'), Timedelta('0 days 00:00:27.599000'), Timedelta('0 days 00:00:33.599000'), Timedelta('0 days 00:00:36.599000'), Timedelta('0 days 00:00:45.599000'), Timedelta('0 days 00:00:46.799000'), Timedelta('0 days 00:00:49.799000'), Timedelta('0 days 00:00:51.599000'), Timedelta('0 days 00:00:58.799000'), Timedelta('0 days 00:01:01.199000'), Timedelta('0 days 00:01:05.399000'), Timedelta('0 days 00:01:27.599000'), Timedelta('0 days 00:01:45.599000'), Timedelta('0 days 00:01:50.399000'), Timedelta('0 days 00:01:55.799000'), Timedelta('0 days 00:01:58.199000'), Timedelta('0 days 00:02:01.799000'), Timedelta('0 days 00:02:02.999000'), Timedelta('0 days 00:02:08.999000'), Timedelta('0 days 00:02:14.999000'), Timedelta('0 days 00:02:19.199000'), Timedelta('0 days 00:02:24.599000'), Timedelta('0 days 00:02:28.799000'), Timedelta('0 days 00:02:41.399000'), Timedelta('0 days 00:02:42.899000'), Timedelta('0 days 00:02:47.699000'), Timedelta('0 days 00:02:50.699000'), Timedelta('0 days 00:02:51.899000'), Timedelta('0 days 00:02:56.699000'), Timedelta('0 days 00:02:59.699000'), Timedelta('0 days 00:03:02.099000'), Timedelta('0 days 00:03:05.099000'), Timedelta('0 days 00:03:16.499000'), Timedelta('0 days 00:03:21.299000'), Timedelta('0 days 00:03:24.299000'), Timedelta('0 days 00:03:27.299000'), Timedelta('0 days 00:03:29.099000'), Timedelta('0 days 00:03:30.899000'), Timedelta('0 days 00:03:33.299000'), Timedelta('0 days 00:03:39.299000'), Timedelta('0 days 00:03:46.499000'), Timedelta('0 days 00:03:50.099000'), Timedelta('0 days 00:04:00.299000'), Timedelta('0 days 00:04:06.299000'), Timedelta('0 days 00:04:12.899000'), Timedelta('0 days 00:04:14.099000'), Timedelta('0 days 00:04:18.299000'), Timedelta('0 days 00:04:29.099000'), Timedelta('0 days 00:04:35.099000'), Timedelta('0 days 00:04:40.499000'), Timedelta('0 days 00:04:47.699000'), Timedelta('0 days 00:04:49.499000'), Timedelta('0 days 00:04:50.699000'), Timedelta('0 days 00:04:51.899000'), Timedelta('0 days 00:04:53.699000'), Timedelta('0 days 00:05:06.899000'), Timedelta('0 days 00:05:15.299000'), Timedelta('0 days 00:05:17.699000'), Timedelta('0 days 00:05:24.599000'), Timedelta('0 days 00:05:28.799000'), Timedelta('0 days 00:05:30.599000'), Timedelta('0 days 00:05:40.199000'), Timedelta('0 days 00:05:41.999000'), Timedelta('0 days 00:05:43.799000'), Timedelta('0 days 00:05:50.999000'), Timedelta('0 days 00:05:53.999000'), Timedelta('0 days 00:06:06.599000'), Timedelta('0 days 00:06:23.999000'), Timedelta('0 days 00:06:27.599000'), Timedelta('0 days 00:06:28.799000'), Timedelta('0 days 00:06:32.399000'), Timedelta('0 days 00:06:40.199000'), Timedelta('0 days 00:06:44.399000'), Timedelta('0 days 00:06:48.599000'), Timedelta('0 days 00:06:49.799000'), Timedelta('0 days 00:06:54.599000'), Timedelta('0 days 00:06:59.999000'), Timedelta('0 days 00:07:08.399000'), Timedelta('0 days 00:07:16.199000'), Timedelta('0 days 00:07:23.399000'), Timedelta('0 days 00:07:29.399000'), Timedelta('0 days 00:07:38.399000'), Timedelta('0 days 00:07:40.799000'), Timedelta('0 days 00:07:46.199000'), Timedelta('0 days 00:07:53.399000'), Timedelta('0 days 00:07:57.599000'), Timedelta('0 days 00:08:01.799000'), Timedelta('0 days 00:08:02.999000'), Timedelta('0 days 00:08:07.499000'), Timedelta('0 days 00:08:12.899000'), Timedelta('0 days 00:08:15.299000'), Timedelta('0 days 00:08:22.499000'), Timedelta('0 days 00:08:24.299000'), Timedelta('0 days 00:08:32.699000'), Timedelta('0 days 00:08:35.699000'), Timedelta('0 days 00:08:37.499000'), Timedelta('0 days 00:08:44.099000'), Timedelta('0 days 00:08:56.699000'), Timedelta('0 days 00:09:00.899000'), Timedelta('0 days 00:09:02.099000'), Timedelta('0 days 00:09:05.699000'), Timedelta('0 days 00:09:17.099000'), Timedelta('0 days 00:09:27.299000'), Timedelta('0 days 00:09:29.099000'), Timedelta('0 days 00:09:36.299000'), Timedelta('0 days 00:09:37.499000'), Timedelta('0 days 00:09:38.699000'), Timedelta('0 days 00:09:49.499000'), Timedelta('0 days 00:09:50.699000'), Timedelta('0 days 00:09:57.299000'), Timedelta('0 days 00:10:00.299000'), Timedelta('0 days 00:10:05.699000'), Timedelta('0 days 00:10:17.699000'), Timedelta('0 days 00:10:20.699000'), Timedelta('0 days 00:10:22.499000'), Timedelta('0 days 00:10:29.099000'), Timedelta('0 days 00:10:32.099000'), Timedelta('0 days 00:10:43.499000'), Timedelta('0 days 00:10:46.499000')] not in index\"",
     "output_type": "error",
     "traceback": [
      "\u001b[0;31m---------------------------------------------------------------------------\u001b[0m",
      "\u001b[0;31mKeyError\u001b[0m                                  Traceback (most recent call last)",
      "\u001b[1;32m/home/sgome/Project/Bayesian-Convolutional-Model/Simple-Model/Loading_Data.ipynb Cell 38'\u001b[0m in \u001b[0;36m<module>\u001b[0;34m\u001b[0m\n\u001b[1;32m      <a href='vscode-notebook-cell://wsl%2Bubuntu/home/sgome/Project/Bayesian-Convolutional-Model/Simple-Model/Loading_Data.ipynb#ch0000055vscode-remote?line=0'>1</a>\u001b[0m \u001b[39m# Compute reach distance and angle\u001b[39;00m\n\u001b[0;32m----> <a href='vscode-notebook-cell://wsl%2Bubuntu/home/sgome/Project/Bayesian-Convolutional-Model/Simple-Model/Loading_Data.ipynb#ch0000055vscode-remote?line=1'>2</a>\u001b[0m trreach_dist \u001b[39m=\u001b[39m trdat\u001b[39m.\u001b[39;49mtarget_pos\u001b[39m.\u001b[39;49mloc[trend_times \u001b[39m-\u001b[39;49m pd\u001b[39m.\u001b[39;49mTimedelta(\u001b[39m1\u001b[39;49m, \u001b[39m'\u001b[39;49m\u001b[39mms\u001b[39;49m\u001b[39m'\u001b[39;49m)]\u001b[39m.\u001b[39mto_numpy() \u001b[39m-\u001b[39m trdat\u001b[39m.\u001b[39mtarget_pos\u001b[39m.\u001b[39mloc[trstart_times \u001b[39m-\u001b[39m pd\u001b[39m.\u001b[39mTimedelta(\u001b[39m1\u001b[39m, \u001b[39m'\u001b[39m\u001b[39mms\u001b[39m\u001b[39m'\u001b[39m)]\u001b[39m.\u001b[39mto_numpy()\n",
      "File \u001b[0;32m~/Project/Bayesian-Convolutional-Model/Simple-Model/.venv/lib/python3.8/site-packages/pandas/core/indexing.py:931\u001b[0m, in \u001b[0;36m_LocationIndexer.__getitem__\u001b[0;34m(self, key)\u001b[0m\n\u001b[1;32m    <a href='file:///home/sgome/Project/Bayesian-Convolutional-Model/Simple-Model/.venv/lib/python3.8/site-packages/pandas/core/indexing.py?line=927'>928</a>\u001b[0m axis \u001b[39m=\u001b[39m \u001b[39mself\u001b[39m\u001b[39m.\u001b[39maxis \u001b[39mor\u001b[39;00m \u001b[39m0\u001b[39m\n\u001b[1;32m    <a href='file:///home/sgome/Project/Bayesian-Convolutional-Model/Simple-Model/.venv/lib/python3.8/site-packages/pandas/core/indexing.py?line=929'>930</a>\u001b[0m maybe_callable \u001b[39m=\u001b[39m com\u001b[39m.\u001b[39mapply_if_callable(key, \u001b[39mself\u001b[39m\u001b[39m.\u001b[39mobj)\n\u001b[0;32m--> <a href='file:///home/sgome/Project/Bayesian-Convolutional-Model/Simple-Model/.venv/lib/python3.8/site-packages/pandas/core/indexing.py?line=930'>931</a>\u001b[0m \u001b[39mreturn\u001b[39;00m \u001b[39mself\u001b[39;49m\u001b[39m.\u001b[39;49m_getitem_axis(maybe_callable, axis\u001b[39m=\u001b[39;49maxis)\n",
      "File \u001b[0;32m~/Project/Bayesian-Convolutional-Model/Simple-Model/.venv/lib/python3.8/site-packages/pandas/core/indexing.py:1153\u001b[0m, in \u001b[0;36m_LocIndexer._getitem_axis\u001b[0;34m(self, key, axis)\u001b[0m\n\u001b[1;32m   <a href='file:///home/sgome/Project/Bayesian-Convolutional-Model/Simple-Model/.venv/lib/python3.8/site-packages/pandas/core/indexing.py?line=1149'>1150</a>\u001b[0m     \u001b[39mif\u001b[39;00m \u001b[39mhasattr\u001b[39m(key, \u001b[39m\"\u001b[39m\u001b[39mndim\u001b[39m\u001b[39m\"\u001b[39m) \u001b[39mand\u001b[39;00m key\u001b[39m.\u001b[39mndim \u001b[39m>\u001b[39m \u001b[39m1\u001b[39m:\n\u001b[1;32m   <a href='file:///home/sgome/Project/Bayesian-Convolutional-Model/Simple-Model/.venv/lib/python3.8/site-packages/pandas/core/indexing.py?line=1150'>1151</a>\u001b[0m         \u001b[39mraise\u001b[39;00m \u001b[39mValueError\u001b[39;00m(\u001b[39m\"\u001b[39m\u001b[39mCannot index with multidimensional key\u001b[39m\u001b[39m\"\u001b[39m)\n\u001b[0;32m-> <a href='file:///home/sgome/Project/Bayesian-Convolutional-Model/Simple-Model/.venv/lib/python3.8/site-packages/pandas/core/indexing.py?line=1152'>1153</a>\u001b[0m     \u001b[39mreturn\u001b[39;00m \u001b[39mself\u001b[39;49m\u001b[39m.\u001b[39;49m_getitem_iterable(key, axis\u001b[39m=\u001b[39;49maxis)\n\u001b[1;32m   <a href='file:///home/sgome/Project/Bayesian-Convolutional-Model/Simple-Model/.venv/lib/python3.8/site-packages/pandas/core/indexing.py?line=1154'>1155</a>\u001b[0m \u001b[39m# nested tuple slicing\u001b[39;00m\n\u001b[1;32m   <a href='file:///home/sgome/Project/Bayesian-Convolutional-Model/Simple-Model/.venv/lib/python3.8/site-packages/pandas/core/indexing.py?line=1155'>1156</a>\u001b[0m \u001b[39mif\u001b[39;00m is_nested_tuple(key, labels):\n",
      "File \u001b[0;32m~/Project/Bayesian-Convolutional-Model/Simple-Model/.venv/lib/python3.8/site-packages/pandas/core/indexing.py:1093\u001b[0m, in \u001b[0;36m_LocIndexer._getitem_iterable\u001b[0;34m(self, key, axis)\u001b[0m\n\u001b[1;32m   <a href='file:///home/sgome/Project/Bayesian-Convolutional-Model/Simple-Model/.venv/lib/python3.8/site-packages/pandas/core/indexing.py?line=1089'>1090</a>\u001b[0m \u001b[39mself\u001b[39m\u001b[39m.\u001b[39m_validate_key(key, axis)\n\u001b[1;32m   <a href='file:///home/sgome/Project/Bayesian-Convolutional-Model/Simple-Model/.venv/lib/python3.8/site-packages/pandas/core/indexing.py?line=1091'>1092</a>\u001b[0m \u001b[39m# A collection of keys\u001b[39;00m\n\u001b[0;32m-> <a href='file:///home/sgome/Project/Bayesian-Convolutional-Model/Simple-Model/.venv/lib/python3.8/site-packages/pandas/core/indexing.py?line=1092'>1093</a>\u001b[0m keyarr, indexer \u001b[39m=\u001b[39m \u001b[39mself\u001b[39;49m\u001b[39m.\u001b[39;49m_get_listlike_indexer(key, axis)\n\u001b[1;32m   <a href='file:///home/sgome/Project/Bayesian-Convolutional-Model/Simple-Model/.venv/lib/python3.8/site-packages/pandas/core/indexing.py?line=1093'>1094</a>\u001b[0m \u001b[39mreturn\u001b[39;00m \u001b[39mself\u001b[39m\u001b[39m.\u001b[39mobj\u001b[39m.\u001b[39m_reindex_with_indexers(\n\u001b[1;32m   <a href='file:///home/sgome/Project/Bayesian-Convolutional-Model/Simple-Model/.venv/lib/python3.8/site-packages/pandas/core/indexing.py?line=1094'>1095</a>\u001b[0m     {axis: [keyarr, indexer]}, copy\u001b[39m=\u001b[39m\u001b[39mTrue\u001b[39;00m, allow_dups\u001b[39m=\u001b[39m\u001b[39mTrue\u001b[39;00m\n\u001b[1;32m   <a href='file:///home/sgome/Project/Bayesian-Convolutional-Model/Simple-Model/.venv/lib/python3.8/site-packages/pandas/core/indexing.py?line=1095'>1096</a>\u001b[0m )\n",
      "File \u001b[0;32m~/Project/Bayesian-Convolutional-Model/Simple-Model/.venv/lib/python3.8/site-packages/pandas/core/indexing.py:1314\u001b[0m, in \u001b[0;36m_LocIndexer._get_listlike_indexer\u001b[0;34m(self, key, axis)\u001b[0m\n\u001b[1;32m   <a href='file:///home/sgome/Project/Bayesian-Convolutional-Model/Simple-Model/.venv/lib/python3.8/site-packages/pandas/core/indexing.py?line=1310'>1311</a>\u001b[0m \u001b[39melse\u001b[39;00m:\n\u001b[1;32m   <a href='file:///home/sgome/Project/Bayesian-Convolutional-Model/Simple-Model/.venv/lib/python3.8/site-packages/pandas/core/indexing.py?line=1311'>1312</a>\u001b[0m     keyarr, indexer, new_indexer \u001b[39m=\u001b[39m ax\u001b[39m.\u001b[39m_reindex_non_unique(keyarr)\n\u001b[0;32m-> <a href='file:///home/sgome/Project/Bayesian-Convolutional-Model/Simple-Model/.venv/lib/python3.8/site-packages/pandas/core/indexing.py?line=1313'>1314</a>\u001b[0m \u001b[39mself\u001b[39;49m\u001b[39m.\u001b[39;49m_validate_read_indexer(keyarr, indexer, axis)\n\u001b[1;32m   <a href='file:///home/sgome/Project/Bayesian-Convolutional-Model/Simple-Model/.venv/lib/python3.8/site-packages/pandas/core/indexing.py?line=1315'>1316</a>\u001b[0m \u001b[39mif\u001b[39;00m needs_i8_conversion(ax\u001b[39m.\u001b[39mdtype) \u001b[39mor\u001b[39;00m \u001b[39misinstance\u001b[39m(\n\u001b[1;32m   <a href='file:///home/sgome/Project/Bayesian-Convolutional-Model/Simple-Model/.venv/lib/python3.8/site-packages/pandas/core/indexing.py?line=1316'>1317</a>\u001b[0m     ax, (IntervalIndex, CategoricalIndex)\n\u001b[1;32m   <a href='file:///home/sgome/Project/Bayesian-Convolutional-Model/Simple-Model/.venv/lib/python3.8/site-packages/pandas/core/indexing.py?line=1317'>1318</a>\u001b[0m ):\n\u001b[1;32m   <a href='file:///home/sgome/Project/Bayesian-Convolutional-Model/Simple-Model/.venv/lib/python3.8/site-packages/pandas/core/indexing.py?line=1318'>1319</a>\u001b[0m     \u001b[39m# For CategoricalIndex take instead of reindex to preserve dtype.\u001b[39;00m\n\u001b[1;32m   <a href='file:///home/sgome/Project/Bayesian-Convolutional-Model/Simple-Model/.venv/lib/python3.8/site-packages/pandas/core/indexing.py?line=1319'>1320</a>\u001b[0m     \u001b[39m#  For IntervalIndex this is to map integers to the Intervals they match to.\u001b[39;00m\n\u001b[1;32m   <a href='file:///home/sgome/Project/Bayesian-Convolutional-Model/Simple-Model/.venv/lib/python3.8/site-packages/pandas/core/indexing.py?line=1320'>1321</a>\u001b[0m     keyarr \u001b[39m=\u001b[39m ax\u001b[39m.\u001b[39mtake(indexer)\n",
      "File \u001b[0;32m~/Project/Bayesian-Convolutional-Model/Simple-Model/.venv/lib/python3.8/site-packages/pandas/core/indexing.py:1377\u001b[0m, in \u001b[0;36m_LocIndexer._validate_read_indexer\u001b[0;34m(self, key, indexer, axis)\u001b[0m\n\u001b[1;32m   <a href='file:///home/sgome/Project/Bayesian-Convolutional-Model/Simple-Model/.venv/lib/python3.8/site-packages/pandas/core/indexing.py?line=1373'>1374</a>\u001b[0m     \u001b[39mraise\u001b[39;00m \u001b[39mKeyError\u001b[39;00m(\u001b[39mf\u001b[39m\u001b[39m\"\u001b[39m\u001b[39mNone of [\u001b[39m\u001b[39m{\u001b[39;00mkey\u001b[39m}\u001b[39;00m\u001b[39m] are in the [\u001b[39m\u001b[39m{\u001b[39;00maxis_name\u001b[39m}\u001b[39;00m\u001b[39m]\u001b[39m\u001b[39m\"\u001b[39m)\n\u001b[1;32m   <a href='file:///home/sgome/Project/Bayesian-Convolutional-Model/Simple-Model/.venv/lib/python3.8/site-packages/pandas/core/indexing.py?line=1375'>1376</a>\u001b[0m not_found \u001b[39m=\u001b[39m \u001b[39mlist\u001b[39m(ensure_index(key)[missing_mask\u001b[39m.\u001b[39mnonzero()[\u001b[39m0\u001b[39m]]\u001b[39m.\u001b[39munique())\n\u001b[0;32m-> <a href='file:///home/sgome/Project/Bayesian-Convolutional-Model/Simple-Model/.venv/lib/python3.8/site-packages/pandas/core/indexing.py?line=1376'>1377</a>\u001b[0m \u001b[39mraise\u001b[39;00m \u001b[39mKeyError\u001b[39;00m(\u001b[39mf\u001b[39m\u001b[39m\"\u001b[39m\u001b[39m{\u001b[39;00mnot_found\u001b[39m}\u001b[39;00m\u001b[39m not in index\u001b[39m\u001b[39m\"\u001b[39m)\n",
      "\u001b[0;31mKeyError\u001b[0m: \"[Timedelta('0 days 00:00:05.399000'), Timedelta('0 days 00:00:09.599000'), Timedelta('0 days 00:00:11.399000'), Timedelta('0 days 00:00:16.799000'), Timedelta('0 days 00:00:19.199000'), Timedelta('0 days 00:00:20.999000'), Timedelta('0 days 00:00:27.599000'), Timedelta('0 days 00:00:33.599000'), Timedelta('0 days 00:00:36.599000'), Timedelta('0 days 00:00:45.599000'), Timedelta('0 days 00:00:46.799000'), Timedelta('0 days 00:00:49.799000'), Timedelta('0 days 00:00:51.599000'), Timedelta('0 days 00:00:58.799000'), Timedelta('0 days 00:01:01.199000'), Timedelta('0 days 00:01:05.399000'), Timedelta('0 days 00:01:27.599000'), Timedelta('0 days 00:01:45.599000'), Timedelta('0 days 00:01:50.399000'), Timedelta('0 days 00:01:55.799000'), Timedelta('0 days 00:01:58.199000'), Timedelta('0 days 00:02:01.799000'), Timedelta('0 days 00:02:02.999000'), Timedelta('0 days 00:02:08.999000'), Timedelta('0 days 00:02:14.999000'), Timedelta('0 days 00:02:19.199000'), Timedelta('0 days 00:02:24.599000'), Timedelta('0 days 00:02:28.799000'), Timedelta('0 days 00:02:41.399000'), Timedelta('0 days 00:02:42.899000'), Timedelta('0 days 00:02:47.699000'), Timedelta('0 days 00:02:50.699000'), Timedelta('0 days 00:02:51.899000'), Timedelta('0 days 00:02:56.699000'), Timedelta('0 days 00:02:59.699000'), Timedelta('0 days 00:03:02.099000'), Timedelta('0 days 00:03:05.099000'), Timedelta('0 days 00:03:16.499000'), Timedelta('0 days 00:03:21.299000'), Timedelta('0 days 00:03:24.299000'), Timedelta('0 days 00:03:27.299000'), Timedelta('0 days 00:03:29.099000'), Timedelta('0 days 00:03:30.899000'), Timedelta('0 days 00:03:33.299000'), Timedelta('0 days 00:03:39.299000'), Timedelta('0 days 00:03:46.499000'), Timedelta('0 days 00:03:50.099000'), Timedelta('0 days 00:04:00.299000'), Timedelta('0 days 00:04:06.299000'), Timedelta('0 days 00:04:12.899000'), Timedelta('0 days 00:04:14.099000'), Timedelta('0 days 00:04:18.299000'), Timedelta('0 days 00:04:29.099000'), Timedelta('0 days 00:04:35.099000'), Timedelta('0 days 00:04:40.499000'), Timedelta('0 days 00:04:47.699000'), Timedelta('0 days 00:04:49.499000'), Timedelta('0 days 00:04:50.699000'), Timedelta('0 days 00:04:51.899000'), Timedelta('0 days 00:04:53.699000'), Timedelta('0 days 00:05:06.899000'), Timedelta('0 days 00:05:15.299000'), Timedelta('0 days 00:05:17.699000'), Timedelta('0 days 00:05:24.599000'), Timedelta('0 days 00:05:28.799000'), Timedelta('0 days 00:05:30.599000'), Timedelta('0 days 00:05:40.199000'), Timedelta('0 days 00:05:41.999000'), Timedelta('0 days 00:05:43.799000'), Timedelta('0 days 00:05:50.999000'), Timedelta('0 days 00:05:53.999000'), Timedelta('0 days 00:06:06.599000'), Timedelta('0 days 00:06:23.999000'), Timedelta('0 days 00:06:27.599000'), Timedelta('0 days 00:06:28.799000'), Timedelta('0 days 00:06:32.399000'), Timedelta('0 days 00:06:40.199000'), Timedelta('0 days 00:06:44.399000'), Timedelta('0 days 00:06:48.599000'), Timedelta('0 days 00:06:49.799000'), Timedelta('0 days 00:06:54.599000'), Timedelta('0 days 00:06:59.999000'), Timedelta('0 days 00:07:08.399000'), Timedelta('0 days 00:07:16.199000'), Timedelta('0 days 00:07:23.399000'), Timedelta('0 days 00:07:29.399000'), Timedelta('0 days 00:07:38.399000'), Timedelta('0 days 00:07:40.799000'), Timedelta('0 days 00:07:46.199000'), Timedelta('0 days 00:07:53.399000'), Timedelta('0 days 00:07:57.599000'), Timedelta('0 days 00:08:01.799000'), Timedelta('0 days 00:08:02.999000'), Timedelta('0 days 00:08:07.499000'), Timedelta('0 days 00:08:12.899000'), Timedelta('0 days 00:08:15.299000'), Timedelta('0 days 00:08:22.499000'), Timedelta('0 days 00:08:24.299000'), Timedelta('0 days 00:08:32.699000'), Timedelta('0 days 00:08:35.699000'), Timedelta('0 days 00:08:37.499000'), Timedelta('0 days 00:08:44.099000'), Timedelta('0 days 00:08:56.699000'), Timedelta('0 days 00:09:00.899000'), Timedelta('0 days 00:09:02.099000'), Timedelta('0 days 00:09:05.699000'), Timedelta('0 days 00:09:17.099000'), Timedelta('0 days 00:09:27.299000'), Timedelta('0 days 00:09:29.099000'), Timedelta('0 days 00:09:36.299000'), Timedelta('0 days 00:09:37.499000'), Timedelta('0 days 00:09:38.699000'), Timedelta('0 days 00:09:49.499000'), Timedelta('0 days 00:09:50.699000'), Timedelta('0 days 00:09:57.299000'), Timedelta('0 days 00:10:00.299000'), Timedelta('0 days 00:10:05.699000'), Timedelta('0 days 00:10:17.699000'), Timedelta('0 days 00:10:20.699000'), Timedelta('0 days 00:10:22.499000'), Timedelta('0 days 00:10:29.099000'), Timedelta('0 days 00:10:32.099000'), Timedelta('0 days 00:10:43.499000'), Timedelta('0 days 00:10:46.499000')] not in index\""
     ]
    }
   ],
   "source": [
    "# Compute reach distance and angle\n",
    "trreach_dist = trdat.target_pos.loc[trend_times - pd.Timedelta(1, 'ms')].to_numpy() - trdat.target_pos.loc[trstart_times - pd.Timedelta(1, 'ms')].to_numpy()\n",
    "# trreach_angle = np.arctan2(trreach_dist[:, 1], trreach_dist[:, 0]) / np.pi * 180\n",
    "# # Create trial info\n",
    "# trtrial_info = pd.DataFrame({\n",
    "#     'trial_id': np.arange(len(trstart_times)),\n",
    "#     'start_time': trstart_times,\n",
    "#     'end_time': trend_times,\n",
    "#     'target_pos': trtarget_pos,\n",
    "#     'reach_dist_x': trreach_dist[:, 0],\n",
    "#     'reach_dist_y': trreach_dist[:, 1],\n",
    "#     'reach_angle': trreach_angle,\n",
    "# })"
   ]
  },
  {
   "cell_type": "code",
   "execution_count": 131,
   "metadata": {},
   "outputs": [
    {
     "name": "stdout",
     "output_type": "stream",
     "text": [
      "TimedeltaIndex(['0 days 00:00:00.252000', '0 days 00:00:01.352000',\n",
      "                '0 days 00:00:02.712000', '0 days 00:00:03.952000',\n",
      "                '0 days 00:00:05.112000', '0 days 00:00:06.364000',\n",
      "                '0 days 00:00:07.672000', '0 days 00:00:09.064000',\n",
      "                '0 days 00:00:10.220000', '0 days 00:00:11.300000',\n",
      "                ...\n",
      "                '0 days 00:10:36.940000', '0 days 00:10:38.236000',\n",
      "                '0 days 00:10:39.296000', '0 days 00:10:40.652000',\n",
      "                '0 days 00:10:41.644000', '0 days 00:10:42.864000',\n",
      "                '0 days 00:10:43.732000', '0 days 00:10:46.496000',\n",
      "                '0 days 00:10:47.924000', '0 days 00:10:48.984000'],\n",
      "               dtype='timedelta64[ns]', name='clock_time', length=551, freq=None)\n",
      "551\n"
     ]
    }
   ],
   "source": [
    "## Make trial data\n",
    "# Find when target pos changes\n",
    "has_change = dataset.data.target_pos.fillna(-1000).diff(axis=0).any(axis=1) # filling NaNs with arbitrary scalar to treat as one block\n",
    "print(has_change.index[has_change.to_numpy()]) # Times when a change occurs (i.e. when previous one is different, time given)\n",
    "print(has_change.to_numpy().nonzero()[0].size) # Number of changes"
   ]
  },
  {
   "cell_type": "code",
   "execution_count": 132,
   "metadata": {},
   "outputs": [
    {
     "name": "stdout",
     "output_type": "stream",
     "text": [
      "(array([133, 269, 410]),)\n",
      "[162200 324500 486800]\n",
      "clock_time\n",
      "0 days 00:00:00.252000    False\n",
      "0 days 00:00:01.352000    False\n",
      "0 days 00:00:02.712000    False\n",
      "0 days 00:00:03.952000    False\n",
      "0 days 00:00:05.112000    False\n",
      "                          ...  \n",
      "0 days 00:10:42.864000    False\n",
      "0 days 00:10:43.732000    False\n",
      "0 days 00:10:46.496000    False\n",
      "0 days 00:10:47.924000    False\n",
      "0 days 00:10:48.984000    False\n",
      "Length: 551, dtype: bool\n"
     ]
    }
   ],
   "source": [
    "# Find if target pos change corresponds to NaN-padded gap between files\n",
    "change_nan = dataset.data[has_change].isna().any(axis=1) # Of all data entries where change, where now at NaN, marked as True\n",
    "print(change_nan.to_numpy().nonzero()) # Indices (within array of changes) where NaN padding ends\n",
    "print(has_change.to_numpy().nonzero()[0][change_nan.to_numpy()]) # Timestamps of end of NaN padding\n",
    "print(change_nan)"
   ]
  },
  {
   "cell_type": "code",
   "execution_count": 133,
   "metadata": {},
   "outputs": [
    {
     "name": "stdout",
     "output_type": "stream",
     "text": [
      "clock_time\n",
      "0 days 00:00:00.252000     True\n",
      "0 days 00:00:01.352000    False\n",
      "0 days 00:00:02.712000    False\n",
      "0 days 00:00:03.952000    False\n",
      "0 days 00:00:05.112000    False\n",
      "                          ...  \n",
      "0 days 00:10:42.864000    False\n",
      "0 days 00:10:43.732000    False\n",
      "0 days 00:10:46.496000    False\n",
      "0 days 00:10:47.924000    False\n",
      "0 days 00:10:48.984000     True\n",
      "Length: 551, dtype: bool\n",
      "(array([  0, 132, 133, 134, 268, 269, 270, 409, 410, 411, 550]),)\n",
      "TimedeltaIndex(['0 days 00:00:00.252000', '0 days 00:02:41.264000',\n",
      "                '0 days 00:02:42.200000', '0 days 00:02:42.300000',\n",
      "                '0 days 00:05:23.172000', '0 days 00:05:24.500000',\n",
      "                '0 days 00:05:24.600000', '0 days 00:08:06.672000',\n",
      "                '0 days 00:08:06.800000', '0 days 00:08:06.900000',\n",
      "                '0 days 00:10:48.984000'],\n",
      "               dtype='timedelta64[ns]', name='clock_time', freq=None)\n"
     ]
    }
   ],
   "source": [
    "# Drop trials containing the gap and immediately before and after, as those trials may be cut short\n",
    "drop_trial = (change_nan | change_nan.shift(1, fill_value=True) | change_nan.shift(-1, fill_value=True))[:]\n",
    "print(drop_trial)\n",
    "print(drop_trial.to_numpy().nonzero())\n",
    "print(change_nan.index[drop_trial])"
   ]
  },
  {
   "cell_type": "code",
   "execution_count": 134,
   "metadata": {},
   "outputs": [
    {
     "ename": "IndexError",
     "evalue": "Boolean index has wrong length: 551 instead of 550",
     "output_type": "error",
     "traceback": [
      "\u001b[0;31m---------------------------------------------------------------------------\u001b[0m",
      "\u001b[0;31mIndexError\u001b[0m                                Traceback (most recent call last)",
      "\u001b[1;32m/home/sgome/Project/Bayesian-Convolutional-Model/Simple-Model/Loading_Data.ipynb Cell 36'\u001b[0m in \u001b[0;36m<module>\u001b[0;34m\u001b[0m\n\u001b[1;32m      <a href='vscode-notebook-cell://wsl%2Bubuntu/home/sgome/Project/Bayesian-Convolutional-Model/Simple-Model/Loading_Data.ipynb#ch0000007vscode-remote?line=0'>1</a>\u001b[0m \u001b[39m# Add start and end times to trial info\u001b[39;00m\n\u001b[1;32m      <a href='vscode-notebook-cell://wsl%2Bubuntu/home/sgome/Project/Bayesian-Convolutional-Model/Simple-Model/Loading_Data.ipynb#ch0000007vscode-remote?line=1'>2</a>\u001b[0m change_times \u001b[39m=\u001b[39m dataset\u001b[39m.\u001b[39mdata\u001b[39m.\u001b[39mindex[has_change]\n\u001b[0;32m----> <a href='vscode-notebook-cell://wsl%2Bubuntu/home/sgome/Project/Bayesian-Convolutional-Model/Simple-Model/Loading_Data.ipynb#ch0000007vscode-remote?line=2'>3</a>\u001b[0m start_times \u001b[39m=\u001b[39m change_times[:\u001b[39m-\u001b[39;49m\u001b[39m1\u001b[39;49m][\u001b[39m~\u001b[39;49mdrop_trial]\n\u001b[1;32m      <a href='vscode-notebook-cell://wsl%2Bubuntu/home/sgome/Project/Bayesian-Convolutional-Model/Simple-Model/Loading_Data.ipynb#ch0000007vscode-remote?line=3'>4</a>\u001b[0m end_times \u001b[39m=\u001b[39m change_times[\u001b[39m1\u001b[39m:][\u001b[39m~\u001b[39mdrop_trial]\n",
      "File \u001b[0;32m~/Project/Bayesian-Convolutional-Model/Simple-Model/.venv/lib/python3.8/site-packages/pandas/core/indexes/extension.py:279\u001b[0m, in \u001b[0;36mExtensionIndex.__getitem__\u001b[0;34m(self, key)\u001b[0m\n\u001b[1;32m    <a href='file:///home/sgome/Project/Bayesian-Convolutional-Model/Simple-Model/.venv/lib/python3.8/site-packages/pandas/core/indexes/extension.py?line=277'>278</a>\u001b[0m \u001b[39mdef\u001b[39;00m \u001b[39m__getitem__\u001b[39m(\u001b[39mself\u001b[39m, key):\n\u001b[0;32m--> <a href='file:///home/sgome/Project/Bayesian-Convolutional-Model/Simple-Model/.venv/lib/python3.8/site-packages/pandas/core/indexes/extension.py?line=278'>279</a>\u001b[0m     result \u001b[39m=\u001b[39m \u001b[39mself\u001b[39;49m\u001b[39m.\u001b[39;49m_data[key]\n\u001b[1;32m    <a href='file:///home/sgome/Project/Bayesian-Convolutional-Model/Simple-Model/.venv/lib/python3.8/site-packages/pandas/core/indexes/extension.py?line=279'>280</a>\u001b[0m     \u001b[39mif\u001b[39;00m \u001b[39misinstance\u001b[39m(result, \u001b[39mtype\u001b[39m(\u001b[39mself\u001b[39m\u001b[39m.\u001b[39m_data)):\n\u001b[1;32m    <a href='file:///home/sgome/Project/Bayesian-Convolutional-Model/Simple-Model/.venv/lib/python3.8/site-packages/pandas/core/indexes/extension.py?line=280'>281</a>\u001b[0m         \u001b[39mif\u001b[39;00m result\u001b[39m.\u001b[39mndim \u001b[39m==\u001b[39m \u001b[39m1\u001b[39m:\n",
      "File \u001b[0;32m~/Project/Bayesian-Convolutional-Model/Simple-Model/.venv/lib/python3.8/site-packages/pandas/core/arrays/datetimelike.py:322\u001b[0m, in \u001b[0;36mDatetimeLikeArrayMixin.__getitem__\u001b[0;34m(self, key)\u001b[0m\n\u001b[1;32m    <a href='file:///home/sgome/Project/Bayesian-Convolutional-Model/Simple-Model/.venv/lib/python3.8/site-packages/pandas/core/arrays/datetimelike.py?line=314'>315</a>\u001b[0m \u001b[39mdef\u001b[39;00m \u001b[39m__getitem__\u001b[39m(\n\u001b[1;32m    <a href='file:///home/sgome/Project/Bayesian-Convolutional-Model/Simple-Model/.venv/lib/python3.8/site-packages/pandas/core/arrays/datetimelike.py?line=315'>316</a>\u001b[0m     \u001b[39mself\u001b[39m, key: PositionalIndexer2D\n\u001b[1;32m    <a href='file:///home/sgome/Project/Bayesian-Convolutional-Model/Simple-Model/.venv/lib/python3.8/site-packages/pandas/core/arrays/datetimelike.py?line=316'>317</a>\u001b[0m ) \u001b[39m-\u001b[39m\u001b[39m>\u001b[39m DatetimeLikeArrayMixin \u001b[39m|\u001b[39m DTScalarOrNaT:\n\u001b[1;32m    <a href='file:///home/sgome/Project/Bayesian-Convolutional-Model/Simple-Model/.venv/lib/python3.8/site-packages/pandas/core/arrays/datetimelike.py?line=317'>318</a>\u001b[0m     \u001b[39m\"\"\"\u001b[39;00m\n\u001b[1;32m    <a href='file:///home/sgome/Project/Bayesian-Convolutional-Model/Simple-Model/.venv/lib/python3.8/site-packages/pandas/core/arrays/datetimelike.py?line=318'>319</a>\u001b[0m \u001b[39m    This getitem defers to the underlying array, which by-definition can\u001b[39;00m\n\u001b[1;32m    <a href='file:///home/sgome/Project/Bayesian-Convolutional-Model/Simple-Model/.venv/lib/python3.8/site-packages/pandas/core/arrays/datetimelike.py?line=319'>320</a>\u001b[0m \u001b[39m    only handle list-likes, slices, and integer scalars\u001b[39;00m\n\u001b[1;32m    <a href='file:///home/sgome/Project/Bayesian-Convolutional-Model/Simple-Model/.venv/lib/python3.8/site-packages/pandas/core/arrays/datetimelike.py?line=320'>321</a>\u001b[0m \u001b[39m    \"\"\"\u001b[39;00m\n\u001b[0;32m--> <a href='file:///home/sgome/Project/Bayesian-Convolutional-Model/Simple-Model/.venv/lib/python3.8/site-packages/pandas/core/arrays/datetimelike.py?line=321'>322</a>\u001b[0m     result \u001b[39m=\u001b[39m \u001b[39msuper\u001b[39;49m()\u001b[39m.\u001b[39;49m\u001b[39m__getitem__\u001b[39;49m(key)\n\u001b[1;32m    <a href='file:///home/sgome/Project/Bayesian-Convolutional-Model/Simple-Model/.venv/lib/python3.8/site-packages/pandas/core/arrays/datetimelike.py?line=322'>323</a>\u001b[0m     \u001b[39mif\u001b[39;00m lib\u001b[39m.\u001b[39mis_scalar(result):\n\u001b[1;32m    <a href='file:///home/sgome/Project/Bayesian-Convolutional-Model/Simple-Model/.venv/lib/python3.8/site-packages/pandas/core/arrays/datetimelike.py?line=323'>324</a>\u001b[0m         \u001b[39mreturn\u001b[39;00m result\n",
      "File \u001b[0;32m~/Project/Bayesian-Convolutional-Model/Simple-Model/.venv/lib/python3.8/site-packages/pandas/core/arrays/_mixins.py:206\u001b[0m, in \u001b[0;36mNDArrayBackedExtensionArray.__getitem__\u001b[0;34m(self, key)\u001b[0m\n\u001b[1;32m    <a href='file:///home/sgome/Project/Bayesian-Convolutional-Model/Simple-Model/.venv/lib/python3.8/site-packages/pandas/core/arrays/_mixins.py?line=198'>199</a>\u001b[0m \u001b[39m# error: Value of type variable \"AnyArrayLike\" of \"extract_array\" cannot be\u001b[39;00m\n\u001b[1;32m    <a href='file:///home/sgome/Project/Bayesian-Convolutional-Model/Simple-Model/.venv/lib/python3.8/site-packages/pandas/core/arrays/_mixins.py?line=199'>200</a>\u001b[0m \u001b[39m# \"Union[int, slice, ndarray]\"\u001b[39;00m\n\u001b[1;32m    <a href='file:///home/sgome/Project/Bayesian-Convolutional-Model/Simple-Model/.venv/lib/python3.8/site-packages/pandas/core/arrays/_mixins.py?line=200'>201</a>\u001b[0m \u001b[39m# error: Incompatible types in assignment (expression has type \"ExtensionArray\",\u001b[39;00m\n\u001b[1;32m    <a href='file:///home/sgome/Project/Bayesian-Convolutional-Model/Simple-Model/.venv/lib/python3.8/site-packages/pandas/core/arrays/_mixins.py?line=201'>202</a>\u001b[0m \u001b[39m# variable has type \"Union[int, slice, ndarray]\")\u001b[39;00m\n\u001b[1;32m    <a href='file:///home/sgome/Project/Bayesian-Convolutional-Model/Simple-Model/.venv/lib/python3.8/site-packages/pandas/core/arrays/_mixins.py?line=202'>203</a>\u001b[0m key \u001b[39m=\u001b[39m extract_array(  \u001b[39m# type: ignore[type-var,assignment]\u001b[39;00m\n\u001b[1;32m    <a href='file:///home/sgome/Project/Bayesian-Convolutional-Model/Simple-Model/.venv/lib/python3.8/site-packages/pandas/core/arrays/_mixins.py?line=203'>204</a>\u001b[0m     key, extract_numpy\u001b[39m=\u001b[39m\u001b[39mTrue\u001b[39;00m\n\u001b[1;32m    <a href='file:///home/sgome/Project/Bayesian-Convolutional-Model/Simple-Model/.venv/lib/python3.8/site-packages/pandas/core/arrays/_mixins.py?line=204'>205</a>\u001b[0m )\n\u001b[0;32m--> <a href='file:///home/sgome/Project/Bayesian-Convolutional-Model/Simple-Model/.venv/lib/python3.8/site-packages/pandas/core/arrays/_mixins.py?line=205'>206</a>\u001b[0m key \u001b[39m=\u001b[39m check_array_indexer(\u001b[39mself\u001b[39;49m, key)\n\u001b[1;32m    <a href='file:///home/sgome/Project/Bayesian-Convolutional-Model/Simple-Model/.venv/lib/python3.8/site-packages/pandas/core/arrays/_mixins.py?line=206'>207</a>\u001b[0m result \u001b[39m=\u001b[39m \u001b[39mself\u001b[39m\u001b[39m.\u001b[39m_ndarray[key]\n\u001b[1;32m    <a href='file:///home/sgome/Project/Bayesian-Convolutional-Model/Simple-Model/.venv/lib/python3.8/site-packages/pandas/core/arrays/_mixins.py?line=207'>208</a>\u001b[0m \u001b[39mif\u001b[39;00m lib\u001b[39m.\u001b[39mis_scalar(result):\n",
      "File \u001b[0;32m~/Project/Bayesian-Convolutional-Model/Simple-Model/.venv/lib/python3.8/site-packages/pandas/core/indexers.py:561\u001b[0m, in \u001b[0;36mcheck_array_indexer\u001b[0;34m(array, indexer)\u001b[0m\n\u001b[1;32m    <a href='file:///home/sgome/Project/Bayesian-Convolutional-Model/Simple-Model/.venv/lib/python3.8/site-packages/pandas/core/indexers.py?line=558'>559</a>\u001b[0m     \u001b[39m# GH26658\u001b[39;00m\n\u001b[1;32m    <a href='file:///home/sgome/Project/Bayesian-Convolutional-Model/Simple-Model/.venv/lib/python3.8/site-packages/pandas/core/indexers.py?line=559'>560</a>\u001b[0m     \u001b[39mif\u001b[39;00m \u001b[39mlen\u001b[39m(indexer) \u001b[39m!=\u001b[39m \u001b[39mlen\u001b[39m(array):\n\u001b[0;32m--> <a href='file:///home/sgome/Project/Bayesian-Convolutional-Model/Simple-Model/.venv/lib/python3.8/site-packages/pandas/core/indexers.py?line=560'>561</a>\u001b[0m         \u001b[39mraise\u001b[39;00m \u001b[39mIndexError\u001b[39;00m(\n\u001b[1;32m    <a href='file:///home/sgome/Project/Bayesian-Convolutional-Model/Simple-Model/.venv/lib/python3.8/site-packages/pandas/core/indexers.py?line=561'>562</a>\u001b[0m             \u001b[39mf\u001b[39m\u001b[39m\"\u001b[39m\u001b[39mBoolean index has wrong length: \u001b[39m\u001b[39m\"\u001b[39m\n\u001b[1;32m    <a href='file:///home/sgome/Project/Bayesian-Convolutional-Model/Simple-Model/.venv/lib/python3.8/site-packages/pandas/core/indexers.py?line=562'>563</a>\u001b[0m             \u001b[39mf\u001b[39m\u001b[39m\"\u001b[39m\u001b[39m{\u001b[39;00m\u001b[39mlen\u001b[39m(indexer)\u001b[39m}\u001b[39;00m\u001b[39m instead of \u001b[39m\u001b[39m{\u001b[39;00m\u001b[39mlen\u001b[39m(array)\u001b[39m}\u001b[39;00m\u001b[39m\"\u001b[39m\n\u001b[1;32m    <a href='file:///home/sgome/Project/Bayesian-Convolutional-Model/Simple-Model/.venv/lib/python3.8/site-packages/pandas/core/indexers.py?line=563'>564</a>\u001b[0m         )\n\u001b[1;32m    <a href='file:///home/sgome/Project/Bayesian-Convolutional-Model/Simple-Model/.venv/lib/python3.8/site-packages/pandas/core/indexers.py?line=564'>565</a>\u001b[0m \u001b[39melif\u001b[39;00m is_integer_dtype(dtype):\n\u001b[1;32m    <a href='file:///home/sgome/Project/Bayesian-Convolutional-Model/Simple-Model/.venv/lib/python3.8/site-packages/pandas/core/indexers.py?line=565'>566</a>\u001b[0m     \u001b[39mtry\u001b[39;00m:\n",
      "\u001b[0;31mIndexError\u001b[0m: Boolean index has wrong length: 551 instead of 550"
     ]
    }
   ],
   "source": [
    "# Add start and end times to trial info\n",
    "change_times = dataset.data.index[has_change]\n",
    "start_times = change_times[:-1][~drop_trial]\n",
    "end_times = change_times[1:][~drop_trial]"
   ]
  },
  {
   "cell_type": "code",
   "execution_count": 135,
   "metadata": {},
   "outputs": [],
   "source": [
    "# Get target position per trial\n",
    "target_pos = dataset.data.target_pos.loc[start_times].to_numpy().tolist()"
   ]
  },
  {
   "cell_type": "code",
   "execution_count": 136,
   "metadata": {},
   "outputs": [],
   "source": [
    "# Compute reach distance and angle\n",
    "reach_dist = dataset.data.target_pos.loc[end_times - pd.Timedelta(1, 'ms')].to_numpy() - dataset.data.target_pos.loc[start_times - pd.Timedelta(1, 'ms')].to_numpy()\n",
    "reach_angle = np.arctan2(reach_dist[:, 1], reach_dist[:, 0]) / np.pi * 180\n",
    "# Create trial info\n",
    "dataset.trial_info = pd.DataFrame({\n",
    "    'trial_id': np.arange(len(start_times)),\n",
    "    'start_time': start_times,\n",
    "    'end_time': end_times,\n",
    "    'target_pos': target_pos,\n",
    "    'reach_dist_x': reach_dist[:, 0],\n",
    "    'reach_dist_y': reach_dist[:, 1],\n",
    "    'reach_angle': reach_angle,\n",
    "})"
   ]
  },
  {
   "cell_type": "code",
   "execution_count": 137,
   "metadata": {},
   "outputs": [
    {
     "data": {
      "text/html": [
       "<div>\n",
       "<style scoped>\n",
       "    .dataframe tbody tr th:only-of-type {\n",
       "        vertical-align: middle;\n",
       "    }\n",
       "\n",
       "    .dataframe tbody tr th {\n",
       "        vertical-align: top;\n",
       "    }\n",
       "\n",
       "    .dataframe thead th {\n",
       "        text-align: right;\n",
       "    }\n",
       "</style>\n",
       "<table border=\"1\" class=\"dataframe\">\n",
       "  <thead>\n",
       "    <tr style=\"text-align: right;\">\n",
       "      <th></th>\n",
       "      <th>trial_id</th>\n",
       "      <th>start_time</th>\n",
       "      <th>end_time</th>\n",
       "      <th>target_pos</th>\n",
       "      <th>reach_dist_x</th>\n",
       "      <th>reach_dist_y</th>\n",
       "      <th>reach_angle</th>\n",
       "    </tr>\n",
       "  </thead>\n",
       "  <tbody>\n",
       "    <tr>\n",
       "      <th>0</th>\n",
       "      <td>0</td>\n",
       "      <td>0 days 00:00:01.352000</td>\n",
       "      <td>0 days 00:00:02.712000</td>\n",
       "      <td>[-37.5, 82.5]</td>\n",
       "      <td>-90.0</td>\n",
       "      <td>15.0</td>\n",
       "      <td>170.537678</td>\n",
       "    </tr>\n",
       "    <tr>\n",
       "      <th>1</th>\n",
       "      <td>1</td>\n",
       "      <td>0 days 00:00:02.712000</td>\n",
       "      <td>0 days 00:00:03.952000</td>\n",
       "      <td>[22.5, 67.5]</td>\n",
       "      <td>60.0</td>\n",
       "      <td>-15.0</td>\n",
       "      <td>-14.036243</td>\n",
       "    </tr>\n",
       "    <tr>\n",
       "      <th>2</th>\n",
       "      <td>2</td>\n",
       "      <td>0 days 00:00:03.952000</td>\n",
       "      <td>0 days 00:00:05.112000</td>\n",
       "      <td>[-22.5, 7.5]</td>\n",
       "      <td>-45.0</td>\n",
       "      <td>-60.0</td>\n",
       "      <td>-126.869898</td>\n",
       "    </tr>\n",
       "    <tr>\n",
       "      <th>3</th>\n",
       "      <td>3</td>\n",
       "      <td>0 days 00:00:05.112000</td>\n",
       "      <td>0 days 00:00:06.364000</td>\n",
       "      <td>[-52.5, 67.5]</td>\n",
       "      <td>-30.0</td>\n",
       "      <td>60.0</td>\n",
       "      <td>116.565051</td>\n",
       "    </tr>\n",
       "    <tr>\n",
       "      <th>4</th>\n",
       "      <td>4</td>\n",
       "      <td>0 days 00:00:06.364000</td>\n",
       "      <td>0 days 00:00:07.672000</td>\n",
       "      <td>[-37.5, 52.5]</td>\n",
       "      <td>15.0</td>\n",
       "      <td>-15.0</td>\n",
       "      <td>-45.000000</td>\n",
       "    </tr>\n",
       "    <tr>\n",
       "      <th>...</th>\n",
       "      <td>...</td>\n",
       "      <td>...</td>\n",
       "      <td>...</td>\n",
       "      <td>...</td>\n",
       "      <td>...</td>\n",
       "      <td>...</td>\n",
       "      <td>...</td>\n",
       "    </tr>\n",
       "    <tr>\n",
       "      <th>535</th>\n",
       "      <td>535</td>\n",
       "      <td>0 days 00:10:41.644000</td>\n",
       "      <td>0 days 00:10:42.864000</td>\n",
       "      <td>[-52.5, 82.5]</td>\n",
       "      <td>-105.0</td>\n",
       "      <td>0.0</td>\n",
       "      <td>180.000000</td>\n",
       "    </tr>\n",
       "    <tr>\n",
       "      <th>536</th>\n",
       "      <td>536</td>\n",
       "      <td>0 days 00:10:42.864000</td>\n",
       "      <td>0 days 00:10:43.732000</td>\n",
       "      <td>[-22.5, 67.5]</td>\n",
       "      <td>30.0</td>\n",
       "      <td>-15.0</td>\n",
       "      <td>-26.565051</td>\n",
       "    </tr>\n",
       "    <tr>\n",
       "      <th>537</th>\n",
       "      <td>537</td>\n",
       "      <td>0 days 00:10:43.732000</td>\n",
       "      <td>0 days 00:10:46.496000</td>\n",
       "      <td>[-7.5, 7.5]</td>\n",
       "      <td>15.0</td>\n",
       "      <td>-60.0</td>\n",
       "      <td>-75.963757</td>\n",
       "    </tr>\n",
       "    <tr>\n",
       "      <th>538</th>\n",
       "      <td>538</td>\n",
       "      <td>0 days 00:10:46.496000</td>\n",
       "      <td>0 days 00:10:47.924000</td>\n",
       "      <td>[-52.5, 37.5]</td>\n",
       "      <td>-45.0</td>\n",
       "      <td>30.0</td>\n",
       "      <td>146.309932</td>\n",
       "    </tr>\n",
       "    <tr>\n",
       "      <th>539</th>\n",
       "      <td>539</td>\n",
       "      <td>0 days 00:10:47.924000</td>\n",
       "      <td>0 days 00:10:48.984000</td>\n",
       "      <td>[22.5, 22.5]</td>\n",
       "      <td>75.0</td>\n",
       "      <td>-15.0</td>\n",
       "      <td>-11.309932</td>\n",
       "    </tr>\n",
       "  </tbody>\n",
       "</table>\n",
       "<p>540 rows × 7 columns</p>\n",
       "</div>"
      ],
      "text/plain": [
       "     trial_id             start_time               end_time     target_pos  \\\n",
       "0           0 0 days 00:00:01.352000 0 days 00:00:02.712000  [-37.5, 82.5]   \n",
       "1           1 0 days 00:00:02.712000 0 days 00:00:03.952000   [22.5, 67.5]   \n",
       "2           2 0 days 00:00:03.952000 0 days 00:00:05.112000   [-22.5, 7.5]   \n",
       "3           3 0 days 00:00:05.112000 0 days 00:00:06.364000  [-52.5, 67.5]   \n",
       "4           4 0 days 00:00:06.364000 0 days 00:00:07.672000  [-37.5, 52.5]   \n",
       "..        ...                    ...                    ...            ...   \n",
       "535       535 0 days 00:10:41.644000 0 days 00:10:42.864000  [-52.5, 82.5]   \n",
       "536       536 0 days 00:10:42.864000 0 days 00:10:43.732000  [-22.5, 67.5]   \n",
       "537       537 0 days 00:10:43.732000 0 days 00:10:46.496000    [-7.5, 7.5]   \n",
       "538       538 0 days 00:10:46.496000 0 days 00:10:47.924000  [-52.5, 37.5]   \n",
       "539       539 0 days 00:10:47.924000 0 days 00:10:48.984000   [22.5, 22.5]   \n",
       "\n",
       "     reach_dist_x  reach_dist_y  reach_angle  \n",
       "0           -90.0          15.0   170.537678  \n",
       "1            60.0         -15.0   -14.036243  \n",
       "2           -45.0         -60.0  -126.869898  \n",
       "3           -30.0          60.0   116.565051  \n",
       "4            15.0         -15.0   -45.000000  \n",
       "..            ...           ...          ...  \n",
       "535        -105.0           0.0   180.000000  \n",
       "536          30.0         -15.0   -26.565051  \n",
       "537          15.0         -60.0   -75.963757  \n",
       "538         -45.0          30.0   146.309932  \n",
       "539          75.0         -15.0   -11.309932  \n",
       "\n",
       "[540 rows x 7 columns]"
      ]
     },
     "execution_count": 137,
     "metadata": {},
     "output_type": "execute_result"
    }
   ],
   "source": [
    "dataset.trial_info"
   ]
  },
  {
   "cell_type": "code",
   "execution_count": 50,
   "metadata": {},
   "outputs": [
    {
     "data": {
      "text/html": [
       "<div>\n",
       "<style scoped>\n",
       "    .dataframe tbody tr th:only-of-type {\n",
       "        vertical-align: middle;\n",
       "    }\n",
       "\n",
       "    .dataframe tbody tr th {\n",
       "        vertical-align: top;\n",
       "    }\n",
       "\n",
       "    .dataframe thead th {\n",
       "        text-align: right;\n",
       "    }\n",
       "</style>\n",
       "<table border=\"1\" class=\"dataframe\">\n",
       "  <thead>\n",
       "    <tr style=\"text-align: right;\">\n",
       "      <th></th>\n",
       "      <th>trial_id</th>\n",
       "      <th>start_time</th>\n",
       "      <th>end_time</th>\n",
       "      <th>target_pos</th>\n",
       "      <th>reach_dist_x</th>\n",
       "      <th>reach_dist_y</th>\n",
       "      <th>reach_angle</th>\n",
       "    </tr>\n",
       "  </thead>\n",
       "  <tbody>\n",
       "    <tr>\n",
       "      <th>0</th>\n",
       "      <td>0</td>\n",
       "      <td>0 days 00:00:01.352000</td>\n",
       "      <td>0 days 00:00:02.712000</td>\n",
       "      <td>[-37.5, 82.5]</td>\n",
       "      <td>-90.0</td>\n",
       "      <td>15.0</td>\n",
       "      <td>170.537678</td>\n",
       "    </tr>\n",
       "    <tr>\n",
       "      <th>1</th>\n",
       "      <td>1</td>\n",
       "      <td>0 days 00:00:02.712000</td>\n",
       "      <td>0 days 00:00:03.952000</td>\n",
       "      <td>[22.5, 67.5]</td>\n",
       "      <td>60.0</td>\n",
       "      <td>-15.0</td>\n",
       "      <td>-14.036243</td>\n",
       "    </tr>\n",
       "    <tr>\n",
       "      <th>2</th>\n",
       "      <td>2</td>\n",
       "      <td>0 days 00:00:03.952000</td>\n",
       "      <td>0 days 00:00:05.112000</td>\n",
       "      <td>[-22.5, 7.5]</td>\n",
       "      <td>-45.0</td>\n",
       "      <td>-60.0</td>\n",
       "      <td>-126.869898</td>\n",
       "    </tr>\n",
       "    <tr>\n",
       "      <th>3</th>\n",
       "      <td>3</td>\n",
       "      <td>0 days 00:00:05.112000</td>\n",
       "      <td>0 days 00:00:06.364000</td>\n",
       "      <td>[-52.5, 67.5]</td>\n",
       "      <td>-30.0</td>\n",
       "      <td>60.0</td>\n",
       "      <td>116.565051</td>\n",
       "    </tr>\n",
       "    <tr>\n",
       "      <th>4</th>\n",
       "      <td>4</td>\n",
       "      <td>0 days 00:00:06.364000</td>\n",
       "      <td>0 days 00:00:07.672000</td>\n",
       "      <td>[-37.5, 52.5]</td>\n",
       "      <td>15.0</td>\n",
       "      <td>-15.0</td>\n",
       "      <td>-45.000000</td>\n",
       "    </tr>\n",
       "    <tr>\n",
       "      <th>...</th>\n",
       "      <td>...</td>\n",
       "      <td>...</td>\n",
       "      <td>...</td>\n",
       "      <td>...</td>\n",
       "      <td>...</td>\n",
       "      <td>...</td>\n",
       "      <td>...</td>\n",
       "    </tr>\n",
       "    <tr>\n",
       "      <th>130</th>\n",
       "      <td>130</td>\n",
       "      <td>0 days 00:02:40.272000</td>\n",
       "      <td>0 days 00:02:41.264000</td>\n",
       "      <td>[-22.5, 67.5]</td>\n",
       "      <td>-15.0</td>\n",
       "      <td>-45.0</td>\n",
       "      <td>-108.434949</td>\n",
       "    </tr>\n",
       "    <tr>\n",
       "      <th>131</th>\n",
       "      <td>131</td>\n",
       "      <td>0 days 00:02:42.744000</td>\n",
       "      <td>0 days 00:02:43.736000</td>\n",
       "      <td>[22.5, 112.5]</td>\n",
       "      <td>15.0</td>\n",
       "      <td>15.0</td>\n",
       "      <td>45.000000</td>\n",
       "    </tr>\n",
       "    <tr>\n",
       "      <th>132</th>\n",
       "      <td>132</td>\n",
       "      <td>0 days 00:02:43.736000</td>\n",
       "      <td>0 days 00:02:44.808000</td>\n",
       "      <td>[22.5, 37.5]</td>\n",
       "      <td>0.0</td>\n",
       "      <td>-75.0</td>\n",
       "      <td>-90.000000</td>\n",
       "    </tr>\n",
       "    <tr>\n",
       "      <th>133</th>\n",
       "      <td>133</td>\n",
       "      <td>0 days 00:02:44.808000</td>\n",
       "      <td>0 days 00:02:46.140000</td>\n",
       "      <td>[52.5, 37.5]</td>\n",
       "      <td>30.0</td>\n",
       "      <td>0.0</td>\n",
       "      <td>0.000000</td>\n",
       "    </tr>\n",
       "    <tr>\n",
       "      <th>134</th>\n",
       "      <td>134</td>\n",
       "      <td>0 days 00:02:46.140000</td>\n",
       "      <td>0 days 00:02:47.164000</td>\n",
       "      <td>[37.5, 82.5]</td>\n",
       "      <td>-15.0</td>\n",
       "      <td>45.0</td>\n",
       "      <td>108.434949</td>\n",
       "    </tr>\n",
       "  </tbody>\n",
       "</table>\n",
       "<p>135 rows × 7 columns</p>\n",
       "</div>"
      ],
      "text/plain": [
       "     trial_id             start_time               end_time     target_pos  \\\n",
       "0           0 0 days 00:00:01.352000 0 days 00:00:02.712000  [-37.5, 82.5]   \n",
       "1           1 0 days 00:00:02.712000 0 days 00:00:03.952000   [22.5, 67.5]   \n",
       "2           2 0 days 00:00:03.952000 0 days 00:00:05.112000   [-22.5, 7.5]   \n",
       "3           3 0 days 00:00:05.112000 0 days 00:00:06.364000  [-52.5, 67.5]   \n",
       "4           4 0 days 00:00:06.364000 0 days 00:00:07.672000  [-37.5, 52.5]   \n",
       "..        ...                    ...                    ...            ...   \n",
       "130       130 0 days 00:02:40.272000 0 days 00:02:41.264000  [-22.5, 67.5]   \n",
       "131       131 0 days 00:02:42.744000 0 days 00:02:43.736000  [22.5, 112.5]   \n",
       "132       132 0 days 00:02:43.736000 0 days 00:02:44.808000   [22.5, 37.5]   \n",
       "133       133 0 days 00:02:44.808000 0 days 00:02:46.140000   [52.5, 37.5]   \n",
       "134       134 0 days 00:02:46.140000 0 days 00:02:47.164000   [37.5, 82.5]   \n",
       "\n",
       "     reach_dist_x  reach_dist_y  reach_angle  \n",
       "0           -90.0          15.0   170.537678  \n",
       "1            60.0         -15.0   -14.036243  \n",
       "2           -45.0         -60.0  -126.869898  \n",
       "3           -30.0          60.0   116.565051  \n",
       "4            15.0         -15.0   -45.000000  \n",
       "..            ...           ...          ...  \n",
       "130         -15.0         -45.0  -108.434949  \n",
       "131          15.0          15.0    45.000000  \n",
       "132           0.0         -75.0   -90.000000  \n",
       "133          30.0           0.0     0.000000  \n",
       "134         -15.0          45.0   108.434949  \n",
       "\n",
       "[135 rows x 7 columns]"
      ]
     },
     "execution_count": 50,
     "metadata": {},
     "output_type": "execute_result"
    }
   ],
   "source": [
    "dataset.trial_info.iloc[:135]"
   ]
  },
  {
   "cell_type": "code",
   "execution_count": 138,
   "metadata": {},
   "outputs": [
    {
     "data": {
      "text/plain": [
       "clock_time\n",
       "0 days 00:00:01.352000    1.402503\n",
       "Name: y, dtype: float64"
      ]
     },
     "execution_count": 138,
     "metadata": {},
     "output_type": "execute_result"
    }
   ],
   "source": [
    "dataset.data.finger_vel.y[dataset.data.index == dataset.trial_info.start_time.iloc[0]]"
   ]
  },
  {
   "cell_type": "code",
   "execution_count": 10,
   "metadata": {},
   "outputs": [
    {
     "name": "stdout",
     "output_type": "stream",
     "text": [
      "0 days 00:00:01.352000\n",
      "0 days 00:10:48.984000\n",
      "647631.9999999999\n"
     ]
    }
   ],
   "source": [
    "print(dataset.trial_info.iloc[0].start_time)\n",
    "print(dataset.trial_info.iloc[-1].end_time)\n",
    "print(((-dataset.trial_info.iloc[0].start_time + dataset.trial_info.iloc[-1].end_time)/np.timedelta64(1, 's'))/0.001)"
   ]
  },
  {
   "cell_type": "code",
   "execution_count": 11,
   "metadata": {},
   "outputs": [
    {
     "name": "stdout",
     "output_type": "stream",
     "text": [
      "0 days 00:05:32.272000\n",
      "332272.0\n"
     ]
    }
   ],
   "source": [
    "print(dataset.trial_info.iloc[270].end_time)\n",
    "print((dataset.trial_info.iloc[270].end_time/np.timedelta64(1, 's'))/0.001)"
   ]
  },
  {
   "cell_type": "code",
   "execution_count": 43,
   "metadata": {},
   "outputs": [],
   "source": [
    "finger_posdata = dataset.data.loc[dataset.trial_info.iloc[0].start_time : dataset.trial_info.iloc[130].end_time].drop(['cursor_pos', 'finger_vel', 'target_pos', ('finger_pos', 'z')], axis = 1)"
   ]
  },
  {
   "cell_type": "code",
   "execution_count": 26,
   "metadata": {},
   "outputs": [],
   "source": [
    "finger_veldata = dataset.data.loc[dataset.trial_info.iloc[0].start_time : dataset.trial_info.iloc[270].end_time].drop(['cursor_pos', 'target_pos', 'finger_pos'], axis = 1)"
   ]
  },
  {
   "cell_type": "code",
   "execution_count": 42,
   "metadata": {},
   "outputs": [
    {
     "name": "stdout",
     "output_type": "stream",
     "text": [
      "(647333, 2)\n"
     ]
    }
   ],
   "source": [
    "print(finger_posdata.dropna().finger_pos.to_numpy().shape)"
   ]
  },
  {
   "cell_type": "code",
   "execution_count": 27,
   "metadata": {},
   "outputs": [],
   "source": [
    "finger_veldata.to_hdf('./Data/finger_veldata.h5', 'data')\n",
    "finger_veldata.to_pickle('./Data/finger_veldata', protocol=4)"
   ]
  },
  {
   "cell_type": "code",
   "execution_count": 44,
   "metadata": {},
   "outputs": [
    {
     "name": "stderr",
     "output_type": "stream",
     "text": [
      "/home/sgome/Project/Bayesian-Convolutional-Model/Simple-Model/.venv/lib/python3.8/site-packages/pandas/io/pytables.py:296: PerformanceWarning: \n",
      "your performance may suffer as PyTables will pickle object types that it cannot\n",
      "map directly to c-types [inferred_type->mixed-integer,key->axis0_level1] [items->None]\n",
      "\n",
      "  f = lambda store: store.put(\n",
      "/home/sgome/Project/Bayesian-Convolutional-Model/Simple-Model/.venv/lib/python3.8/site-packages/pandas/io/pytables.py:296: PerformanceWarning: \n",
      "your performance may suffer as PyTables will pickle object types that it cannot\n",
      "map directly to c-types [inferred_type->mixed-integer,key->block0_items_level1] [items->None]\n",
      "\n",
      "  f = lambda store: store.put(\n",
      "/home/sgome/Project/Bayesian-Convolutional-Model/Simple-Model/.venv/lib/python3.8/site-packages/pandas/io/pytables.py:296: PerformanceWarning: \n",
      "your performance may suffer as PyTables will pickle object types that it cannot\n",
      "map directly to c-types [inferred_type->mixed-integer,key->block1_items_level1] [items->None]\n",
      "\n",
      "  f = lambda store: store.put(\n"
     ]
    }
   ],
   "source": [
    "finger_posdata.to_hdf('./Data/finger_posdata.h5', 'data')\n",
    "finger_posdata.to_pickle('./Data/finger_posdata', protocol=4)"
   ]
  },
  {
   "cell_type": "code",
   "execution_count": null,
   "metadata": {},
   "outputs": [],
   "source": [
    "#dataset.data.target_pos.fillna(-1000).diff(axis=0).any(axis=1)\n",
    "Nandata = dataset.data.finger_pos[dataset.data.target_pos.isna().any(axis=1)]\n",
    "\n",
    "#dataset.data.target_pos.isna().any()"
   ]
  },
  {
   "cell_type": "code",
   "execution_count": null,
   "metadata": {},
   "outputs": [],
   "source": [
    "data = dataset.data[[\"finger_pos\", \"spikes\"]].drop((\"finger_pos\", \"z\"), axis=1)\n",
    "test = data.finger_pos.isna().any(axis=1)\n",
    "# subset = data.iloc[:100][\"finger_pos\"]\n",
    "# subset.x.isna().any()"
   ]
  }
 ],
 "metadata": {
  "interpreter": {
   "hash": "732f194484e0284080b04ff83f236bb381f8bb18faa7a6782cdb6b2333c8b4db"
  },
  "kernelspec": {
   "display_name": "Python 3.8.10 ('.venv': venv)",
   "language": "python",
   "name": "python3"
  },
  "language_info": {
   "codemirror_mode": {
    "name": "ipython",
    "version": 3
   },
   "file_extension": ".py",
   "mimetype": "text/x-python",
   "name": "python",
   "nbconvert_exporter": "python",
   "pygments_lexer": "ipython3",
   "version": "3.8.10"
  },
  "orig_nbformat": 4
 },
 "nbformat": 4,
 "nbformat_minor": 2
}
