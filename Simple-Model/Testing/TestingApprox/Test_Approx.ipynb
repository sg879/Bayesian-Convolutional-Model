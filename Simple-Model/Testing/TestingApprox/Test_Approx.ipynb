{
 "cells": [
  {
   "cell_type": "markdown",
   "metadata": {},
   "source": [
    "# Testing the Approximate Sampling"
   ]
  },
  {
   "cell_type": "markdown",
   "metadata": {
    "id": "vXWnhCHWngCN"
   },
   "source": [
    "## Importing the Packages"
   ]
  },
  {
   "cell_type": "code",
   "execution_count": 1,
   "metadata": {
    "executionInfo": {
     "elapsed": 1294,
     "status": "ok",
     "timestamp": 1646766605696,
     "user": {
      "displayName": "Simon Gomez-Cullen",
      "photoUrl": "https://lh3.googleusercontent.com/a/default-user=s64",
      "userId": "13652272254121268238"
     },
     "user_tz": 0
    },
    "id": "I2mF29avQ9MM"
   },
   "outputs": [],
   "source": [
    "import matplotlib as mpl\n",
    "import matplotlib.pyplot as plt\n",
    "mpl.rcParams.update(mpl.rcParamsDefault)\n",
    "mpl.use(\"pgf\")\n",
    "%matplotlib inline\n",
    "plt.plot([1, 2, 3])\n",
    "mpl.use(\"pgf\")\n",
    "mpl.rcParams.update(\n",
    "    {\n",
    "        \"pgf.texsystem\": \"lualatex\",\n",
    "        \"font.family\": \"serif\",\n",
    "        \"text.usetex\": True,\n",
    "        \"pgf.rcfonts\": False,\n",
    "        \"pgf.preamble\": \"\\n\".join(\n",
    "            [\n",
    "                r\"\\usepackage{bm}\",\n",
    "                r\"\\usepackage{mathtools}\",\n",
    "                r\"\\usepackage{amsmath}\",\n",
    "                r\"\\DeclarePairedDelimiter\\abs{\\lvert}{\\rvert}%\",\n",
    "                r\"\\DeclarePairedDelimiter\\norm{\\lVert}{\\rVert}\",\n",
    "                r\"\\makeatletter\",\n",
    "                r\"\\let\\oldabs\\abs\",\n",
    "                r\"\\def\\abs{\\@ifstar{\\oldabs}{\\oldabs*}}\",\n",
    "                r\"\\let\\oldnorm\\norm\",\n",
    "                r\"\\def\\norm{\\@ifstar{\\oldnorm}{\\oldnorm*}}\",\n",
    "                r\"\\makeatother\",\n",
    "                r\"\\usepackage[dvipsnames]{xcolor}\", \n",
    "                r\"\\definecolor{myred}{RGB}{205, 108, 46}\",\n",
    "            ]\n",
    "        ),\n",
    "        \"font.serif\": [\"Computer Modern Roman\"],\n",
    "    }\n",
    ")\n",
    "\n",
    "import matplotlib.font_manager\n",
    "import matplotlib.ticker as mticker\n",
    "import matplotlib.pyplot as plt\n",
    "from mpl_toolkits.axes_grid1 import Divider, Size, make_axes_locatable\n",
    "import matplotlib.patches as mpatches\n",
    "from mpl_toolkits import mplot3d\n",
    "import matplotlib.cm as cm\n",
    "\n",
    "import numpy as np\n",
    "import scipy as sc\n",
    "import scipy.io as io\n",
    "from scipy.stats import multivariate_normal\n",
    "from functools import partial\n",
    "\n",
    "import jax.numpy as jnp\n",
    "import jax.scipy as jsc\n",
    "from jax import grad, jit, vmap, random, lax, value_and_grad, tree_multimap, tree_map\n",
    "\n",
    "import time"
   ]
  },
  {
   "cell_type": "code",
   "execution_count": 2,
   "metadata": {
    "executionInfo": {
     "elapsed": 2,
     "status": "ok",
     "timestamp": 1646766605696,
     "user": {
      "displayName": "Simon Gomez-Cullen",
      "photoUrl": "https://lh3.googleusercontent.com/a/default-user=s64",
      "userId": "13652272254121268238"
     },
     "user_tz": 0
    },
    "id": "-RF6Rxy-tE-A"
   },
   "outputs": [],
   "source": [
    "from jax.config import config\n",
    "config.update(\"jax_enable_x64\", True)\n",
    "config.update(\"jax_debug_nans\", True)"
   ]
  },
  {
   "cell_type": "markdown",
   "metadata": {
    "id": "j34HFrWdpwBT"
   },
   "source": [
    "## Defining SE Covariance"
   ]
  },
  {
   "cell_type": "code",
   "execution_count": 3,
   "metadata": {
    "executionInfo": {
     "elapsed": 2,
     "status": "ok",
     "timestamp": 1646766605696,
     "user": {
      "displayName": "Simon Gomez-Cullen",
      "photoUrl": "https://lh3.googleusercontent.com/a/default-user=s64",
      "userId": "13652272254121268238"
     },
     "user_tz": 0
    },
    "id": "fApWN_Djp0Eq"
   },
   "outputs": [],
   "source": [
    "@jit\n",
    "def Squared_exp(I, J, Sigma_f, Ell):\n",
    "  return Sigma_f**2.0*jnp.exp(-(I-J)**2/(2.0*Ell**2))"
   ]
  },
  {
   "cell_type": "markdown",
   "metadata": {
    "id": "FeX7Rr4Rnwnc"
   },
   "source": [
    "## Creating Test Data"
   ]
  },
  {
   "cell_type": "code",
   "execution_count": 4,
   "metadata": {
    "executionInfo": {
     "elapsed": 905,
     "status": "ok",
     "timestamp": 1646766606599,
     "user": {
      "displayName": "Simon Gomez-Cullen",
      "photoUrl": "https://lh3.googleusercontent.com/a/default-user=s64",
      "userId": "13652272254121268238"
     },
     "user_tz": 0
    },
    "id": "j2WqJJohnzd3"
   },
   "outputs": [],
   "source": [
    "key = random.PRNGKey(1)\n",
    "key, *subkeys = random.split(key, 4)"
   ]
  },
  {
   "cell_type": "code",
   "execution_count": 5,
   "metadata": {
    "executionInfo": {
     "elapsed": 3,
     "status": "ok",
     "timestamp": 1646766606600,
     "user": {
      "displayName": "Simon Gomez-Cullen",
      "photoUrl": "https://lh3.googleusercontent.com/a/default-user=s64",
      "userId": "13652272254121268238"
     },
     "user_tz": 0
    },
    "id": "RHWOu5SEr2H3"
   },
   "outputs": [],
   "source": [
    "# Time resolution\n",
    "time_bin = 0.005"
   ]
  },
  {
   "cell_type": "markdown",
   "metadata": {
    "id": "xMmVbUEmtPMg"
   },
   "source": [
    "### True Filter"
   ]
  },
  {
   "cell_type": "code",
   "execution_count": 6,
   "metadata": {},
   "outputs": [],
   "source": [
    "# Predictions\n",
    "fpredmax = 6.0\n",
    "sig_true = 0.5\n",
    "ell_true = 0.6\n",
    "d = np.floor(fpredmax/time_bin).astype(np.int64)\n",
    "fpredpoints = np.linspace(0.0, fpredmax, d + 1).reshape((d + 1, 1))\n",
    "\n",
    "\n",
    "# Use sampled filter to generate inducing points\n",
    "num_ind = 1000\n",
    "indices = np.arange(int(1 * (d + 1) / 6), int( 2 * (d + 1) / 6))\n",
    "subfil = np.asarray(random.choice(subkeys[-2], indices, (num_ind,)))\n",
    "z_vector = fpredpoints[subfil]\n",
    "# u_vector = ftrue[subfil]"
   ]
  },
  {
   "cell_type": "code",
   "execution_count": 7,
   "metadata": {},
   "outputs": [],
   "source": [
    "# Variational posterior\n",
    "# Variance\n",
    "vmat = Squared_exp(z_vector, z_vector.T, sig_true / 3.0, ell_true * 0.7)\n",
    "cholmat = np.linalg.cholesky(vmat + 1e-6 * np.eye(num_ind))\n",
    "# Mean\n",
    "m = cholmat @ random.normal(subkeys[-2], (num_ind, 1)) - 1.0\n",
    "\n",
    "# Mean\n",
    "kzz = Squared_exp(z_vector, z_vector.T, sig_true, ell_true)\n",
    "kzast = Squared_exp(z_vector, fpredpoints.T, sig_true, ell_true)\n",
    "kast = Squared_exp(fpredpoints, fpredpoints.T, sig_true, ell_true)\n",
    "bmat = sc.linalg.solve(kzz + 1e-6 * np.eye(num_ind), kzast)\n",
    "bmatt = bmat.T\n",
    "\n",
    "muast = bmatt @ m\n",
    "vast = kast - bmatt @ kzast + bmatt @ vmat @ bmat"
   ]
  },
  {
   "cell_type": "code",
   "execution_count": 8,
   "metadata": {},
   "outputs": [
    {
     "data": {
      "text/plain": [
       "<matplotlib.collections.PathCollection at 0x7f07482d0bb0>"
      ]
     },
     "execution_count": 8,
     "metadata": {},
     "output_type": "execute_result"
    },
    {
     "data": {
      "image/png": "[encoded data removed]",
      "text/plain": [
       "<Figure size 432x288 with 1 Axes>"
      ]
     },
     "metadata": {
      "needs_background": "light"
     },
     "output_type": "display_data"
    }
   ],
   "source": [
    "plt.plot(fpredpoints, muast)\n",
    "s2 = np.sqrt(np.diag(vast))\n",
    "fill = (muast.flatten() - 2 * s2, muast.flatten() + 2 * s2)\n",
    "plt.fill_between(fpredpoints.flatten(), *fill, alpha = 0.1)\n",
    "plt.scatter(z_vector, m)"
   ]
  },
  {
   "cell_type": "markdown",
   "metadata": {
    "id": "21tMz62xV6zs"
   },
   "source": [
    "## Approximate Sampling"
   ]
  },
  {
   "cell_type": "code",
   "execution_count": 9,
   "metadata": {},
   "outputs": [],
   "source": [
    "@jit\n",
    "def Solver(Kmm, Diff):\n",
    "  return jsc.linalg.solve(Kmm, Diff, sym_pos=True, check_finite=True)"
   ]
  },
  {
   "cell_type": "code",
   "execution_count": 10,
   "metadata": {},
   "outputs": [],
   "source": [
    "V_Solver = vmap(Solver, in_axes = [None, 0])"
   ]
  },
  {
   "cell_type": "code",
   "execution_count": 11,
   "metadata": {
    "executionInfo": {
     "elapsed": 3,
     "status": "ok",
     "timestamp": 1646766620581,
     "user": {
      "displayName": "Simon Gomez-Cullen",
      "photoUrl": "https://lh3.googleusercontent.com/a/default-user=s64",
      "userId": "13652272254121268238"
     },
     "user_tz": 0
    },
    "id": "kn_e8phAV-en"
   },
   "outputs": [],
   "source": [
    "# @partial(jit, static_argnums = range(5,8))\n",
    "def Expected_Term(Sigma_f, Ell, Z_Vector, Mu_Vector, V_Ind, Number_F, Num_Base, M, F_Time, Subkeys):\n",
    "\n",
    "  Thetas = random.multivariate_normal(Subkeys[0], jnp.zeros((Number_F, 1, Num_Base)), (1.0 / (4.0 * jnp.pi ** 2 * Ell ** 2)) * jnp.eye(Num_Base))\n",
    "\n",
    "  Taus = random.uniform(Subkeys[1], (Number_F, 1, Num_Base)) * 2.0 * jnp.pi\n",
    "\n",
    "  Omegas = random.normal(Subkeys[2], (Number_F, Num_Base, 1))\n",
    "\n",
    "  Constant = Sigma_f * jnp.sqrt(2.0 / Num_Base)\n",
    "\n",
    "  ZT = Z_Vector.T\n",
    " \n",
    "  Phi1 = Constant * jnp.cos(F_Time * Thetas + Taus)\n",
    "  Phi2 = Constant * jnp.cos(Z_Vector * Thetas + Taus)\n",
    "\n",
    "  Kmm = Squared_exp(Z_Vector, ZT, Sigma_f, Ell)\n",
    "  Knm = Squared_exp(F_Time, ZT, Sigma_f, Ell)\n",
    "\n",
    "  V_uChol = jnp.linalg.cholesky(V_Ind + 1e-6 * jnp.eye(M))\n",
    "  U_Samples = Mu_Vector + V_uChol @ random.normal(Subkeys[3], (Number_F, M, 1))\n",
    "\n",
    "  Vu = V_Solver(Kmm + 1e-6 * jnp.eye(M), U_Samples - Phi2 @ Omegas)\n",
    "\n",
    "  F_Samples = Phi1 @ Omegas + Knm @ Vu\n",
    "  \n",
    "  return F_Samples"
   ]
  },
  {
   "cell_type": "code",
   "execution_count": 18,
   "metadata": {
    "colab": {
     "base_uri": "https://localhost:8080/"
    },
    "executionInfo": {
     "elapsed": 8792,
     "status": "ok",
     "timestamp": 1646766630600,
     "user": {
      "displayName": "Simon Gomez-Cullen",
      "photoUrl": "https://lh3.googleusercontent.com/a/default-user=s64",
      "userId": "13652272254121268238"
     },
     "user_tz": 0
    },
    "id": "-_6QmTi9_HFv",
    "outputId": "b5f38577-9479-4d29-d920-73b68b01ee12"
   },
   "outputs": [],
   "source": [
    "test_num_f = 100\n",
    "test_num_b = 1000\n",
    "test_key = random.PRNGKey(0)\n",
    "test_key, *test_subkeys = random.split(test_key, 5)"
   ]
  },
  {
   "cell_type": "code",
   "execution_count": 19,
   "metadata": {
    "executionInfo": {
     "elapsed": 1231,
     "status": "ok",
     "timestamp": 1646766621810,
     "user": {
      "displayName": "Simon Gomez-Cullen",
      "photoUrl": "https://lh3.googleusercontent.com/a/default-user=s64",
      "userId": "13652272254121268238"
     },
     "user_tz": 0
    },
    "id": "hZGZ3hUe1S_l"
   },
   "outputs": [],
   "source": [
    "fsamples = Expected_Term(sig_true, ell_true, z_vector, m, vmat, test_num_f, test_num_b, num_ind, fpredpoints, test_subkeys)\n",
    "stds = np.std(fsamples, 0)\n",
    "mean = np.mean(fsamples, 0)"
   ]
  },
  {
   "cell_type": "code",
   "execution_count": 20,
   "metadata": {},
   "outputs": [
    {
     "data": {
      "text/plain": [
       "(-2.5, 1.5)"
      ]
     },
     "execution_count": 20,
     "metadata": {},
     "output_type": "execute_result"
    },
    {
     "data": {
      "image/png": "[encoded data removed]",
      "text/plain": [
       "<Figure size 432x288 with 1 Axes>"
      ]
     },
     "metadata": {
      "needs_background": "light"
     },
     "output_type": "display_data"
    }
   ],
   "source": [
    "for i in range(test_num_f):\n",
    "  plt.plot(fpredpoints, fsamples[i], c = 'b', alpha = 0.01)\n",
    "\n",
    "plt.plot(fpredpoints, muast, c = 'k')\n",
    "plt.plot(fpredpoints, fill[0], c = 'k', linestyle = '--')\n",
    "plt.plot(fpredpoints, fill[1], c = 'k', linestyle = '--')\n",
    "fillemp = (mean.flatten() - 2 * stds.flatten(), mean.flatten() + 2 * stds.flatten())\n",
    "plt.fill_between(fpredpoints.flatten(), *fillemp, alpha = 0.15, color = 'blue')\n",
    "plt.scatter(z_vector, m, zorder = 3, color = 'k', marker = '*', s = 50)\n",
    "plt.ylim([-2.5, 1.5])"
   ]
  }
 ],
 "metadata": {
  "interpreter": {
   "hash": "732f194484e0284080b04ff83f236bb381f8bb18faa7a6782cdb6b2333c8b4db"
  },
  "kernelspec": {
   "display_name": "Python 3.8.10 ('.venv': venv)",
   "language": "python",
   "name": "python3"
  },
  "language_info": {
   "codemirror_mode": {
    "name": "ipython",
    "version": 3
   },
   "file_extension": ".py",
   "mimetype": "text/x-python",
   "name": "python",
   "nbconvert_exporter": "python",
   "pygments_lexer": "ipython3",
   "version": "3.8.10"
  },
  "orig_nbformat": 4
 },
 "nbformat": 4,
 "nbformat_minor": 2
}
