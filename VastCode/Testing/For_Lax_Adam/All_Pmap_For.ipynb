{
 "cells": [
  {
   "cell_type": "markdown",
   "metadata": {},
   "source": [
    "# Importing Packages"
   ]
  },
  {
   "cell_type": "code",
   "execution_count": 1,
   "metadata": {
    "executionInfo": {
     "elapsed": 1294,
     "status": "ok",
     "timestamp": 1646766605696,
     "user": {
      "displayName": "Simon Gomez-Cullen",
      "photoUrl": "https://lh3.googleusercontent.com/a/default-user=s64",
      "userId": "13652272254121268238"
     },
     "user_tz": 0
    },
    "id": "I2mF29avQ9MM"
   },
   "outputs": [],
   "source": [
    "import matplotlib as mpl\n",
    "import matplotlib.pyplot as plt\n",
    "%matplotlib inline\n",
    "\n",
    "import numpy as np\n",
    "import pandas as pd\n",
    "import scipy as sc\n",
    "import scipy.io as io\n",
    "from scipy.stats import multivariate_normal\n",
    "from functools import partial\n",
    "from itertools import chain\n",
    "\n",
    "import jax.numpy as jnp\n",
    "import jax.scipy as jsc\n",
    "from jax import grad, jit, vmap, pmap, random, lax, value_and_grad, tree_multimap, tree_map, devices\n",
    "import jax.example_libraries.optimizers as jeo\n",
    "\n",
    "import time\n",
    "from tqdm import tqdm"
   ]
  },
  {
   "cell_type": "code",
   "execution_count": 2,
   "metadata": {
    "executionInfo": {
     "elapsed": 2,
     "status": "ok",
     "timestamp": 1646766605696,
     "user": {
      "displayName": "Simon Gomez-Cullen",
      "photoUrl": "https://lh3.googleusercontent.com/a/default-user=s64",
      "userId": "13652272254121268238"
     },
     "user_tz": 0
    },
    "id": "-RF6Rxy-tE-A"
   },
   "outputs": [],
   "source": [
    "from jax.config import config\n",
    "config.update(\"jax_enable_x64\", True)\n",
    "config.update(\"jax_debug_nans\", True)"
   ]
  },
  {
   "cell_type": "code",
   "execution_count": 3,
   "metadata": {},
   "outputs": [],
   "source": [
    "num_mach = 1"
   ]
  },
  {
   "cell_type": "markdown",
   "metadata": {},
   "source": [
    "# Prior Functions"
   ]
  },
  {
   "cell_type": "code",
   "execution_count": 4,
   "metadata": {},
   "outputs": [],
   "source": [
    "@jit\n",
    "def AlpEnvelope(Xarr, TRise, TauDiff, Lag):\n",
    "  TRise = TRise ** 2.0\n",
    "  TDecay = TRise + TauDiff ** 2 + 1e-8\n",
    "  TMax = (jnp.log(TRise / TDecay) * TDecay * TRise) / (TRise - TDecay)\n",
    "  Max =  jnp.exp(- TMax / TDecay) - jnp.exp(- TMax / TRise)\n",
    "  Delayed = Xarr - Lag\n",
    "  NewTime = jnp.where(Delayed < 0.0, 1000, Delayed)\n",
    "  return (jnp.exp(- NewTime / TDecay) - jnp.exp(- NewTime / TRise)) / Max"
   ]
  },
  {
   "cell_type": "code",
   "execution_count": 5,
   "metadata": {
    "executionInfo": {
     "elapsed": 2,
     "status": "ok",
     "timestamp": 1646766605696,
     "user": {
      "displayName": "Simon Gomez-Cullen",
      "photoUrl": "https://lh3.googleusercontent.com/a/default-user=s64",
      "userId": "13652272254121268238"
     },
     "user_tz": 0
    },
    "id": "fApWN_Djp0Eq"
   },
   "outputs": [],
   "source": [
    "@jit\n",
    "def Squared_exp(I, J, Sigma_f, Ell):\n",
    "  return Sigma_f**2.0*jnp.exp(-(I-J)**2/(2.0*Ell**2))"
   ]
  },
  {
   "cell_type": "markdown",
   "metadata": {},
   "source": [
    "# Test Data"
   ]
  },
  {
   "cell_type": "code",
   "execution_count": 6,
   "metadata": {
    "executionInfo": {
     "elapsed": 905,
     "status": "ok",
     "timestamp": 1646766606599,
     "user": {
      "displayName": "Simon Gomez-Cullen",
      "photoUrl": "https://lh3.googleusercontent.com/a/default-user=s64",
      "userId": "13652272254121268238"
     },
     "user_tz": 0
    },
    "id": "j2WqJJohnzd3"
   },
   "outputs": [],
   "source": [
    "key = random.PRNGKey(1)\n",
    "key, *subkeys = random.split(key, 4)"
   ]
  },
  {
   "cell_type": "code",
   "execution_count": 7,
   "metadata": {
    "executionInfo": {
     "elapsed": 3,
     "status": "ok",
     "timestamp": 1646766606600,
     "user": {
      "displayName": "Simon Gomez-Cullen",
      "photoUrl": "https://lh3.googleusercontent.com/a/default-user=s64",
      "userId": "13652272254121268238"
     },
     "user_tz": 0
    },
    "id": "RHWOu5SEr2H3"
   },
   "outputs": [],
   "source": [
    "# Time resolution\n",
    "time_bin = 0.005"
   ]
  },
  {
   "cell_type": "markdown",
   "metadata": {
    "id": "5IwAZxXsrf8E"
   },
   "source": [
    "### Input Spike Train"
   ]
  },
  {
   "cell_type": "code",
   "execution_count": 8,
   "metadata": {
    "executionInfo": {
     "elapsed": 541,
     "status": "ok",
     "timestamp": 1646766607139,
     "user": {
      "displayName": "Simon Gomez-Cullen",
      "photoUrl": "https://lh3.googleusercontent.com/a/default-user=s64",
      "userId": "13652272254121268238"
     },
     "user_tz": 0
    },
    "id": "r71MXhaNrljt"
   },
   "outputs": [],
   "source": [
    "subkeyx = subkeys[-1]\n",
    "\n",
    "# Time horizon for input data\n",
    "x_maxt = 4.0\n",
    "batch_size = 1\n",
    "num_filt = num_mach * batch_size\n",
    "\n",
    "# Maximum index of input data\n",
    "n = np.floor(x_maxt/time_bin).astype(np.int64)\n",
    "narr = jnp.asarray([n, n, n])\n",
    "\n",
    "ytime = np.linspace(0.0, x_maxt, n + 1).reshape(n + 1, 1)\n",
    "\n",
    "spikedat1 = random.bernoulli(subkeyx, 0.1, (num_filt * (n + 1),)).astype(np.float64).reshape(num_filt, n + 1, 1)\n",
    "spikedat2 = random.bernoulli(subkeys[-2], 0.1, (num_filt * (n + 1),)).astype(np.float64).reshape(num_filt, n + 1, 1)\n",
    "spikedat3 = random.bernoulli(subkeys[-3], 0.1, (num_filt * (n + 1),)).astype(np.float64).reshape(num_filt, n + 1, 1)"
   ]
  },
  {
   "cell_type": "code",
   "execution_count": 9,
   "metadata": {
    "colab": {
     "base_uri": "https://localhost:8080/",
     "height": 282
    },
    "executionInfo": {
     "elapsed": 1523,
     "status": "ok",
     "timestamp": 1646766608661,
     "user": {
      "displayName": "Simon Gomez-Cullen",
      "photoUrl": "https://lh3.googleusercontent.com/a/default-user=s64",
      "userId": "13652272254121268238"
     },
     "user_tz": 0
    },
    "id": "zMdg_cFRsplr",
    "outputId": "abb0c60a-c88c-4a76-b06a-ec666fd40453"
   },
   "outputs": [
    {
     "data": {
      "text/plain": [
       "[<matplotlib.lines.Line2D at 0x7f2dc8043be0>]"
      ]
     },
     "execution_count": 9,
     "metadata": {},
     "output_type": "execute_result"
    },
    {
     "data": {
      "image/png": "[encoded data removed]",
      "text/plain": [
       "<Figure size 432x288 with 1 Axes>"
      ]
     },
     "metadata": {
      "needs_background": "light"
     },
     "output_type": "display_data"
    }
   ],
   "source": [
    "plt.plot(ytime, spikedat2.flatten())"
   ]
  },
  {
   "cell_type": "markdown",
   "metadata": {
    "id": "xMmVbUEmtPMg"
   },
   "source": [
    "### True Filter"
   ]
  },
  {
   "cell_type": "code",
   "execution_count": 10,
   "metadata": {
    "executionInfo": {
     "elapsed": 1188,
     "status": "ok",
     "timestamp": 1646766609847,
     "user": {
      "displayName": "Simon Gomez-Cullen",
      "photoUrl": "https://lh3.googleusercontent.com/a/default-user=s64",
      "userId": "13652272254121268238"
     },
     "user_tz": 0
    },
    "id": "ypfVEdM_tjr2"
   },
   "outputs": [],
   "source": [
    "subkeyf = subkeys[-2]\n",
    "\n",
    "# Filter horizon\n",
    "f_maxt = 1.0\n",
    "\n",
    "# Maximum index of filter data\n",
    "k = np.floor(f_maxt/time_bin).astype(np.int64)\n",
    "ftime = np.linspace(0.0, f_maxt, k + 1).reshape(k + 1, 1)\n",
    "\n",
    "# Damped frequency\n",
    "w_d = 18.0\n",
    "\n",
    "# Sqrt True rise rate\n",
    "tau_rise = np.sqrt(0.09)\n",
    "\n",
    "# Sqrt True diff\n",
    "tau_diff = np.sqrt(0.001)\n",
    "\n",
    "# True lag\n",
    "lag = 0.05\n",
    "\n",
    "env_true = AlpEnvelope(ftime, tau_rise, tau_diff, lag)\n",
    "\n",
    "# Envelope peak\n",
    "sqtr = tau_rise ** 2\n",
    "sqtd = sqtr + tau_diff ** 2\n",
    "tmax = (np.log(sqtr / sqtd) * sqtd * sqtr) / (sqtr - sqtd)\n",
    "\n",
    "ftrue = (np.sin(w_d * (ftime  - tmax - lag + np.pi/(2.0 * w_d))) * env_true).reshape(k + 1, 1)\n",
    "\n",
    "num_filt = 1"
   ]
  },
  {
   "cell_type": "code",
   "execution_count": 11,
   "metadata": {},
   "outputs": [
    {
     "data": {
      "text/plain": [
       "[<matplotlib.lines.Line2D at 0x7f2db068a100>]"
      ]
     },
     "execution_count": 11,
     "metadata": {},
     "output_type": "execute_result"
    },
    {
     "data": {
      "image/png": "[encoded data removed]",
      "text/plain": [
       "<Figure size 432x288 with 1 Axes>"
      ]
     },
     "metadata": {
      "needs_background": "light"
     },
     "output_type": "display_data"
    }
   ],
   "source": [
    "plt.plot(ftime, np.sin(w_d * (ftime  - tmax - lag + np.pi/(2.0 * w_d))))"
   ]
  },
  {
   "cell_type": "code",
   "execution_count": 12,
   "metadata": {},
   "outputs": [
    {
     "data": {
      "text/plain": [
       "[<matplotlib.lines.Line2D at 0x7f2dd086d3d0>]"
      ]
     },
     "execution_count": 12,
     "metadata": {},
     "output_type": "execute_result"
    },
    {
     "data": {
      "image/png": "[encoded data removed]",
      "text/plain": [
       "<Figure size 432x288 with 1 Axes>"
      ]
     },
     "metadata": {
      "needs_background": "light"
     },
     "output_type": "display_data"
    }
   ],
   "source": [
    "plt.plot(ftime, env_true)\n",
    "plt.plot(ftime, np.sin(w_d * (ftime  - tmax - lag + np.pi/(2.0 * w_d))))"
   ]
  },
  {
   "cell_type": "code",
   "execution_count": 13,
   "metadata": {},
   "outputs": [
    {
     "data": {
      "text/plain": [
       "[<matplotlib.lines.Line2D at 0x7f2db05f69a0>]"
      ]
     },
     "execution_count": 13,
     "metadata": {},
     "output_type": "execute_result"
    },
    {
     "data": {
      "image/png": "[encoded data removed]",
      "text/plain": [
       "<Figure size 432x288 with 1 Axes>"
      ]
     },
     "metadata": {
      "needs_background": "light"
     },
     "output_type": "display_data"
    }
   ],
   "source": [
    "plt.plot(ftime, ftrue)"
   ]
  },
  {
   "cell_type": "markdown",
   "metadata": {
    "id": "puifbGLyxRaG"
   },
   "source": [
    "### True Noise"
   ]
  },
  {
   "cell_type": "code",
   "execution_count": 14,
   "metadata": {
    "executionInfo": {
     "elapsed": 756,
     "status": "ok",
     "timestamp": 1646766611540,
     "user": {
      "displayName": "Simon Gomez-Cullen",
      "photoUrl": "https://lh3.googleusercontent.com/a/default-user=s64",
      "userId": "13652272254121268238"
     },
     "user_tz": 0
    },
    "id": "hCFQVb-exas3"
   },
   "outputs": [],
   "source": [
    "subkeyn = subkeys[-3]\n",
    "\n",
    "# True noise variance\n",
    "sign_true = 0.05\n",
    "\n",
    "# Noise vector\n",
    "noise_vec = sign_true * random.normal(subkeyn, (n + 1, 1))"
   ]
  },
  {
   "cell_type": "markdown",
   "metadata": {
    "id": "MqWunCmszBZB"
   },
   "source": [
    "### Output"
   ]
  },
  {
   "cell_type": "code",
   "execution_count": 15,
   "metadata": {
    "executionInfo": {
     "elapsed": 350,
     "status": "ok",
     "timestamp": 1646766611889,
     "user": {
      "displayName": "Simon Gomez-Cullen",
      "photoUrl": "https://lh3.googleusercontent.com/a/default-user=s64",
      "userId": "13652272254121268238"
     },
     "user_tz": 0
    },
    "id": "Kxj4lyU5zFnm"
   },
   "outputs": [],
   "source": [
    "# Padding and applying the FFT\n",
    "spikepad1 = np.hstack((spikedat1, np.zeros((num_filt, k, 1))))\n",
    "spikepad2 = np.hstack((spikedat2, np.zeros((num_filt, k, 1))))\n",
    "spikepad3 = np.hstack((spikedat3, np.zeros((num_filt, k, 1))))\n",
    "\n",
    "fpad = np.vstack((ftrue.reshape((k + 1, 1)), np.zeros((n, 1))))\n",
    "\n",
    "spikefft1 = np.fft.rfft(spikepad1, axis = 1)\n",
    "spikefft2 = np.fft.rfft(spikepad2, axis = 1)\n",
    "spikefft3 = np.fft.rfft(spikepad3, axis = 1)\n",
    "spikef = [spikefft1, spikefft2, spikefft3]\n",
    "\n",
    "fftlen1 = np.shape(spikefft1)[1]\n",
    "fftlen2 = np.shape(spikefft2)[1]\n",
    "fftlen3 = np.shape(spikefft3)[1]\n",
    "fftlen = [fftlen1, fftlen2, fftlen3]\n",
    "\n",
    "spikefft = [spikef[j].reshape(num_mach, batch_size, fftlen[j], 1) for j in range(3)]\n",
    "spikefft = [[spikefft[j][i] for j in range(3)] for i in range(num_mach)]\n",
    "\n",
    "f_fft = np.fft.rfft(fpad, axis = 0)\n",
    "\n",
    "fftmul = [[spikefft[j][i] * f_fft for i in range (3)] for j in range(num_mach)]\n",
    "\n",
    "fftsum = [[fftmul[j][i] for j in range(num_mach)] for i in range(3)]\n",
    "fftsummach = [np.sum(fftsum[i], axis = 0) for i in range(3)]\n",
    "\n",
    "ynonoise = [np.fft.irfft(np.sum(fftsummach[i], axis = 0), k + n + 1, axis = -2)[: n + 1] for i in range(3)]\n",
    "yvel = [(ynonoise[i] + noise_vec).reshape(n + 1, 1) for i in range(3)]\n",
    "\n",
    "spikefft = jnp.asarray(spikefft)\n",
    "yvel = jnp.asarray(yvel)"
   ]
  },
  {
   "cell_type": "code",
   "execution_count": 16,
   "metadata": {
    "executionInfo": {
     "elapsed": 2488,
     "status": "ok",
     "timestamp": 1646766614376,
     "user": {
      "displayName": "Simon Gomez-Cullen",
      "photoUrl": "https://lh3.googleusercontent.com/a/default-user=s64",
      "userId": "13652272254121268238"
     },
     "user_tz": 0
    },
    "id": "lIusH_Yh2qhW"
   },
   "outputs": [],
   "source": [
    "# Showing equals the raw convolution\n",
    "yffttest = np.convolve(spikedat1.flatten(), ftrue.flatten())[:n + 1] + noise_vec.flatten()"
   ]
  },
  {
   "cell_type": "code",
   "execution_count": 17,
   "metadata": {
    "colab": {
     "base_uri": "https://localhost:8080/",
     "height": 282
    },
    "executionInfo": {
     "elapsed": 685,
     "status": "ok",
     "timestamp": 1646766615057,
     "user": {
      "displayName": "Simon Gomez-Cullen",
      "photoUrl": "https://lh3.googleusercontent.com/a/default-user=s64",
      "userId": "13652272254121268238"
     },
     "user_tz": 0
    },
    "id": "rq6yqLHLF1l1",
    "outputId": "f4052b8b-c365-4436-ae90-3f84506201ad"
   },
   "outputs": [
    {
     "data": {
      "text/plain": [
       "[<matplotlib.lines.Line2D at 0x7f2db0568880>]"
      ]
     },
     "execution_count": 17,
     "metadata": {},
     "output_type": "execute_result"
    },
    {
     "data": {
      "image/png": "[encoded data removed]",
      "text/plain": [
       "<Figure size 432x288 with 1 Axes>"
      ]
     },
     "metadata": {
      "needs_background": "light"
     },
     "output_type": "display_data"
    }
   ],
   "source": [
    "plt.plot(ytime, ynonoise[0].flatten())"
   ]
  },
  {
   "cell_type": "code",
   "execution_count": 18,
   "metadata": {
    "colab": {
     "base_uri": "https://localhost:8080/",
     "height": 282
    },
    "executionInfo": {
     "elapsed": 653,
     "status": "ok",
     "timestamp": 1646766615707,
     "user": {
      "displayName": "Simon Gomez-Cullen",
      "photoUrl": "https://lh3.googleusercontent.com/a/default-user=s64",
      "userId": "13652272254121268238"
     },
     "user_tz": 0
    },
    "id": "5nJWAXMN0yu3",
    "outputId": "cfd5c109-1b4f-4f0d-e385-f420e825b02b"
   },
   "outputs": [
    {
     "data": {
      "text/plain": [
       "[<matplotlib.lines.Line2D at 0x7f2db04e3f40>]"
      ]
     },
     "execution_count": 18,
     "metadata": {},
     "output_type": "execute_result"
    },
    {
     "data": {
      "image/png": "[encoded data removed]",
      "text/plain": [
       "<Figure size 432x288 with 1 Axes>"
      ]
     },
     "metadata": {
      "needs_background": "light"
     },
     "output_type": "display_data"
    }
   ],
   "source": [
    "plt.plot(ytime, yvel[0].flatten())\n",
    "plt.plot(ytime, spikedat1.flatten())"
   ]
  },
  {
   "cell_type": "code",
   "execution_count": 19,
   "metadata": {
    "colab": {
     "base_uri": "https://localhost:8080/",
     "height": 282
    },
    "executionInfo": {
     "elapsed": 581,
     "status": "ok",
     "timestamp": 1646766616286,
     "user": {
      "displayName": "Simon Gomez-Cullen",
      "photoUrl": "https://lh3.googleusercontent.com/a/default-user=s64",
      "userId": "13652272254121268238"
     },
     "user_tz": 0
    },
    "id": "XPxzjAhX23Tp",
    "outputId": "32b00c7d-e275-4c1b-c5f7-a0feeaca81d8"
   },
   "outputs": [
    {
     "data": {
      "text/plain": [
       "[<matplotlib.lines.Line2D at 0x7f2db045e9d0>]"
      ]
     },
     "execution_count": 19,
     "metadata": {},
     "output_type": "execute_result"
    },
    {
     "data": {
      "image/png": "[encoded data removed]",
      "text/plain": [
       "<Figure size 432x288 with 1 Axes>"
      ]
     },
     "metadata": {
      "needs_background": "light"
     },
     "output_type": "display_data"
    }
   ],
   "source": [
    "plt.plot(ytime, yffttest.flatten())\n",
    "plt.plot(ytime, yvel[0].flatten())"
   ]
  },
  {
   "cell_type": "code",
   "execution_count": 20,
   "metadata": {},
   "outputs": [
    {
     "name": "stdout",
     "output_type": "stream",
     "text": [
      "(1, 501, 1)\n",
      "(801, 1)\n",
      "(801, 1)\n"
     ]
    }
   ],
   "source": [
    "print(spikefft[0][0].shape)\n",
    "print(ytime.shape)\n",
    "print(yvel[0].shape)"
   ]
  },
  {
   "cell_type": "markdown",
   "metadata": {},
   "source": [
    "# ELBO "
   ]
  },
  {
   "cell_type": "code",
   "execution_count": 21,
   "metadata": {},
   "outputs": [],
   "source": [
    "Diag = vmap(jnp.diag)"
   ]
  },
  {
   "cell_type": "code",
   "execution_count": 22,
   "metadata": {},
   "outputs": [],
   "source": [
    "@jit\n",
    "def Set(Matrix, Indices, NewVals):\n",
    "  return Matrix.at[:, Indices[0], Indices[1]].set(NewVals)"
   ]
  },
  {
   "cell_type": "code",
   "execution_count": 23,
   "metadata": {},
   "outputs": [],
   "source": [
    "Setoff = vmap(Set, in_axes=(0, None, 0,))"
   ]
  },
  {
   "cell_type": "code",
   "execution_count": 24,
   "metadata": {},
   "outputs": [],
   "source": [
    "@jit\n",
    "def KL_Term(L_Matrix, V_Vector, Num_Filt, M):\n",
    "  return  0.5 * (- jnp.sum(jnp.log(jnp.diagonal(L_Matrix, axis1 = 1, axis2 = 2) ** 2)) + \\\n",
    "                jnp.sum(L_Matrix ** 2) + jnp.sum(V_Vector ** 2) - Num_Filt * M)"
   ]
  },
  {
   "cell_type": "code",
   "execution_count": 25,
   "metadata": {},
   "outputs": [],
   "source": [
    "@jit\n",
    "def Solver(Kmm, Diff):\n",
    "  return jsc.linalg.solve(Kmm, Diff, sym_pos=True, check_finite=True)"
   ]
  },
  {
   "cell_type": "code",
   "execution_count": 26,
   "metadata": {},
   "outputs": [],
   "source": [
    "V_Solver = vmap(Solver, in_axes = [None, 0])"
   ]
  },
  {
   "cell_type": "code",
   "execution_count": 27,
   "metadata": {},
   "outputs": [],
   "source": [
    "@jit\n",
    "def Likelihoods(Predictions, Velocity, Sigma_n, N):\n",
    "  return - 0.5 * ((N + 1) * jnp.log(2 * jnp.pi * Sigma_n ** 2) + \\\n",
    "                    jnp.sum((Velocity - Predictions)**2, axis = -2)/(Sigma_n ** 2))"
   ]
  },
  {
   "cell_type": "code",
   "execution_count": 28,
   "metadata": {},
   "outputs": [],
   "source": [
    "Likely = vmap(Likelihoods, in_axes=(0, 0, None, 0,))"
   ]
  },
  {
   "cell_type": "code",
   "execution_count": 42,
   "metadata": {},
   "outputs": [],
   "source": [
    "def Neg_ELBO(Sigma_f, Ell, Sigma_n, Z_Fractions, V_Vector, L_Diag, L_ODiag, TRise,\n",
    "              TauDiff, Lag, Number_F, Num_Base, M, Num_Filt, Batch_Size, K, N0, N1, N2, Narr,\n",
    "              Indices, Spike_Fft, Velocity, F_Time, Subkeys):\n",
    "\n",
    "  # Creating lag and z-vector         \n",
    "  Lag = Lag ** 2.0\n",
    "  \n",
    "  Z_Vector = (0.5 * jnp.sin( jnp.pi * (Z_Fractions - 0.5)) + 0.5) * (F_Time[-1, 0] - Lag) + Lag\n",
    "\n",
    "  # Creating the L-matrix\n",
    "  D = Diag(jnp.exp(L_Diag))\n",
    "\n",
    "  L_Matrix = D.at[:, Indices[0], Indices[1]].set(L_ODiag)\n",
    "\n",
    "  # KL term\n",
    "  KL = 0.5 * (- jnp.sum(jnp.log(jnp.diagonal(L_Matrix, axis1 = 1, axis2 = 2) ** 2)) + \\\n",
    "                jnp.sum(L_Matrix ** 2) + jnp.sum(V_Vector ** 2) - Batch_Size * M)\n",
    "\n",
    "  # Expectation term\n",
    "  Thetas = random.normal(Subkeys[0], (Number_F, Batch_Size, 1, Num_Base)) * (1.0 / Ell)\n",
    "\n",
    "  Taus = random.uniform(Subkeys[1], (Number_F, Batch_Size, 1, Num_Base)) * 2.0 * jnp.pi\n",
    "\n",
    "  Omegas = random.normal(Subkeys[2], (Number_F, Batch_Size, Num_Base, 1))\n",
    "\n",
    "  Constant = (Sigma_f * jnp.sqrt(2.0 / Num_Base))\n",
    "\n",
    "  ZT = Z_Vector.transpose(0, 2, 1)\n",
    " \n",
    "  Phi1 = Constant * jnp.cos(F_Time * Thetas + Taus)\n",
    "  Phi2 = Constant * jnp.cos(Z_Vector * Thetas + Taus)\n",
    "\n",
    "  Kmm = Squared_exp(Z_Vector, ZT, Sigma_f, Ell)\n",
    "  Knm = Squared_exp(F_Time, ZT, Sigma_f, Ell)\n",
    "\n",
    "  C = jnp.linalg.cholesky(Kmm + jnp.eye(M) * 1e-6)\n",
    "\n",
    "  V_u = C @ L_Matrix @ L_Matrix.transpose(0, 2, 1) @ C.transpose(0, 2, 1)\n",
    "\n",
    "  Mu_u = C @ V_Vector\n",
    "\n",
    "  V_uChol = jnp.linalg.cholesky(V_u + 1e-6 * jnp.eye(M))\n",
    "\n",
    "  U_Samples = Mu_u + V_uChol @ random.normal(Subkeys[3], (Number_F, Batch_Size, M, 1))\n",
    "\n",
    "  Vu = V_Solver(Kmm + 1e-6 * jnp.eye(M), U_Samples - Phi2 @ Omegas)\n",
    "\n",
    "  F_Samples = (Phi1 @ Omegas + Knm @ Vu) * AlpEnvelope(F_Time, TRise, TauDiff, Lag)\n",
    "\n",
    "  F_Fft0 = jnp.fft.rfft(F_Samples, n = N0 + K + 1, axis = -2)\n",
    "  # F_Fft1 = jnp.fft.rfft(F_Samples, n = N1 + K + 1, axis = -2)\n",
    "  # F_Fft2 = jnp.fft.rfft(F_Samples, n = N2 + K + 1, axis = -2)\n",
    "\n",
    "  Filter_Out0 = jnp.fft.irfft(F_Fft0 * Spike_Fft[0], N0 + K + 1, axis = -2)[:, :, : N0 + 1].sum(axis = 1)\n",
    "  # Filter_Out1 = jnp.fft.irfft(F_Fft1 * Spike_Fft[1], N1 + K + 1, axis = -2)[:, :, : N1 + 1].sum(axis = 1)\n",
    "  # Filter_Out2 = jnp.fft.irfft(F_Fft2 * Spike_Fft[2], N2 + K + 1, axis = -2)[:, :, : N2 + 1].sum(axis = 1)\n",
    "\n",
    "  Filter0 = lax.psum(Filter_Out0, axis_name=\"machs\")\n",
    "  # Filter1 = lax.psum(Filter_Out1, axis_name=\"machs\")\n",
    "  # Filter2 = lax.psum(Filter_Out2, axis_name=\"machs\")\n",
    "\n",
    "  Filter = jnp.asarray([Filter0]) #Filter1, Filter2])\n",
    "\n",
    "  Likelihood0 = Likely(Filter, Velocity, Sigma_n, Narr).sum(axis=0)\n",
    "\n",
    "  KL = lax.psum(KL, axis_name=\"machs\")\n",
    "  Exp = jnp.mean(Likelihood0)\n",
    "                  \n",
    "  return (KL-Exp)/(Num_Filt * jnp.sum(Narr) + 1)"
   ]
  },
  {
   "cell_type": "code",
   "execution_count": 43,
   "metadata": {},
   "outputs": [],
   "source": [
    "PNeg = pmap(Neg_ELBO, axis_name = \"machs\", in_axes=(0, 0, None, 0, 0, 0, 0, 0, 0, 0, None, None, None, None, None, None, None, None, None, None, None, 0, None, None, 0,),\n",
    "            static_broadcasted_argnums = range(10, 19))"
   ]
  },
  {
   "cell_type": "code",
   "execution_count": 50,
   "metadata": {},
   "outputs": [],
   "source": [
    "yvel = jnp.asarray([yvel[0]])\n",
    "narr = jnp.asarray([n])\n",
    "\n",
    "test_number_f = 15\n",
    "test_num_base = 100\n",
    "test_m = int(20)\n",
    "\n",
    "test_key = random.PRNGKey(0)\n",
    "test_key, *test_subkeys = random.split(test_key, 1 + 4 * num_mach)\n",
    "test_subkeys = np.asarray(test_subkeys).astype(np.uint32).reshape(num_mach, 4, 2)\n",
    "\n",
    "test_sigma_f = 2.0 * np.ones((num_mach, batch_size, 1, 1))# np.arange(num_mach * batch_size).reshape(num_mach, batch_size, 1, 1)\n",
    "test_ell_f = 0.7 * np.ones((num_mach, batch_size, 1, 1))\n",
    "test_sigma_n = 0.01\n",
    "test_z_final = jnp.tile(jnp.linspace(0.0, 1.0, test_m).reshape((test_m, 1)), (num_mach, batch_size, 1, 1))\n",
    "test_z_m = (jnp.arcsin(2.0 * (test_z_final - 0.5)) / jnp.pi) + 0.5\n",
    "test_v_m = 5.0 * np.ones((num_mach, batch_size, test_m, 1))\n",
    "test_l_diag = np.ones((num_mach, batch_size, test_m))\n",
    "test_l_odiag = np.tile(np.tril(np.ones((test_m, test_m)), -1)[np.tril_indices(test_m, -1)], (num_mach, batch_size, 1))\n",
    "test_trise = 0.02 * np.ones((num_mach, batch_size, 1, 1))\n",
    "test_tdiff = 0.03 * np.ones((num_mach, batch_size, 1, 1))\n",
    "test_lag = 0.01 * np.ones((num_mach, batch_size, 1, 1))\n",
    "test_indices = np.tril_indices(test_m, -1)"
   ]
  },
  {
   "cell_type": "code",
   "execution_count": 51,
   "metadata": {},
   "outputs": [],
   "source": [
    "@partial(jit, static_argnums = range(10, 19))\n",
    "def Return(Sigma_f, Ell, Sigma_n, Z_Fractions, V_Vector, L_Diag, L_ODiag, TRise,\n",
    "              TauDiff, Lag, Number_F, Num_Base, M, Num_Filt, Batch_Size, K, N0, N1, N2, Narr, \n",
    "              Indices, Spike_Fft, Velocity, F_Time, Subkeys):\n",
    "\n",
    "  return PNeg(Sigma_f, Ell, Sigma_n, Z_Fractions, V_Vector, L_Diag, L_ODiag, TRise,\n",
    "              TauDiff, Lag, Number_F, Num_Base, M, Num_Filt, Batch_Size, K, N0, N1, N2, Narr, \n",
    "              Indices, Spike_Fft, Velocity, F_Time, Subkeys)[0]"
   ]
  },
  {
   "cell_type": "code",
   "execution_count": 52,
   "metadata": {},
   "outputs": [],
   "source": [
    "testelb = Return(test_sigma_f, test_ell_f, test_sigma_n, test_z_m, test_v_m, test_l_diag,\n",
    "              test_l_odiag, test_trise, test_tdiff, test_lag, test_number_f, test_num_base,\n",
    "              test_m, num_filt, batch_size, k, n, n, n, narr, test_indices, spikefft, yvel, \n",
    "              ftime, test_subkeys)"
   ]
  },
  {
   "cell_type": "code",
   "execution_count": 53,
   "metadata": {},
   "outputs": [
    {
     "name": "stdout",
     "output_type": "stream",
     "text": [
      "19829.289525232853\n"
     ]
    }
   ],
   "source": [
    "print(testelb)"
   ]
  },
  {
   "cell_type": "code",
   "execution_count": 54,
   "metadata": {},
   "outputs": [],
   "source": [
    "Grad_Bound = value_and_grad(Return, argnums = range(10))"
   ]
  },
  {
   "cell_type": "code",
   "execution_count": 55,
   "metadata": {},
   "outputs": [],
   "source": [
    "testval, testgrad = Grad_Bound(test_sigma_f, test_ell_f, test_sigma_n, test_z_m, test_v_m, test_l_diag,\n",
    "              test_l_odiag, test_trise, test_tdiff, test_lag, test_number_f, test_num_base,\n",
    "              test_m, num_filt, batch_size, k, n, n, n, narr, test_indices, spikefft, yvel, \n",
    "              ftime, test_subkeys)"
   ]
  },
  {
   "cell_type": "code",
   "execution_count": 56,
   "metadata": {},
   "outputs": [
    {
     "name": "stdout",
     "output_type": "stream",
     "text": [
      "19829.289525232853\n"
     ]
    }
   ],
   "source": [
    "print(testval)"
   ]
  },
  {
   "cell_type": "markdown",
   "metadata": {},
   "source": [
    "# Training the Model"
   ]
  },
  {
   "cell_type": "code",
   "execution_count": 60,
   "metadata": {},
   "outputs": [],
   "source": [
    "def AdamOpt(Init_Params, Number_F, Num_Base, M, Num_Filt, Num_Mach, Batch_Size, K, \n",
    "              N0, N1, N2, Narr, Indices, Spike_Fft, Velocity, F_Time,   \n",
    "              Coarse_Schedule = [400, 400, 700], Mid_Schedule = [13500], Fine_Iters = 5000):\n",
    "  \n",
    "  \"\"\"\n",
    "  Function implementing the Adam optimiser loop.\n",
    "  \"\"\"\n",
    "  ELBO_History = np.zeros(20000)\n",
    "  Step = 0\n",
    "  Key = random.PRNGKey(1)\n",
    "  Key, *Subkeys = random.split(Key, 1 + 4 * Num_Mach)\n",
    "  Subkeys = jnp.asarray(Subkeys).astype(jnp.uint32).reshape(Num_Mach, 4, 2)\n",
    "  Params = Init_Params\n",
    "\n",
    "  Opt_InitC, Opt_UpdateC, Get_ParamsC = jeo.adam(1e-2)\n",
    "  Opt_InitM, Opt_UpdateM, Get_ParamsM = jeo.adam(1e-3)\n",
    "  Opt_InitF, Opt_UpdateF, Get_ParamsF = jeo.adam(1e-4)\n",
    "\n",
    "  for i in tqdm(range(len(Coarse_Schedule))):\n",
    "    OptState = Opt_InitC(Params)\n",
    "    for j in range(Coarse_Schedule[i]):\n",
    "      print(Step)\n",
    "      Value, Grads = Grad_Bound(*Params, Number_F, Num_Base, M, Num_Filt, Batch_Size, \n",
    "                                K, N0, N1, N2, Narr, Indices, Spike_Fft, Velocity, F_Time, Subkeys)\n",
    "      OptState = Opt_UpdateC(j, Grads, OptState)\n",
    "      Params = Get_ParamsC(OptState)\n",
    "      Key, *Subkeys = random.split(Key, 1 + 4 * Num_Mach)\n",
    "      Subkeys = jnp.asarray(Subkeys).astype(jnp.uint32).reshape(Num_Mach, 4, 2)\n",
    "      ELBO_History[Step] = -Value\n",
    "      Step += 1\n",
    "\n",
    "  for i in tqdm(range(len(Mid_Schedule))):\n",
    "    OptState = Opt_InitM(Params)\n",
    "    for j in range(Mid_Schedule[i]):\n",
    "  \n",
    "      Value, Grads = Grad_Bound(*Params, Number_F, Num_Base, M, Num_Filt, Batch_Size, \n",
    "                                K, N0, N1, N2, Narr, Indices, Spike_Fft, Velocity, F_Time, Subkeys)\n",
    "      OptState = Opt_UpdateM(j, Grads, OptState)\n",
    "      Params = Get_ParamsM(OptState)\n",
    "      Key, *Subkeys = random.split(Key, 1 + 4 * Num_Mach)\n",
    "      Subkeys = jnp.asarray(Subkeys).astype(jnp.uint32).reshape(Num_Mach, 4, 2)\n",
    "      ELBO_History[Step] = -Value\n",
    "      Step += 1\n",
    "\n",
    "  OptState = Opt_InitF(Params)\n",
    "  for j in tqdm(range(Fine_Iters)):\n",
    "\n",
    "    Value, Grads = Grad_Bound(*Params, Number_F, Num_Base, M, Num_Filt, Batch_Size, \n",
    "                                K, N0, N1, N2, Narr, Indices, Spike_Fft, Velocity, F_Time, Subkeys)\n",
    "    OptState = Opt_UpdateF(j, Grads, OptState)\n",
    "    Params = Get_ParamsF(OptState)\n",
    "    Key, *Subkeys = random.split(Key, 1 + 4 * Num_Mach)\n",
    "    Subkeys = jnp.asarray(Subkeys).astype(jnp.uint32).reshape(Num_Mach, 4, 2)\n",
    "    ELBO_History[Step] = -Value\n",
    "    Step += 1\n",
    "\n",
    "  return Params, ELBO_History "
   ]
  },
  {
   "cell_type": "code",
   "execution_count": 61,
   "metadata": {
    "executionInfo": {
     "elapsed": 3292,
     "status": "ok",
     "timestamp": 1646766638229,
     "user": {
      "displayName": "Simon Gomez-Cullen",
      "photoUrl": "https://lh3.googleusercontent.com/a/default-user=s64",
      "userId": "13652272254121268238"
     },
     "user_tz": 0
    },
    "id": "UAGaB-DdaFO-"
   },
   "outputs": [],
   "source": [
    "key = random.PRNGKey(4)\n",
    "\n",
    "# Initialising the parameters\n",
    "\n",
    "# Generative parameters\n",
    "isigma_f = 1.0 * jnp.ones((num_mach, batch_size, 1, 1))\n",
    "iell = 0.002 * jnp.ones ((num_mach, batch_size, 1, 1))\n",
    "isigma_n = 0.000000005\n",
    "itrise = np.sqrt(0.05) * jnp.ones((num_mach, batch_size, 1, 1))\n",
    "itaudiff = np.sqrt(0.01) * jnp.ones((num_mach, batch_size, 1, 1))\n",
    "ilag = np.sqrt(0.01) * jnp.ones((num_mach, batch_size, 1, 1))\n",
    "\n",
    "# Variational parameters\n",
    "num_f = 15\n",
    "num_b = 100\n",
    "num_ind = 20\n",
    "iz_final = jnp.tile(jnp.linspace(0.0, 1.0, num_ind).reshape((num_ind, 1)), (num_mach, batch_size, 1, 1))\n",
    "iz_fracs = (jnp.arcsin(2.0 * (iz_final - 0.5)) / jnp.pi) + 0.5\n",
    "key, *subkeys = random.split(key, 4)\n",
    "iv_vector = 0.01 * random.normal(subkeys[-3], (num_mach, batch_size, num_ind, 1))\n",
    "il_diag = 0.01 * random.normal(subkeys[-2], (num_mach, batch_size, num_ind))\n",
    "il_odiag = 0.1 * random.normal(subkeys[-1], (num_mach, batch_size, int((num_ind ** 2 - num_ind) / 2)))\n",
    "indices = jnp.asarray(jnp.tril_indices(num_ind, -1))\n",
    "\n",
    "# Random number generator\n",
    "opt_key = random.PRNGKey(1)\n",
    "opt_key, *opt_subkey = random.split(opt_key, 1 + 4 * num_mach)\n",
    "opt_subkey = np.asarray([opt_subkey[i:i+4] for i in range(num_mach)]).astype(np.uint32)\n",
    "\n",
    "params = (isigma_f, iell, isigma_n, iz_fracs, iv_vector, il_diag, il_odiag, itrise, itaudiff, ilag)\n",
    "consparams = (num_ind, num_filt, batch_size, k, n, n, n, narr, indices, spikefft, yvel, ftime)"
   ]
  },
  {
   "cell_type": "code",
   "execution_count": 62,
   "metadata": {},
   "outputs": [
    {
     "name": "stderr",
     "output_type": "stream",
     "text": [
      "  0%|          | 0/3 [00:00<?, ?it/s]"
     ]
    },
    {
     "name": "stdout",
     "output_type": "stream",
     "text": [
      "0\n",
      "1\n",
      "2\n",
      "3\n",
      "4\n",
      "5\n",
      "6\n",
      "7\n",
      "8\n",
      "9\n",
      "10\n",
      "11\n",
      "12\n",
      "13\n",
      "14\n",
      "15\n",
      "16\n",
      "17\n",
      "18\n",
      "19\n",
      "20\n",
      "21\n",
      "22\n",
      "23\n",
      "24\n",
      "25\n",
      "26\n",
      "27\n",
      "28\n",
      "29\n",
      "30\n",
      "31\n",
      "32\n",
      "33\n",
      "34\n",
      "35\n",
      "36\n",
      "37\n",
      "38\n",
      "39\n",
      "40\n",
      "41\n",
      "42\n",
      "43\n",
      "44\n",
      "45\n",
      "46\n",
      "47\n",
      "48\n",
      "49\n",
      "50\n",
      "51\n",
      "52\n",
      "53\n",
      "54\n",
      "55\n",
      "56\n",
      "57\n",
      "58\n",
      "59\n",
      "60\n",
      "61\n",
      "62\n",
      "63\n",
      "64\n",
      "65\n",
      "66\n",
      "67\n",
      "68\n",
      "69\n",
      "70\n",
      "71\n",
      "72\n",
      "73\n",
      "74\n",
      "75\n",
      "76\n",
      "77\n",
      "78\n",
      "79\n",
      "80\n",
      "81\n",
      "82\n",
      "83\n",
      "84\n",
      "85\n",
      "86\n",
      "87\n",
      "88\n",
      "89\n",
      "90\n",
      "91\n",
      "92\n",
      "93\n",
      "94\n",
      "95\n",
      "96\n",
      "97\n",
      "98\n",
      "99\n",
      "100\n",
      "101\n",
      "102\n",
      "103\n",
      "104\n",
      "105\n",
      "106\n",
      "107\n",
      "108\n",
      "109\n",
      "110\n",
      "111\n",
      "112\n",
      "113\n",
      "114\n",
      "115\n",
      "116\n",
      "117\n",
      "118\n",
      "119\n",
      "120\n",
      "121\n",
      "122\n",
      "123\n",
      "124\n",
      "125\n",
      "126\n",
      "127\n",
      "128\n",
      "129\n",
      "130\n",
      "131\n",
      "132\n",
      "133\n",
      "134\n",
      "135\n",
      "136\n",
      "137\n",
      "138\n",
      "139\n",
      "140\n",
      "141\n",
      "142\n",
      "143\n",
      "144\n",
      "145\n",
      "146\n",
      "147\n",
      "148\n",
      "149\n",
      "150\n",
      "151\n",
      "152\n",
      "153\n",
      "154\n",
      "155\n",
      "156\n",
      "157\n",
      "158\n",
      "159\n",
      "160\n",
      "161\n",
      "162\n",
      "163\n",
      "164\n",
      "165\n",
      "166\n",
      "167\n",
      "168\n",
      "169\n",
      "170\n",
      "171\n",
      "172\n",
      "173\n",
      "174\n",
      "175\n",
      "176\n",
      "177\n",
      "178\n",
      "179\n",
      "180\n",
      "181\n",
      "182\n",
      "183\n",
      "184\n",
      "185\n",
      "186\n",
      "187\n",
      "188\n",
      "189\n",
      "190\n",
      "191\n",
      "192\n",
      "193\n",
      "194\n",
      "195\n",
      "196\n",
      "197\n",
      "198\n",
      "199\n",
      "200\n",
      "201\n",
      "202\n",
      "203\n",
      "204\n",
      "205\n",
      "206\n",
      "207\n",
      "208\n",
      "209\n",
      "210\n",
      "211\n",
      "212\n",
      "213\n",
      "214\n",
      "215\n",
      "216\n",
      "217\n",
      "218\n",
      "219\n",
      "220\n",
      "221\n",
      "222\n",
      "223\n",
      "224\n",
      "225\n",
      "226\n",
      "227\n",
      "228\n",
      "229\n",
      "230\n",
      "231\n",
      "232\n",
      "233\n",
      "234\n",
      "235\n",
      "236\n",
      "237\n",
      "238\n",
      "239\n",
      "240\n",
      "241\n",
      "242\n",
      "243\n",
      "244\n",
      "245\n",
      "246\n",
      "247\n",
      "248\n",
      "249\n",
      "250\n",
      "251\n",
      "252\n",
      "253\n",
      "254\n",
      "255\n",
      "256\n",
      "257\n",
      "258\n",
      "259\n",
      "260\n",
      "261\n",
      "262\n",
      "263\n",
      "264\n",
      "265\n",
      "266\n",
      "267\n",
      "268\n",
      "269\n",
      "270\n",
      "271\n",
      "272\n",
      "273\n",
      "274\n",
      "275\n",
      "276\n",
      "277\n",
      "278\n",
      "279\n",
      "280\n",
      "281\n",
      "282\n",
      "283\n",
      "284\n",
      "285\n",
      "286\n",
      "287\n",
      "288\n",
      "289\n",
      "290\n",
      "291\n",
      "292\n",
      "293\n",
      "294\n",
      "295\n",
      "296\n",
      "297\n",
      "298\n",
      "299\n",
      "300\n",
      "301\n",
      "302\n",
      "303\n",
      "304\n",
      "305\n",
      "306\n",
      "307\n",
      "308\n",
      "309\n",
      "310\n",
      "311\n",
      "312\n",
      "313\n",
      "314\n",
      "315\n",
      "316\n",
      "317\n",
      "318\n",
      "319\n",
      "320\n",
      "321\n",
      "322\n",
      "323\n",
      "324\n",
      "325\n",
      "326\n",
      "327\n",
      "328\n",
      "329\n",
      "330\n",
      "331\n",
      "332\n",
      "333\n",
      "334\n",
      "335\n",
      "336\n",
      "337\n",
      "338\n",
      "339\n",
      "340\n",
      "341\n",
      "342\n",
      "343\n",
      "344\n",
      "345\n",
      "346\n",
      "347\n",
      "348\n",
      "349\n",
      "350\n",
      "351\n",
      "352\n",
      "353\n",
      "354\n",
      "355\n",
      "356\n",
      "357\n",
      "358\n",
      "359\n",
      "360\n",
      "361\n",
      "362\n",
      "363\n",
      "364\n",
      "365\n",
      "366\n",
      "367\n",
      "368\n",
      "369\n",
      "370\n",
      "371\n",
      "372\n",
      "373\n",
      "374\n",
      "375\n",
      "376\n",
      "377\n",
      "378\n",
      "379\n",
      "380\n",
      "381\n",
      "382\n",
      "383\n",
      "384\n",
      "385\n",
      "386\n",
      "387\n",
      "388\n",
      "389\n",
      "390\n",
      "391\n",
      "392\n",
      "393\n",
      "394\n",
      "395\n",
      "396\n",
      "397\n",
      "398\n"
     ]
    },
    {
     "name": "stderr",
     "output_type": "stream",
     "text": [
      " 33%|███▎      | 1/3 [00:56<01:52, 56.20s/it]"
     ]
    },
    {
     "name": "stdout",
     "output_type": "stream",
     "text": [
      "399\n",
      "400\n",
      "401\n",
      "402\n",
      "403\n",
      "404\n",
      "405\n",
      "406\n",
      "407\n",
      "408\n",
      "409\n",
      "410\n",
      "411\n",
      "412\n",
      "413\n",
      "414\n",
      "415\n",
      "416\n",
      "417\n",
      "418\n",
      "419\n",
      "420\n",
      "421\n",
      "422\n",
      "423\n",
      "424\n",
      "425\n",
      "426\n",
      "427\n",
      "428\n",
      "429\n",
      "430\n",
      "431\n",
      "432\n",
      "433\n",
      "434\n",
      "435\n",
      "436\n",
      "437\n",
      "438\n",
      "439\n",
      "440\n",
      "441\n",
      "442\n",
      "443\n",
      "444\n",
      "445\n",
      "446\n",
      "447\n",
      "448\n",
      "449\n",
      "450\n",
      "451\n",
      "452\n",
      "453\n",
      "454\n",
      "455\n",
      "456\n",
      "457\n",
      "458\n",
      "459\n",
      "460\n",
      "461\n",
      "462\n",
      "463\n",
      "464\n",
      "465\n",
      "466\n",
      "467\n",
      "468\n",
      "469\n",
      "470\n",
      "471\n",
      "472\n",
      "473\n",
      "474\n",
      "475\n",
      "476\n",
      "477\n",
      "478\n",
      "479\n",
      "480\n",
      "481\n",
      "482\n",
      "483\n",
      "484\n",
      "485\n",
      "486\n",
      "487\n",
      "488\n",
      "489\n",
      "490\n",
      "491\n",
      "492\n",
      "493\n",
      "494\n",
      "495\n",
      "496\n",
      "497\n",
      "498\n",
      "499\n",
      "500\n",
      "501\n",
      "502\n",
      "503\n",
      "504\n",
      "505\n",
      "506\n",
      "507\n",
      "508\n",
      "509\n",
      "510\n",
      "511\n",
      "512\n",
      "513\n",
      "514\n",
      "515\n",
      "516\n",
      "517\n",
      "518\n",
      "519\n",
      "520\n",
      "521\n",
      "522\n",
      "523\n",
      "524\n",
      "525\n",
      "526\n",
      "527\n",
      "528\n",
      "529\n",
      "530\n",
      "531\n",
      "532\n",
      "533\n",
      "534\n",
      "535\n",
      "536\n",
      "537\n",
      "538\n",
      "539\n",
      "540\n",
      "541\n",
      "542\n",
      "543\n",
      "544\n",
      "545\n",
      "546\n",
      "547\n",
      "548\n",
      "549\n",
      "550\n",
      "551\n",
      "552\n",
      "553\n",
      "554\n",
      "555\n",
      "556\n",
      "557\n",
      "558\n",
      "559\n",
      "560\n",
      "561\n",
      "562\n",
      "563\n",
      "564\n",
      "565\n",
      "566\n",
      "567\n",
      "568\n",
      "569\n",
      "570\n",
      "571\n",
      "572\n",
      "573\n",
      "574\n",
      "575\n",
      "576\n",
      "577\n",
      "578\n",
      "579\n",
      "580\n",
      "581\n",
      "582\n",
      "583\n",
      "584\n",
      "585\n",
      "586\n",
      "587\n",
      "588\n",
      "589\n",
      "590\n",
      "591\n",
      "592\n",
      "593\n",
      "594\n",
      "595\n",
      "596\n",
      "597\n",
      "598\n",
      "599\n",
      "600\n",
      "601\n",
      "602\n",
      "603\n",
      "604\n",
      "605\n",
      "606\n",
      "607\n",
      "608\n",
      "609\n",
      "610\n",
      "611\n",
      "612\n",
      "613\n",
      "614\n",
      "615\n",
      "616\n",
      "617\n",
      "618\n",
      "619\n",
      "620\n",
      "621\n",
      "622\n",
      "623\n",
      "624\n",
      "625\n",
      "626\n",
      "627\n",
      "628\n",
      "629\n",
      "630\n",
      "631\n",
      "632\n",
      "633\n",
      "634\n",
      "635\n",
      "636\n",
      "637\n",
      "638\n",
      "639\n",
      "640\n",
      "641\n",
      "642\n",
      "643\n",
      "644\n",
      "645\n",
      "646\n",
      "647\n",
      "648\n",
      "649\n",
      "650\n",
      "651\n",
      "652\n",
      "653\n",
      "654\n",
      "655\n",
      "656\n",
      "657\n",
      "658\n",
      "659\n",
      "660\n",
      "661\n",
      "662\n",
      "663\n",
      "664\n",
      "665\n",
      "666\n",
      "667\n",
      "668\n",
      "669\n",
      "670\n",
      "671\n",
      "672\n",
      "673\n",
      "674\n",
      "675\n",
      "676\n",
      "677\n",
      "678\n",
      "679\n",
      "680\n",
      "681\n",
      "682\n",
      "683\n",
      "684\n",
      "685\n",
      "686\n",
      "687\n",
      "688\n",
      "689\n",
      "690\n",
      "691\n",
      "692\n",
      "693\n",
      "694\n",
      "695\n",
      "696\n",
      "697\n",
      "698\n",
      "699\n",
      "700\n",
      "701\n",
      "702\n",
      "703\n",
      "704\n",
      "705\n",
      "706\n",
      "707\n",
      "708\n",
      "709\n",
      "710\n",
      "711\n",
      "712\n",
      "713\n",
      "714\n",
      "715\n",
      "716\n",
      "717\n",
      "718\n",
      "719\n",
      "720\n",
      "721\n",
      "722\n",
      "723\n",
      "724\n",
      "725\n",
      "726\n",
      "727\n",
      "728\n",
      "729\n",
      "730\n",
      "731\n",
      "732\n",
      "733\n",
      "734\n",
      "735\n",
      "736\n",
      "737\n",
      "738\n",
      "739\n",
      "740\n",
      "741\n",
      "742\n",
      "743\n",
      "744\n",
      "745\n",
      "746\n",
      "747\n",
      "748\n",
      "749\n",
      "750\n",
      "751\n",
      "752\n",
      "753\n",
      "754\n",
      "755\n",
      "756\n",
      "757\n",
      "758\n",
      "759\n",
      "760\n",
      "761\n",
      "762\n",
      "763\n",
      "764\n",
      "765\n",
      "766\n",
      "767\n",
      "768\n",
      "769\n",
      "770\n",
      "771\n",
      "772\n",
      "773\n",
      "774\n",
      "775\n",
      "776\n",
      "777\n",
      "778\n",
      "779\n",
      "780\n",
      "781\n",
      "782\n",
      "783\n",
      "784\n",
      "785\n",
      "786\n",
      "787\n",
      "788\n",
      "789\n",
      "790\n",
      "791\n",
      "792\n",
      "793\n",
      "794\n",
      "795\n",
      "796\n",
      "797\n",
      "798\n"
     ]
    },
    {
     "name": "stderr",
     "output_type": "stream",
     "text": [
      " 67%|██████▋   | 2/3 [01:33<00:45, 45.04s/it]"
     ]
    },
    {
     "name": "stdout",
     "output_type": "stream",
     "text": [
      "799\n",
      "800\n",
      "801\n",
      "802\n",
      "803\n",
      "804\n",
      "805\n",
      "806\n",
      "807\n",
      "808\n",
      "809\n",
      "810\n",
      "811\n",
      "812\n",
      "813\n",
      "814\n",
      "815\n",
      "816\n",
      "817\n",
      "818\n",
      "819\n",
      "820\n",
      "821\n",
      "822\n",
      "823\n",
      "824\n",
      "825\n",
      "826\n",
      "827\n",
      "828\n",
      "829\n",
      "830\n",
      "831\n",
      "832\n",
      "833\n",
      "834\n",
      "835\n",
      "836\n",
      "837\n",
      "838\n",
      "839\n",
      "840\n",
      "841\n",
      "842\n",
      "843\n",
      "844\n",
      "845\n",
      "846\n",
      "847\n",
      "848\n",
      "849\n",
      "850\n",
      "851\n",
      "852\n",
      "853\n",
      "854\n",
      "855\n",
      "856\n",
      "857\n",
      "858\n",
      "859\n",
      "860\n",
      "861\n",
      "862\n",
      "863\n",
      "864\n",
      "865\n",
      "866\n",
      "867\n",
      "868\n",
      "869\n",
      "870\n",
      "871\n",
      "872\n",
      "873\n",
      "874\n",
      "875\n",
      "876\n",
      "877\n",
      "878\n",
      "879\n",
      "880\n",
      "881\n",
      "882\n",
      "883\n",
      "884\n",
      "885\n",
      "886\n",
      "887\n",
      "888\n",
      "889\n",
      "890\n",
      "891\n",
      "892\n",
      "893\n",
      "894\n",
      "895\n",
      "896\n",
      "897\n",
      "898\n",
      "899\n",
      "900\n",
      "901\n",
      "902\n",
      "903\n",
      "904\n",
      "905\n",
      "906\n",
      "907\n",
      "908\n",
      "909\n",
      "910\n",
      "911\n",
      "912\n",
      "913\n",
      "914\n",
      "915\n",
      "916\n",
      "917\n",
      "918\n",
      "919\n",
      "920\n",
      "921\n",
      "922\n",
      "923\n",
      "924\n",
      "925\n",
      "926\n",
      "927\n",
      "928\n",
      "929\n",
      "930\n",
      "931\n",
      "932\n",
      "933\n",
      "934\n",
      "935\n",
      "936\n",
      "937\n",
      "938\n",
      "939\n",
      "940\n",
      "941\n",
      "942\n",
      "943\n",
      "944\n",
      "945\n",
      "946\n",
      "947\n",
      "948\n",
      "949\n",
      "950\n",
      "951\n",
      "952\n",
      "953\n",
      "954\n",
      "955\n",
      "956\n",
      "957\n",
      "958\n",
      "959\n",
      "960\n",
      "961\n",
      "962\n",
      "963\n",
      "964\n",
      "965\n",
      "966\n",
      "967\n",
      "968\n",
      "969\n",
      "970\n",
      "971\n",
      "972\n",
      "973\n",
      "974\n",
      "975\n",
      "976\n",
      "977\n",
      "978\n",
      "979\n",
      "980\n",
      "981\n",
      "982\n",
      "983\n",
      "984\n",
      "985\n",
      "986\n",
      "987\n",
      "988\n",
      "989\n",
      "990\n",
      "991\n",
      "992\n",
      "993\n",
      "994\n",
      "995\n",
      "996\n",
      "997\n",
      "998\n",
      "999\n",
      "1000\n",
      "1001\n",
      "1002\n",
      "1003\n",
      "1004\n",
      "1005\n",
      "1006\n",
      "1007\n",
      "1008\n",
      "1009\n",
      "1010\n",
      "1011\n",
      "1012\n",
      "1013\n",
      "1014\n",
      "1015\n",
      "1016\n",
      "1017\n",
      "1018\n",
      "1019\n",
      "1020\n",
      "1021\n",
      "1022\n",
      "1023\n",
      "1024\n",
      "1025\n",
      "1026\n",
      "1027\n",
      "1028\n",
      "1029\n",
      "1030\n",
      "1031\n",
      "1032\n",
      "1033\n",
      "1034\n",
      "1035\n",
      "1036\n",
      "1037\n",
      "1038\n",
      "1039\n",
      "1040\n",
      "1041\n",
      "1042\n",
      "1043\n",
      "1044\n",
      "1045\n",
      "1046\n",
      "1047\n",
      "1048\n",
      "1049\n",
      "1050\n",
      "1051\n",
      "1052\n",
      "1053\n",
      "1054\n",
      "1055\n",
      "1056\n",
      "1057\n",
      "1058\n",
      "1059\n",
      "1060\n",
      "1061\n",
      "1062\n",
      "1063\n",
      "1064\n",
      "1065\n",
      "1066\n",
      "1067\n",
      "1068\n",
      "1069\n",
      "1070\n",
      "1071\n",
      "1072\n",
      "1073\n",
      "1074\n",
      "1075\n",
      "1076\n",
      "1077\n",
      "1078\n",
      "1079\n",
      "1080\n",
      "1081\n",
      "1082\n",
      "1083\n",
      "1084\n",
      "1085\n",
      "1086\n",
      "1087\n",
      "1088\n",
      "1089\n",
      "1090\n",
      "1091\n",
      "1092\n",
      "1093\n",
      "1094\n",
      "1095\n",
      "1096\n",
      "1097\n",
      "1098\n",
      "1099\n",
      "1100\n",
      "1101\n",
      "1102\n",
      "1103\n",
      "1104\n",
      "1105\n",
      "1106\n",
      "1107\n",
      "1108\n",
      "1109\n",
      "1110\n",
      "1111\n",
      "1112\n",
      "1113\n",
      "1114\n",
      "1115\n",
      "1116\n",
      "1117\n",
      "1118\n",
      "1119\n",
      "1120\n",
      "1121\n",
      "1122\n",
      "1123\n",
      "1124\n",
      "1125\n",
      "1126\n",
      "1127\n",
      "1128\n",
      "1129\n",
      "1130\n",
      "1131\n",
      "1132\n",
      "1133\n",
      "1134\n",
      "1135\n",
      "1136\n",
      "1137\n",
      "1138\n",
      "1139\n",
      "1140\n",
      "1141\n",
      "1142\n",
      "1143\n",
      "1144\n",
      "1145\n",
      "1146\n",
      "1147\n",
      "1148\n",
      "1149\n",
      "1150\n",
      "1151\n",
      "1152\n",
      "1153\n",
      "1154\n",
      "1155\n",
      "1156\n",
      "1157\n",
      "1158\n",
      "1159\n",
      "1160\n",
      "1161\n",
      "1162\n",
      "1163\n",
      "1164\n",
      "1165\n",
      "1166\n",
      "1167\n",
      "1168\n",
      "1169\n",
      "1170\n",
      "1171\n",
      "1172\n",
      "1173\n",
      "1174\n",
      "1175\n",
      "1176\n",
      "1177\n",
      "1178\n",
      "1179\n",
      "1180\n",
      "1181\n",
      "1182\n",
      "1183\n",
      "1184\n",
      "1185\n",
      "1186\n",
      "1187\n",
      "1188\n",
      "1189\n",
      "1190\n",
      "1191\n",
      "1192\n",
      "1193\n",
      "1194\n",
      "1195\n",
      "1196\n",
      "1197\n",
      "1198\n",
      "1199\n",
      "1200\n",
      "1201\n",
      "1202\n",
      "1203\n",
      "1204\n",
      "1205\n",
      "1206\n",
      "1207\n",
      "1208\n",
      "1209\n",
      "1210\n",
      "1211\n",
      "1212\n",
      "1213\n",
      "1214\n",
      "1215\n",
      "1216\n",
      "1217\n",
      "1218\n",
      "1219\n",
      "1220\n",
      "1221\n",
      "1222\n",
      "1223\n",
      "1224\n",
      "1225\n",
      "1226\n",
      "1227\n",
      "1228\n",
      "1229\n",
      "1230\n",
      "1231\n",
      "1232\n",
      "1233\n",
      "1234\n",
      "1235\n",
      "1236\n",
      "1237\n",
      "1238\n",
      "1239\n",
      "1240\n",
      "1241\n",
      "1242\n",
      "1243\n",
      "1244\n",
      "1245\n",
      "1246\n",
      "1247\n",
      "1248\n",
      "1249\n",
      "1250\n",
      "1251\n",
      "1252\n",
      "1253\n",
      "1254\n",
      "1255\n",
      "1256\n",
      "1257\n",
      "1258\n",
      "1259\n",
      "1260\n",
      "1261\n",
      "1262\n",
      "1263\n",
      "1264\n",
      "1265\n",
      "1266\n",
      "1267\n",
      "1268\n",
      "1269\n",
      "1270\n",
      "1271\n",
      "1272\n",
      "1273\n",
      "1274\n",
      "1275\n",
      "1276\n",
      "1277\n",
      "1278\n",
      "1279\n",
      "1280\n",
      "1281\n",
      "1282\n",
      "1283\n",
      "1284\n",
      "1285\n",
      "1286\n",
      "1287\n",
      "1288\n",
      "1289\n",
      "1290\n",
      "1291\n",
      "1292\n",
      "1293\n",
      "1294\n",
      "1295\n",
      "1296\n",
      "1297\n",
      "1298\n",
      "1299\n",
      "1300\n",
      "1301\n",
      "1302\n",
      "1303\n",
      "1304\n",
      "1305\n",
      "1306\n",
      "1307\n",
      "1308\n",
      "1309\n",
      "1310\n",
      "1311\n",
      "1312\n",
      "1313\n",
      "1314\n",
      "1315\n",
      "1316\n",
      "1317\n",
      "1318\n",
      "1319\n",
      "1320\n",
      "1321\n",
      "1322\n",
      "1323\n",
      "1324\n",
      "1325\n",
      "1326\n",
      "1327\n",
      "1328\n",
      "1329\n",
      "1330\n",
      "1331\n",
      "1332\n",
      "1333\n",
      "1334\n",
      "1335\n",
      "1336\n",
      "1337\n",
      "1338\n",
      "1339\n",
      "1340\n",
      "1341\n",
      "1342\n",
      "1343\n",
      "1344\n",
      "1345\n",
      "1346\n",
      "1347\n",
      "1348\n",
      "1349\n",
      "1350\n",
      "1351\n",
      "1352\n",
      "1353\n",
      "1354\n",
      "1355\n",
      "1356\n",
      "1357\n",
      "1358\n",
      "1359\n",
      "1360\n",
      "1361\n",
      "1362\n",
      "1363\n",
      "1364\n",
      "1365\n",
      "1366\n",
      "1367\n",
      "1368\n",
      "1369\n",
      "1370\n",
      "1371\n",
      "1372\n",
      "1373\n",
      "1374\n",
      "1375\n",
      "1376\n",
      "1377\n",
      "1378\n",
      "1379\n",
      "1380\n",
      "1381\n",
      "1382\n",
      "1383\n",
      "1384\n",
      "1385\n",
      "1386\n",
      "1387\n",
      "1388\n",
      "1389\n",
      "1390\n",
      "1391\n",
      "1392\n",
      "1393\n",
      "1394\n",
      "1395\n",
      "1396\n",
      "1397\n",
      "1398\n",
      "1399\n",
      "1400\n",
      "1401\n",
      "1402\n",
      "1403\n",
      "1404\n",
      "1405\n",
      "1406\n",
      "1407\n",
      "1408\n",
      "1409\n",
      "1410\n",
      "1411\n",
      "1412\n",
      "1413\n",
      "1414\n",
      "1415\n",
      "1416\n",
      "1417\n",
      "1418\n",
      "1419\n",
      "1420\n",
      "1421\n",
      "1422\n",
      "1423\n",
      "1424\n",
      "1425\n",
      "1426\n",
      "1427\n",
      "1428\n",
      "1429\n",
      "1430\n",
      "1431\n",
      "1432\n",
      "1433\n",
      "1434\n",
      "1435\n",
      "1436\n",
      "1437\n",
      "1438\n",
      "1439\n",
      "1440\n",
      "1441\n",
      "1442\n",
      "1443\n",
      "1444\n",
      "1445\n",
      "1446\n",
      "1447\n",
      "1448\n",
      "1449\n",
      "1450\n",
      "1451\n",
      "1452\n",
      "1453\n",
      "1454\n",
      "1455\n",
      "1456\n",
      "1457\n",
      "1458\n",
      "1459\n",
      "1460\n",
      "1461\n",
      "1462\n",
      "1463\n",
      "1464\n",
      "1465\n",
      "1466\n",
      "1467\n",
      "1468\n",
      "1469\n",
      "1470\n",
      "1471\n",
      "1472\n",
      "1473\n",
      "1474\n",
      "1475\n",
      "1476\n",
      "1477\n",
      "1478\n",
      "1479\n",
      "1480\n",
      "1481\n",
      "1482\n",
      "1483\n",
      "1484\n",
      "1485\n",
      "1486\n",
      "1487\n",
      "1488\n",
      "1489\n",
      "1490\n",
      "1491\n",
      "1492\n",
      "1493\n",
      "1494\n",
      "1495\n",
      "1496\n",
      "1497\n",
      "1498\n"
     ]
    },
    {
     "name": "stderr",
     "output_type": "stream",
     "text": [
      "100%|██████████| 3/3 [02:48<00:00, 56.33s/it]\n"
     ]
    },
    {
     "name": "stdout",
     "output_type": "stream",
     "text": [
      "1499\n"
     ]
    },
    {
     "name": "stderr",
     "output_type": "stream",
     "text": [
      "100%|██████████| 1/1 [26:36<00:00, 1596.31s/it]\n",
      "100%|██████████| 5000/5000 [08:10<00:00, 10.18it/s]\n"
     ]
    }
   ],
   "source": [
    "fparams, elbo_history = AdamOpt(params, num_f, num_b, num_ind, num_filt, num_mach, batch_size,\n",
    "                                  k, n, n, n, narr, indices, spikefft, yvel, ftime)"
   ]
  },
  {
   "cell_type": "code",
   "execution_count": 63,
   "metadata": {
    "colab": {
     "base_uri": "https://localhost:8080/"
    },
    "executionInfo": {
     "elapsed": 1017,
     "status": "ok",
     "timestamp": 1646766776379,
     "user": {
      "displayName": "Simon Gomez-Cullen",
      "photoUrl": "https://lh3.googleusercontent.com/a/default-user=s64",
      "userId": "13652272254121268238"
     },
     "user_tz": 0
    },
    "id": "1mkX9pbJV9Gb",
    "outputId": "1dfd7eb9-273b-486a-b845-37037bf375d8"
   },
   "outputs": [
    {
     "name": "stdout",
     "output_type": "stream",
     "text": [
      "1.1679283767640114e+17\n"
     ]
    }
   ],
   "source": [
    "print(Return(*params, num_f, num_b, *consparams, opt_subkey))"
   ]
  },
  {
   "cell_type": "code",
   "execution_count": 64,
   "metadata": {},
   "outputs": [
    {
     "name": "stdout",
     "output_type": "stream",
     "text": [
      "-1.4938680359858987\n"
     ]
    }
   ],
   "source": [
    "print(Return(*fparams, num_f, num_b, *consparams, opt_subkey))"
   ]
  },
  {
   "cell_type": "code",
   "execution_count": 65,
   "metadata": {},
   "outputs": [
    {
     "data": {
      "text/plain": [
       "[<matplotlib.lines.Line2D at 0x7f2c0035e850>]"
      ]
     },
     "execution_count": 65,
     "metadata": {},
     "output_type": "execute_result"
    },
    {
     "data": {
      "image/png": "[encoded data removed]",
      "text/plain": [
       "<Figure size 432x288 with 1 Axes>"
      ]
     },
     "metadata": {
      "needs_background": "light"
     },
     "output_type": "display_data"
    }
   ],
   "source": [
    "plt.plot(elbo_history[:])"
   ]
  },
  {
   "cell_type": "code",
   "execution_count": 66,
   "metadata": {
    "executionInfo": {
     "elapsed": 7,
     "status": "ok",
     "timestamp": 1646766776379,
     "user": {
      "displayName": "Simon Gomez-Cullen",
      "photoUrl": "https://lh3.googleusercontent.com/a/default-user=s64",
      "userId": "13652272254121268238"
     },
     "user_tz": 0
    },
    "id": "LF-fsINZXfoK"
   },
   "outputs": [],
   "source": [
    "fsigma_f, fell, fsigma_n, fz_fracs, fv_vector, fl_diag, fl_odiag, ftrise, ftaudiff, flag = fparams"
   ]
  },
  {
   "cell_type": "code",
   "execution_count": 67,
   "metadata": {},
   "outputs": [],
   "source": [
    "@jit\n",
    "def Set(Matrix, Indices, NewVals):\n",
    "  return Matrix.at[:, Indices[0], Indices[1]].set(NewVals)"
   ]
  },
  {
   "cell_type": "code",
   "execution_count": 68,
   "metadata": {},
   "outputs": [],
   "source": [
    "PDiag = pmap(Diag)"
   ]
  },
  {
   "cell_type": "code",
   "execution_count": 69,
   "metadata": {},
   "outputs": [],
   "source": [
    "PSet = pmap(Set, in_axes=(0, None, 0,))"
   ]
  },
  {
   "cell_type": "code",
   "execution_count": 70,
   "metadata": {},
   "outputs": [
    {
     "name": "stdout",
     "output_type": "stream",
     "text": [
      "(1, 1, 20)\n",
      "(1, 1, 20, 20)\n",
      "(1, 1, 20, 20)\n",
      "(1, 1, 20, 20)\n"
     ]
    }
   ],
   "source": [
    "ilag = ilag ** 2\n",
    "\n",
    "iz_vector = (0.5 * np.sin( np.pi * (iz_fracs - 0.5)) + 0.5) * (ftime[-1, 0] - ilag) + ilag\n",
    "\n",
    "idz = PDiag(np.exp(il_diag))\n",
    "print(il_diag.shape)\n",
    "print(idz.shape)\n",
    "il_matrix = PSet(idz, indices, il_odiag)\n",
    "\n",
    "\n",
    "flag = flag ** 2\n",
    "\n",
    "fz_vector = (0.5 * np.sin( np.pi * (fz_fracs - 0.5)) + 0.5) * (ftime[-1] - flag) + flag\n",
    "\n",
    "fd = PDiag(np.exp(fl_diag))\n",
    "fl_matrix = PSet(fd, indices, fl_odiag)\n",
    "print(fd.shape)\n",
    "print(fl_matrix.shape)"
   ]
  },
  {
   "cell_type": "code",
   "execution_count": 71,
   "metadata": {
    "colab": {
     "base_uri": "https://localhost:8080/"
    },
    "executionInfo": {
     "elapsed": 7,
     "status": "ok",
     "timestamp": 1646766776380,
     "user": {
      "displayName": "Simon Gomez-Cullen",
      "photoUrl": "https://lh3.googleusercontent.com/a/default-user=s64",
      "userId": "13652272254121268238"
     },
     "user_tz": 0
    },
    "id": "1GPauHWaa4u_",
    "outputId": "538efe20-48cb-435d-b7f4-2153fbe5ae3b"
   },
   "outputs": [],
   "source": [
    "isigma_ff = isigma_f.reshape(num_filt, 1)\n",
    "iellf = iell.reshape(num_filt, 1)\n",
    "iz_vectorf = iz_vector.reshape(num_filt, num_ind, 1)\n",
    "iv_vectorf = iv_vector.reshape(num_filt, num_ind, 1)\n",
    "il_matrixf = il_matrix.reshape(num_filt, num_ind, num_ind)\n",
    "itrisef = itrise.reshape(num_filt, 1)\n",
    "itaudifff = itaudiff.reshape(num_filt, 1)\n",
    "ilagf = ilag.reshape(num_filt, 1)\n",
    "\n",
    "fsigma_ff = fsigma_f.reshape(num_filt, 1)\n",
    "fellf = fell.reshape(num_filt, 1)\n",
    "fz_vectorf = fz_vector.reshape(num_filt, num_ind, 1)\n",
    "fv_vectorf = fv_vector.reshape(num_filt, num_ind, 1)\n",
    "fl_matrixf = fl_matrix.reshape(num_filt, num_ind, num_ind)\n",
    "ftrisef = ftrise.reshape(num_filt, 1)\n",
    "ftaudifff = ftaudiff.reshape(num_filt, 1)\n",
    "flagf = flag.reshape(num_filt, 1)"
   ]
  },
  {
   "cell_type": "code",
   "execution_count": 72,
   "metadata": {},
   "outputs": [
    {
     "name": "stdout",
     "output_type": "stream",
     "text": [
      "1\n"
     ]
    }
   ],
   "source": [
    "print(len(spikefft))"
   ]
  },
  {
   "cell_type": "code",
   "execution_count": 73,
   "metadata": {},
   "outputs": [],
   "source": [
    "spikeffta = [np.asarray([spikefft[i][j] for i in range(num_mach)]) for j in range(3)]"
   ]
  },
  {
   "cell_type": "code",
   "execution_count": 74,
   "metadata": {},
   "outputs": [],
   "source": [
    "spikefftf = [spikeffta[i].reshape(num_filt, fftlen[i], 1) for i in range(3)]"
   ]
  },
  {
   "cell_type": "code",
   "execution_count": 75,
   "metadata": {},
   "outputs": [
    {
     "name": "stdout",
     "output_type": "stream",
     "text": [
      "3\n",
      "(1, 501, 1)\n"
     ]
    }
   ],
   "source": [
    "print(len(spikefftf))\n",
    "print(spikefftf[0].shape)"
   ]
  },
  {
   "cell_type": "code",
   "execution_count": 76,
   "metadata": {},
   "outputs": [
    {
     "name": "stdout",
     "output_type": "stream",
     "text": [
      "[[0.46658407]]\n"
     ]
    }
   ],
   "source": [
    "print(fsigma_ff)"
   ]
  },
  {
   "cell_type": "code",
   "execution_count": 77,
   "metadata": {
    "colab": {
     "base_uri": "https://localhost:8080/"
    },
    "executionInfo": {
     "elapsed": 6,
     "status": "ok",
     "timestamp": 1646766776380,
     "user": {
      "displayName": "Simon Gomez-Cullen",
      "photoUrl": "https://lh3.googleusercontent.com/a/default-user=s64",
      "userId": "13652272254121268238"
     },
     "user_tz": 0
    },
    "id": "mxaZOsQha6pw",
    "outputId": "9c265bd2-3017-41bc-ba9e-fdb11024573b"
   },
   "outputs": [
    {
     "name": "stdout",
     "output_type": "stream",
     "text": [
      "[[0.08039307]]\n"
     ]
    }
   ],
   "source": [
    "print(fellf)"
   ]
  },
  {
   "cell_type": "code",
   "execution_count": 78,
   "metadata": {
    "colab": {
     "base_uri": "https://localhost:8080/"
    },
    "executionInfo": {
     "elapsed": 4,
     "status": "ok",
     "timestamp": 1646766776380,
     "user": {
      "displayName": "Simon Gomez-Cullen",
      "photoUrl": "https://lh3.googleusercontent.com/a/default-user=s64",
      "userId": "13652272254121268238"
     },
     "user_tz": 0
    },
    "id": "z9WJW3aQa9nt",
    "outputId": "92af4fb5-3e2d-4d07-8654-85cff07f301b"
   },
   "outputs": [
    {
     "name": "stdout",
     "output_type": "stream",
     "text": [
      "0.051144723271937496\n"
     ]
    }
   ],
   "source": [
    "print(fsigma_n)"
   ]
  },
  {
   "cell_type": "code",
   "execution_count": 79,
   "metadata": {},
   "outputs": [
    {
     "name": "stdout",
     "output_type": "stream",
     "text": [
      "[[0.23673838]]\n"
     ]
    }
   ],
   "source": [
    "print(ftrisef)"
   ]
  },
  {
   "cell_type": "code",
   "execution_count": 80,
   "metadata": {},
   "outputs": [
    {
     "name": "stdout",
     "output_type": "stream",
     "text": [
      "[[-0.24981873]]\n"
     ]
    }
   ],
   "source": [
    "print(ftaudifff)"
   ]
  },
  {
   "cell_type": "code",
   "execution_count": 81,
   "metadata": {},
   "outputs": [
    {
     "name": "stdout",
     "output_type": "stream",
     "text": [
      "[[0.05844234]]\n"
     ]
    }
   ],
   "source": [
    "print(flagf)"
   ]
  },
  {
   "cell_type": "markdown",
   "metadata": {
    "id": "6IDmU9CbBKAT"
   },
   "source": [
    "## Variational Predictions"
   ]
  },
  {
   "cell_type": "code",
   "execution_count": 82,
   "metadata": {
    "executionInfo": {
     "elapsed": 3,
     "status": "ok",
     "timestamp": 1646766776651,
     "user": {
      "displayName": "Simon Gomez-Cullen",
      "photoUrl": "https://lh3.googleusercontent.com/a/default-user=s64",
      "userId": "13652272254121268238"
     },
     "user_tz": 0
    },
    "id": "BQxqxqrfBY2x"
   },
   "outputs": [],
   "source": [
    "fpred_points = ftime.copy()"
   ]
  },
  {
   "cell_type": "code",
   "execution_count": 83,
   "metadata": {},
   "outputs": [],
   "source": [
    "scisigmaf = isigma_ff[:, None]\n",
    "sciellf = iellf[:, None]\n",
    "scitrisef = itrisef[:, None]\n",
    "scitaudifff = itaudifff[:, None]\n",
    "scilagf = ilagf[:, None]\n",
    "\n",
    "ikmm = Squared_exp(iz_vectorf, iz_vectorf.transpose(0, 2, 1), scisigmaf, sciellf)\n",
    "icpred = np.linalg.cholesky(ikmm + 1e-6 * np.eye(num_ind))\n",
    "ikzast = Squared_exp(iz_vectorf, fpred_points.T, scisigmaf, sciellf)\n",
    "ibzast = np.zeros((num_filt, num_ind, k + 1))\n",
    "for i in range(num_filt):\n",
    "  ibzast[i] = sc.linalg.solve_triangular(icpred[i], ikzast[i], lower = True)\n",
    "ibzastT = ibzast.transpose(0, 2, 1)\n",
    "ipredenv = AlpEnvelope(fpred_points, scitrisef, scitaudifff, scilagf)\n",
    "ipredenvT = ipredenv.transpose(0, 2, 1)\n",
    "imeanpred = ipredenv * (ibzastT @ iv_vectorf)\n",
    "ikastast = Squared_exp(fpred_points, fpred_points.T, scisigmaf, sciellf)\n",
    "icovpred = ipredenv * (ikastast + ibzastT @ (il_matrixf @ il_matrixf.transpose(0, 2, 1) - np.eye(num_ind)) @ ibzast) * ipredenvT"
   ]
  },
  {
   "cell_type": "code",
   "execution_count": 84,
   "metadata": {
    "colab": {
     "base_uri": "https://localhost:8080/"
    },
    "executionInfo": {
     "elapsed": 376,
     "status": "ok",
     "timestamp": 1646766777705,
     "user": {
      "displayName": "Simon Gomez-Cullen",
      "photoUrl": "https://lh3.googleusercontent.com/a/default-user=s64",
      "userId": "13652272254121268238"
     },
     "user_tz": 0
    },
    "id": "Q-CB-IqaBR55",
    "outputId": "a31e8b74-af31-4de3-8d3a-cab034775837"
   },
   "outputs": [],
   "source": [
    "scfsigmaf = fsigma_ff[:, None]\n",
    "scfellf = fellf[:, None]\n",
    "scftrisef = ftrisef[:, None]\n",
    "scftaudifff = ftaudifff[:, None]\n",
    "scflagf = flagf[:, None]\n",
    "\n",
    "fkmm = Squared_exp(fz_vectorf, fz_vectorf.transpose(0, 2, 1), scfsigmaf, scfellf)\n",
    "fcpred = np.linalg.cholesky(fkmm + 1e-6 * np.eye(num_ind))\n",
    "fkzast = Squared_exp(fz_vectorf, fpred_points.T, scfsigmaf, scfellf)\n",
    "fbzast = np.zeros((num_filt, num_ind, k + 1))\n",
    "for i in range(num_filt):\n",
    "  fbzast[i] = sc.linalg.solve_triangular(fcpred[i], fkzast[i], lower = True)\n",
    "fbzastT = fbzast.transpose(0, 2, 1)\n",
    "fpredenv = AlpEnvelope(fpred_points, scftrisef, scftaudifff, scflagf)\n",
    "fpredenvT = fpredenv.transpose(0, 2, 1)\n",
    "fmeanpred = fpredenv * (fbzastT @ fv_vectorf)\n",
    "\n",
    "fkastast = Squared_exp(fpred_points, fpred_points.T, scfsigmaf, scfellf)\n",
    "fcovpred = fpredenv * (fkastast + fbzastT @ (fl_matrixf @ fl_matrixf.transpose(0, 2, 1) - np.eye(num_ind)) @ fbzast) * fpredenvT"
   ]
  },
  {
   "cell_type": "code",
   "execution_count": 85,
   "metadata": {},
   "outputs": [
    {
     "name": "stdout",
     "output_type": "stream",
     "text": [
      "(1, 201, 1)\n"
     ]
    }
   ],
   "source": [
    "print(imeanpred.shape)"
   ]
  },
  {
   "cell_type": "code",
   "execution_count": 86,
   "metadata": {},
   "outputs": [
    {
     "data": {
      "text/plain": [
       "<matplotlib.collections.PathCollection at 0x7f2be7c95070>"
      ]
     },
     "execution_count": 86,
     "metadata": {},
     "output_type": "execute_result"
    },
    {
     "data": {
      "image/png": "[encoded data removed]",
      "text/plain": [
       "<Figure size 432x288 with 1 Axes>"
      ]
     },
     "metadata": {
      "needs_background": "light"
     },
     "output_type": "display_data"
    }
   ],
   "source": [
    "ipredindenv = AlpEnvelope(iz_vectorf, scitrisef, scitaudifff, scilagf)\n",
    "index = 2\n",
    "plt.plot(fpred_points, imeanpred[index])\n",
    "is2 = np.sqrt(np.diag(icovpred[index]))\n",
    "ifill = (imeanpred[index].flatten() - is2, imeanpred[index].flatten() + is2)\n",
    "plt.fill_between(fpred_points.flatten(), *ifill, alpha = 0.1)\n",
    "plt.scatter(iz_vectorf[index], (ipredindenv * (icpred @ iv_vectorf))[index], s = 100, marker = '+', c='k', alpha = 0.6)\n",
    "#plt.xlim([ftime[0], ftime[-1]])"
   ]
  },
  {
   "cell_type": "code",
   "execution_count": 87,
   "metadata": {},
   "outputs": [
    {
     "data": {
      "text/plain": [
       "<matplotlib.collections.PathCollection at 0x7f2be7bcba90>"
      ]
     },
     "execution_count": 87,
     "metadata": {},
     "output_type": "execute_result"
    },
    {
     "data": {
      "image/png": "[encoded data removed]",
      "text/plain": [
       "<Figure size 432x288 with 1 Axes>"
      ]
     },
     "metadata": {
      "needs_background": "light"
     },
     "output_type": "display_data"
    }
   ],
   "source": [
    "predindenv = AlpEnvelope(fz_vectorf, scftrisef, scftaudifff, scflagf)\n",
    "\n",
    "plt.plot(fpred_points, fmeanpred[index])\n",
    "s2 = np.sqrt(np.diag(fcovpred[index]))\n",
    "fill = (fmeanpred[index].flatten() - s2, fmeanpred[index].flatten() + s2)\n",
    "plt.fill_between(fpred_points.flatten(), *fill, alpha = 0.1)\n",
    "plt.scatter(fz_vectorf[index], (predindenv * (fcpred @ fv_vectorf))[index], s = 100, marker = '+', c='k', alpha = 0.6)\n",
    "#plt.xlim([ftime[0], ftime[-1]])"
   ]
  },
  {
   "cell_type": "code",
   "execution_count": 88,
   "metadata": {},
   "outputs": [
    {
     "data": {
      "image/png": "[encoded data removed]",
      "text/plain": [
       "<Figure size 432x288 with 1 Axes>"
      ]
     },
     "metadata": {
      "needs_background": "light"
     },
     "output_type": "display_data"
    }
   ],
   "source": [
    "envelopes = AlpEnvelope(ftime, scftrisef, scftaudifff, scflagf)\n",
    "for i in envelopes:\n",
    "  plt.plot(ftime, i)"
   ]
  },
  {
   "cell_type": "code",
   "execution_count": 89,
   "metadata": {},
   "outputs": [
    {
     "data": {
      "text/plain": [
       "[<matplotlib.lines.Line2D at 0x7f2be7b19e80>]"
      ]
     },
     "execution_count": 89,
     "metadata": {},
     "output_type": "execute_result"
    },
    {
     "data": {
      "image/png": "[encoded data removed]",
      "text/plain": [
       "<Figure size 432x288 with 1 Axes>"
      ]
     },
     "metadata": {
      "needs_background": "light"
     },
     "output_type": "display_data"
    }
   ],
   "source": [
    "for index in range(num_filt):\n",
    "  plt.plot(fpred_points, fmeanpred[index])\n",
    "  s2 = np.sqrt(np.diag(fcovpred[index]))\n",
    "  fill = (fmeanpred[index].flatten() - s2, fmeanpred[index].flatten() + s2)\n",
    "  plt.fill_between(fpred_points.flatten(), *fill, alpha = 0.1)\n",
    "  plt.scatter(fz_vectorf[index], (predindenv * (fcpred @ fv_vectorf))[index], s = 100, marker = '+', c='k', alpha = 0.6)\n",
    "  #plt.xlim([ftime[0], ftime[-1]])\n",
    "\n",
    "plt.plot(ftime, ftrue)"
   ]
  },
  {
   "cell_type": "code",
   "execution_count": 90,
   "metadata": {},
   "outputs": [],
   "source": [
    "def OUTconvolve(Filters, K, N, Spike_FFT):\n",
    "  Pad = np.hstack((Filters, np.zeros((num_filt, N, 1))))\n",
    "  Pred_fft = np.fft.rfft(Pad, axis = -2)\n",
    "  Pred_sum = np.sum(Pred_fft * Spike_FFT, axis = 0)\n",
    "  Pred_fitfft = np.fft.irfft(Pred_sum, K + N + 1, axis = -2)[ : N + 1]\n",
    "  return Pred_fitfft"
   ]
  },
  {
   "cell_type": "code",
   "execution_count": 91,
   "metadata": {},
   "outputs": [],
   "source": [
    "is2 = np.sqrt(np.diagonal(icovpred, axis1=1, axis2=2)).reshape((num_filt, k + 1, 1))\n",
    "\n",
    "imeanpredict = OUTconvolve(imeanpred, k, n, spikefftf[0])\n",
    "imeanpredictns2 = OUTconvolve(imeanpred - 2 * is2, k, n, spikefftf[0])\n",
    "imeanpredictps2 = OUTconvolve(imeanpred + 2 * is2, k, n, spikefftf[0])"
   ]
  },
  {
   "cell_type": "code",
   "execution_count": 97,
   "metadata": {},
   "outputs": [
    {
     "name": "stdout",
     "output_type": "stream",
     "text": [
      "(801, 1)\n"
     ]
    }
   ],
   "source": [
    "fs2 = np.sqrt(np.diagonal(fcovpred, axis1=1, axis2=2)).reshape((num_filt, k + 1, 1))\n",
    "\n",
    "fmeanpredict = OUTconvolve(fmeanpred, k, n, spikefftf[0])\n",
    "print(fmeanpredict.shape)\n",
    "fmeanpredictns2 = OUTconvolve(fmeanpred - 2 * fs2, k, n, spikefftf[0])\n",
    "fmeanpredictps2 = OUTconvolve(fmeanpred + 2 * fs2, k, n, spikefftf[0])"
   ]
  },
  {
   "cell_type": "code",
   "execution_count": 98,
   "metadata": {},
   "outputs": [
    {
     "data": {
      "text/plain": [
       "<matplotlib.collections.PolyCollection at 0x7f2be78d4d90>"
      ]
     },
     "execution_count": 98,
     "metadata": {},
     "output_type": "execute_result"
    },
    {
     "data": {
      "image/png": "[encoded data removed]",
      "text/plain": [
       "<Figure size 432x288 with 1 Axes>"
      ]
     },
     "metadata": {
      "needs_background": "light"
     },
     "output_type": "display_data"
    }
   ],
   "source": [
    "plt.plot(ytime, imeanpredict)\n",
    "plt.plot(ytime, yvel[0])\n",
    "plt.fill_between(ytime.flatten(), imeanpredictns2.flatten() - 2 * isigma_n,  \n",
    "                  imeanpredictps2.flatten() + 2 * isigma_n, alpha = 0.5)"
   ]
  },
  {
   "cell_type": "code",
   "execution_count": 99,
   "metadata": {},
   "outputs": [
    {
     "data": {
      "text/plain": [
       "<matplotlib.collections.PolyCollection at 0x7f2be78bdfa0>"
      ]
     },
     "execution_count": 99,
     "metadata": {},
     "output_type": "execute_result"
    },
    {
     "data": {
      "image/png": "[encoded data removed]",
      "text/plain": [
       "<Figure size 432x288 with 1 Axes>"
      ]
     },
     "metadata": {
      "needs_background": "light"
     },
     "output_type": "display_data"
    }
   ],
   "source": [
    "plt.plot(ytime, fmeanpredict)\n",
    "plt.plot(ytime, yvel[0])\n",
    "plt.fill_between(ytime.flatten(), fmeanpredictns2.flatten() - 2 * fsigma_n,  \n",
    "                  fmeanpredictps2.flatten() + 2 * fsigma_n, alpha = 0.5)"
   ]
  },
  {
   "cell_type": "code",
   "execution_count": 100,
   "metadata": {},
   "outputs": [
    {
     "data": {
      "text/plain": [
       "<matplotlib.collections.PolyCollection at 0x7f2be78319d0>"
      ]
     },
     "execution_count": 100,
     "metadata": {},
     "output_type": "execute_result"
    },
    {
     "data": {
      "image/png": "[encoded data removed]",
      "text/plain": [
       "<Figure size 432x288 with 1 Axes>"
      ]
     },
     "metadata": {
      "needs_background": "light"
     },
     "output_type": "display_data"
    }
   ],
   "source": [
    "ytesttru = yvel[:3000]\n",
    "ytimetru = ytime[:3000]\n",
    "fmeanpredicttru = fmeanpredict[:3000]\n",
    "fmeanpredictns2tru = fmeanpredictns2[:3000]\n",
    "fmeanpredictps2tru = fmeanpredictps2[:3000]\n",
    "plt.plot(ytimetru, fmeanpredicttru)\n",
    "plt.plot(ytimetru, ytesttru[0])\n",
    "plt.fill_between(ytimetru.flatten(), fmeanpredictns2tru.flatten() - 2 * fsigma_n,  \n",
    "                  fmeanpredictps2tru.flatten() + 2 * fsigma_n, alpha = 0.5)"
   ]
  }
 ],
 "metadata": {
  "interpreter": {
   "hash": "732f194484e0284080b04ff83f236bb381f8bb18faa7a6782cdb6b2333c8b4db"
  },
  "kernelspec": {
   "display_name": "Python 3.8.10 ('.venv': venv)",
   "language": "python",
   "name": "python3"
  },
  "language_info": {
   "codemirror_mode": {
    "name": "ipython",
    "version": 3
   },
   "file_extension": ".py",
   "mimetype": "text/x-python",
   "name": "python",
   "nbconvert_exporter": "python",
   "pygments_lexer": "ipython3",
   "version": "3.8.10"
  },
  "orig_nbformat": 4
 },
 "nbformat": 4,
 "nbformat_minor": 2
}
