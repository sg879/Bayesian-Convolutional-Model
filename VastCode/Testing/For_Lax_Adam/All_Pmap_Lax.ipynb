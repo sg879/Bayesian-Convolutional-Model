{
 "cells": [
  {
   "cell_type": "markdown",
   "metadata": {},
   "source": [
    "# Importing Packages"
   ]
  },
  {
   "cell_type": "code",
   "execution_count": 147,
   "metadata": {
    "executionInfo": {
     "elapsed": 1294,
     "status": "ok",
     "timestamp": 1646766605696,
     "user": {
      "displayName": "Simon Gomez-Cullen",
      "photoUrl": "https://lh3.googleusercontent.com/a/default-user=s64",
      "userId": "13652272254121268238"
     },
     "user_tz": 0
    },
    "id": "I2mF29avQ9MM"
   },
   "outputs": [],
   "source": [
    "import matplotlib as mpl\n",
    "import matplotlib.pyplot as plt\n",
    "%matplotlib inline\n",
    "\n",
    "import numpy as np\n",
    "import pandas as pd\n",
    "import scipy as sc\n",
    "import scipy.io as io\n",
    "from scipy.stats import multivariate_normal\n",
    "from functools import partial\n",
    "from itertools import chain\n",
    "\n",
    "import jax.numpy as jnp\n",
    "import jax.scipy as jsc\n",
    "from jax import grad, jit, vmap, pmap, random, lax, value_and_grad, tree_multimap, tree_map, devices\n",
    "import jax.example_libraries.optimizers as jeo\n",
    "\n",
    "import time\n",
    "from tqdm import tqdm"
   ]
  },
  {
   "cell_type": "code",
   "execution_count": 109,
   "metadata": {
    "executionInfo": {
     "elapsed": 2,
     "status": "ok",
     "timestamp": 1646766605696,
     "user": {
      "displayName": "Simon Gomez-Cullen",
      "photoUrl": "https://lh3.googleusercontent.com/a/default-user=s64",
      "userId": "13652272254121268238"
     },
     "user_tz": 0
    },
    "id": "-RF6Rxy-tE-A"
   },
   "outputs": [],
   "source": [
    "from jax.config import config\n",
    "config.update(\"jax_enable_x64\", True)\n",
    "config.update(\"jax_debug_nans\", True)"
   ]
  },
  {
   "cell_type": "code",
   "execution_count": 110,
   "metadata": {},
   "outputs": [],
   "source": [
    "num_mach = 1"
   ]
  },
  {
   "cell_type": "markdown",
   "metadata": {},
   "source": [
    "# Prior Functions"
   ]
  },
  {
   "cell_type": "code",
   "execution_count": 111,
   "metadata": {},
   "outputs": [],
   "source": [
    "@jit\n",
    "def AlpEnvelope(Xarr, TRise, TauDiff, Lag):\n",
    "  TRise = TRise ** 2.0\n",
    "  TDecay = TRise + TauDiff ** 2 + 1e-8\n",
    "  TMax = (jnp.log(TRise / TDecay) * TDecay * TRise) / (TRise - TDecay)\n",
    "  Max =  jnp.exp(- TMax / TDecay) - jnp.exp(- TMax / TRise)\n",
    "  Delayed = Xarr - Lag\n",
    "  NewTime = jnp.where(Delayed < 0.0, 1000, Delayed)\n",
    "  return (jnp.exp(- NewTime / TDecay) - jnp.exp(- NewTime / TRise)) / Max"
   ]
  },
  {
   "cell_type": "code",
   "execution_count": 112,
   "metadata": {
    "executionInfo": {
     "elapsed": 2,
     "status": "ok",
     "timestamp": 1646766605696,
     "user": {
      "displayName": "Simon Gomez-Cullen",
      "photoUrl": "https://lh3.googleusercontent.com/a/default-user=s64",
      "userId": "13652272254121268238"
     },
     "user_tz": 0
    },
    "id": "fApWN_Djp0Eq"
   },
   "outputs": [],
   "source": [
    "@jit\n",
    "def Squared_exp(I, J, Sigma_f, Ell):\n",
    "  return Sigma_f**2.0*jnp.exp(-(I-J)**2/(2.0*Ell**2))"
   ]
  },
  {
   "cell_type": "markdown",
   "metadata": {},
   "source": [
    "# Test Data"
   ]
  },
  {
   "cell_type": "code",
   "execution_count": 113,
   "metadata": {
    "executionInfo": {
     "elapsed": 905,
     "status": "ok",
     "timestamp": 1646766606599,
     "user": {
      "displayName": "Simon Gomez-Cullen",
      "photoUrl": "https://lh3.googleusercontent.com/a/default-user=s64",
      "userId": "13652272254121268238"
     },
     "user_tz": 0
    },
    "id": "j2WqJJohnzd3"
   },
   "outputs": [],
   "source": [
    "key = random.PRNGKey(1)\n",
    "key, *subkeys = random.split(key, 4)"
   ]
  },
  {
   "cell_type": "code",
   "execution_count": 114,
   "metadata": {
    "executionInfo": {
     "elapsed": 3,
     "status": "ok",
     "timestamp": 1646766606600,
     "user": {
      "displayName": "Simon Gomez-Cullen",
      "photoUrl": "https://lh3.googleusercontent.com/a/default-user=s64",
      "userId": "13652272254121268238"
     },
     "user_tz": 0
    },
    "id": "RHWOu5SEr2H3"
   },
   "outputs": [],
   "source": [
    "# Time resolution\n",
    "time_bin = 0.005"
   ]
  },
  {
   "cell_type": "markdown",
   "metadata": {
    "id": "5IwAZxXsrf8E"
   },
   "source": [
    "### Input Spike Train"
   ]
  },
  {
   "cell_type": "code",
   "execution_count": 115,
   "metadata": {
    "executionInfo": {
     "elapsed": 541,
     "status": "ok",
     "timestamp": 1646766607139,
     "user": {
      "displayName": "Simon Gomez-Cullen",
      "photoUrl": "https://lh3.googleusercontent.com/a/default-user=s64",
      "userId": "13652272254121268238"
     },
     "user_tz": 0
    },
    "id": "r71MXhaNrljt"
   },
   "outputs": [],
   "source": [
    "subkeyx = subkeys[-1]\n",
    "\n",
    "# Time horizon for input data\n",
    "x_maxt = 20.0\n",
    "batch_size = 1\n",
    "num_filt = num_mach * batch_size\n",
    "\n",
    "# Maximum index of input data\n",
    "n = np.floor(x_maxt/time_bin).astype(np.int64)\n",
    "\n",
    "ytime = np.linspace(0.0, x_maxt, n + 1).reshape(n + 1, 1)\n",
    "\n",
    "spikedat1 = random.bernoulli(subkeyx, 0.1, (num_filt * (n + 1),)).astype(np.float64).reshape(num_filt, n + 1, 1)\n",
    "spikedat2 = random.bernoulli(subkeys[-2], 0.1, (num_filt * (n + 1),)).astype(np.float64).reshape(num_filt, n + 1, 1)\n",
    "spikedat3 = random.bernoulli(subkeys[-3], 0.1, (num_filt * (n + 1),)).astype(np.float64).reshape(num_filt, n + 1, 1)"
   ]
  },
  {
   "cell_type": "code",
   "execution_count": 116,
   "metadata": {
    "colab": {
     "base_uri": "https://localhost:8080/",
     "height": 282
    },
    "executionInfo": {
     "elapsed": 1523,
     "status": "ok",
     "timestamp": 1646766608661,
     "user": {
      "displayName": "Simon Gomez-Cullen",
      "photoUrl": "https://lh3.googleusercontent.com/a/default-user=s64",
      "userId": "13652272254121268238"
     },
     "user_tz": 0
    },
    "id": "zMdg_cFRsplr",
    "outputId": "abb0c60a-c88c-4a76-b06a-ec666fd40453"
   },
   "outputs": [
    {
     "data": {
      "text/plain": [
       "[<matplotlib.lines.Line2D at 0x7f9b24b2a250>]"
      ]
     },
     "execution_count": 116,
     "metadata": {},
     "output_type": "execute_result"
    },
    {
     "data": {
      "image/png": "[encoded data removed]",
      "text/plain": [
       "<Figure size 432x288 with 1 Axes>"
      ]
     },
     "metadata": {
      "needs_background": "light"
     },
     "output_type": "display_data"
    }
   ],
   "source": [
    "plt.plot(ytime, spikedat2.flatten())"
   ]
  },
  {
   "cell_type": "markdown",
   "metadata": {
    "id": "xMmVbUEmtPMg"
   },
   "source": [
    "### True Filter"
   ]
  },
  {
   "cell_type": "code",
   "execution_count": 117,
   "metadata": {
    "executionInfo": {
     "elapsed": 1188,
     "status": "ok",
     "timestamp": 1646766609847,
     "user": {
      "displayName": "Simon Gomez-Cullen",
      "photoUrl": "https://lh3.googleusercontent.com/a/default-user=s64",
      "userId": "13652272254121268238"
     },
     "user_tz": 0
    },
    "id": "ypfVEdM_tjr2"
   },
   "outputs": [],
   "source": [
    "subkeyf = subkeys[-2]\n",
    "\n",
    "# Filter horizon\n",
    "f_maxt = 1.0\n",
    "\n",
    "# Maximum index of filter data\n",
    "k = np.floor(f_maxt/time_bin).astype(np.int64)\n",
    "ftime = np.linspace(0.0, f_maxt, k + 1).reshape(k + 1, 1)\n",
    "\n",
    "# Damped frequency\n",
    "w_d = 18.0\n",
    "\n",
    "# Sqrt True rise rate\n",
    "tau_rise = np.sqrt(0.09)\n",
    "\n",
    "# Sqrt True diff\n",
    "tau_diff = np.sqrt(0.001)\n",
    "\n",
    "# True lag\n",
    "lag = 0.05\n",
    "\n",
    "env_true = AlpEnvelope(ftime, tau_rise, tau_diff, lag)\n",
    "\n",
    "# Envelope peak\n",
    "sqtr = tau_rise ** 2\n",
    "sqtd = sqtr + tau_diff ** 2\n",
    "tmax = (np.log(sqtr / sqtd) * sqtd * sqtr) / (sqtr - sqtd)\n",
    "\n",
    "ftrue = (np.sin(w_d * (ftime  - tmax - lag + np.pi/(2.0 * w_d))) * env_true).reshape(k + 1, 1)\n",
    "\n",
    "num_filt = 1"
   ]
  },
  {
   "cell_type": "code",
   "execution_count": 118,
   "metadata": {},
   "outputs": [
    {
     "data": {
      "text/plain": [
       "[<matplotlib.lines.Line2D at 0x7f9980702be0>]"
      ]
     },
     "execution_count": 118,
     "metadata": {},
     "output_type": "execute_result"
    },
    {
     "data": {
      "image/png": "[encoded data removed]",
      "text/plain": [
       "<Figure size 432x288 with 1 Axes>"
      ]
     },
     "metadata": {
      "needs_background": "light"
     },
     "output_type": "display_data"
    }
   ],
   "source": [
    "plt.plot(ftime, np.sin(w_d * (ftime  - tmax - lag + np.pi/(2.0 * w_d))))"
   ]
  },
  {
   "cell_type": "code",
   "execution_count": 119,
   "metadata": {},
   "outputs": [
    {
     "data": {
      "text/plain": [
       "[<matplotlib.lines.Line2D at 0x7f9980673b50>]"
      ]
     },
     "execution_count": 119,
     "metadata": {},
     "output_type": "execute_result"
    },
    {
     "data": {
      "image/png": "[encoded data removed]",
      "text/plain": [
       "<Figure size 432x288 with 1 Axes>"
      ]
     },
     "metadata": {
      "needs_background": "light"
     },
     "output_type": "display_data"
    }
   ],
   "source": [
    "plt.plot(ftime, env_true)\n",
    "plt.plot(ftime, np.sin(w_d * (ftime  - tmax - lag + np.pi/(2.0 * w_d))))"
   ]
  },
  {
   "cell_type": "code",
   "execution_count": 120,
   "metadata": {},
   "outputs": [
    {
     "data": {
      "text/plain": [
       "[<matplotlib.lines.Line2D at 0x7f998068d430>]"
      ]
     },
     "execution_count": 120,
     "metadata": {},
     "output_type": "execute_result"
    },
    {
     "data": {
      "image/png": "[encoded data removed]",
      "text/plain": [
       "<Figure size 432x288 with 1 Axes>"
      ]
     },
     "metadata": {
      "needs_background": "light"
     },
     "output_type": "display_data"
    }
   ],
   "source": [
    "plt.plot(ftime, ftrue)"
   ]
  },
  {
   "cell_type": "markdown",
   "metadata": {
    "id": "puifbGLyxRaG"
   },
   "source": [
    "### True Noise"
   ]
  },
  {
   "cell_type": "code",
   "execution_count": 121,
   "metadata": {
    "executionInfo": {
     "elapsed": 756,
     "status": "ok",
     "timestamp": 1646766611540,
     "user": {
      "displayName": "Simon Gomez-Cullen",
      "photoUrl": "https://lh3.googleusercontent.com/a/default-user=s64",
      "userId": "13652272254121268238"
     },
     "user_tz": 0
    },
    "id": "hCFQVb-exas3"
   },
   "outputs": [],
   "source": [
    "subkeyn = subkeys[-3]\n",
    "\n",
    "# True noise variance\n",
    "sign_true = 0.05\n",
    "\n",
    "# Noise vector\n",
    "noise_vec = sign_true * random.normal(subkeyn, (n + 1, 1))"
   ]
  },
  {
   "cell_type": "markdown",
   "metadata": {
    "id": "MqWunCmszBZB"
   },
   "source": [
    "### Output"
   ]
  },
  {
   "cell_type": "code",
   "execution_count": 122,
   "metadata": {
    "executionInfo": {
     "elapsed": 350,
     "status": "ok",
     "timestamp": 1646766611889,
     "user": {
      "displayName": "Simon Gomez-Cullen",
      "photoUrl": "https://lh3.googleusercontent.com/a/default-user=s64",
      "userId": "13652272254121268238"
     },
     "user_tz": 0
    },
    "id": "Kxj4lyU5zFnm"
   },
   "outputs": [],
   "source": [
    "# Padding and applying the FFT\n",
    "spikepad1 = np.hstack((spikedat1, np.zeros((num_filt, k, 1))))\n",
    "spikepad2 = np.hstack((spikedat2, np.zeros((num_filt, k, 1))))\n",
    "spikepad3 = np.hstack((spikedat3, np.zeros((num_filt, k, 1))))\n",
    "\n",
    "fpad = np.vstack((ftrue.reshape((k + 1, 1)), np.zeros((n, 1))))\n",
    "\n",
    "spikefft1 = np.fft.rfft(spikepad1, axis = 1)\n",
    "spikefft2 = np.fft.rfft(spikepad2, axis = 1)\n",
    "spikefft3 = np.fft.rfft(spikepad3, axis = 1)\n",
    "spikef = [spikefft1, spikefft2, spikefft3]\n",
    "\n",
    "fftlen1 = np.shape(spikefft1)[1]\n",
    "fftlen2 = np.shape(spikefft2)[1]\n",
    "fftlen3 = np.shape(spikefft3)[1]\n",
    "fftlen = [fftlen1, fftlen2, fftlen3]\n",
    "\n",
    "spikefft = [spikef[j].reshape(num_mach, batch_size, fftlen[j], 1) for j in range(3)]\n",
    "spikefft = [[spikefft[j][i] for j in range(3)] for i in range(num_mach)]\n",
    "\n",
    "f_fft = np.fft.rfft(fpad, axis = 0)\n",
    "\n",
    "fftmul = [[spikefft[j][i] * f_fft for i in range (3)] for j in range(num_mach)]\n",
    "\n",
    "fftsum = [[fftmul[j][i] for j in range(num_mach)] for i in range(3)]\n",
    "fftsummach = [np.sum(fftsum[i], axis = 0) for i in range(3)]\n",
    "\n",
    "ynonoise = [np.fft.irfft(np.sum(fftsummach[i], axis = 0), k + n + 1, axis = -2)[: n + 1] for i in range(3)]\n",
    "yvel = [(ynonoise[i] + noise_vec).reshape(n + 1, 1) for i in range(3)]\n",
    "\n",
    "spikefft = jnp.asarray(spikefft)\n",
    "yvel = jnp.asarray(yvel)"
   ]
  },
  {
   "cell_type": "code",
   "execution_count": 123,
   "metadata": {
    "executionInfo": {
     "elapsed": 2488,
     "status": "ok",
     "timestamp": 1646766614376,
     "user": {
      "displayName": "Simon Gomez-Cullen",
      "photoUrl": "https://lh3.googleusercontent.com/a/default-user=s64",
      "userId": "13652272254121268238"
     },
     "user_tz": 0
    },
    "id": "lIusH_Yh2qhW"
   },
   "outputs": [],
   "source": [
    "# Showing equals the raw convolution\n",
    "yffttest = np.convolve(spikedat1.flatten(), ftrue.flatten())[:n + 1] + noise_vec.flatten()"
   ]
  },
  {
   "cell_type": "code",
   "execution_count": 124,
   "metadata": {
    "colab": {
     "base_uri": "https://localhost:8080/",
     "height": 282
    },
    "executionInfo": {
     "elapsed": 685,
     "status": "ok",
     "timestamp": 1646766615057,
     "user": {
      "displayName": "Simon Gomez-Cullen",
      "photoUrl": "https://lh3.googleusercontent.com/a/default-user=s64",
      "userId": "13652272254121268238"
     },
     "user_tz": 0
    },
    "id": "rq6yqLHLF1l1",
    "outputId": "f4052b8b-c365-4436-ae90-3f84506201ad"
   },
   "outputs": [
    {
     "data": {
      "text/plain": [
       "[<matplotlib.lines.Line2D at 0x7f99805c6640>]"
      ]
     },
     "execution_count": 124,
     "metadata": {},
     "output_type": "execute_result"
    },
    {
     "data": {
      "image/png": "[encoded data removed]",
      "text/plain": [
       "<Figure size 432x288 with 1 Axes>"
      ]
     },
     "metadata": {
      "needs_background": "light"
     },
     "output_type": "display_data"
    }
   ],
   "source": [
    "plt.plot(ytime, ynonoise[0].flatten())"
   ]
  },
  {
   "cell_type": "code",
   "execution_count": 125,
   "metadata": {
    "colab": {
     "base_uri": "https://localhost:8080/",
     "height": 282
    },
    "executionInfo": {
     "elapsed": 653,
     "status": "ok",
     "timestamp": 1646766615707,
     "user": {
      "displayName": "Simon Gomez-Cullen",
      "photoUrl": "https://lh3.googleusercontent.com/a/default-user=s64",
      "userId": "13652272254121268238"
     },
     "user_tz": 0
    },
    "id": "5nJWAXMN0yu3",
    "outputId": "cfd5c109-1b4f-4f0d-e385-f420e825b02b"
   },
   "outputs": [
    {
     "data": {
      "text/plain": [
       "[<matplotlib.lines.Line2D at 0x7f9980532790>]"
      ]
     },
     "execution_count": 125,
     "metadata": {},
     "output_type": "execute_result"
    },
    {
     "data": {
      "image/png": "[encoded data removed]",
      "text/plain": [
       "<Figure size 432x288 with 1 Axes>"
      ]
     },
     "metadata": {
      "needs_background": "light"
     },
     "output_type": "display_data"
    }
   ],
   "source": [
    "plt.plot(ytime, yvel[0].flatten())\n",
    "plt.plot(ytime, spikedat1.flatten())"
   ]
  },
  {
   "cell_type": "code",
   "execution_count": 126,
   "metadata": {
    "colab": {
     "base_uri": "https://localhost:8080/",
     "height": 282
    },
    "executionInfo": {
     "elapsed": 581,
     "status": "ok",
     "timestamp": 1646766616286,
     "user": {
      "displayName": "Simon Gomez-Cullen",
      "photoUrl": "https://lh3.googleusercontent.com/a/default-user=s64",
      "userId": "13652272254121268238"
     },
     "user_tz": 0
    },
    "id": "XPxzjAhX23Tp",
    "outputId": "32b00c7d-e275-4c1b-c5f7-a0feeaca81d8"
   },
   "outputs": [
    {
     "data": {
      "text/plain": [
       "[<matplotlib.lines.Line2D at 0x7f998049fee0>]"
      ]
     },
     "execution_count": 126,
     "metadata": {},
     "output_type": "execute_result"
    },
    {
     "data": {
      "image/png": "[encoded data removed]",
      "text/plain": [
       "<Figure size 432x288 with 1 Axes>"
      ]
     },
     "metadata": {
      "needs_background": "light"
     },
     "output_type": "display_data"
    }
   ],
   "source": [
    "plt.plot(ytime, yffttest.flatten())\n",
    "plt.plot(ytime, yvel[0].flatten())"
   ]
  },
  {
   "cell_type": "code",
   "execution_count": 127,
   "metadata": {},
   "outputs": [
    {
     "name": "stdout",
     "output_type": "stream",
     "text": [
      "(1, 801, 1)\n",
      "(1401, 1)\n",
      "(1401, 1)\n"
     ]
    }
   ],
   "source": [
    "print(spikefft[0][0].shape)\n",
    "print(ytime.shape)\n",
    "print(yvel[0].shape)"
   ]
  },
  {
   "cell_type": "markdown",
   "metadata": {},
   "source": [
    "# ELBO "
   ]
  },
  {
   "cell_type": "code",
   "execution_count": 128,
   "metadata": {},
   "outputs": [],
   "source": [
    "Diag = vmap(jnp.diag)"
   ]
  },
  {
   "cell_type": "code",
   "execution_count": 129,
   "metadata": {},
   "outputs": [],
   "source": [
    "@jit\n",
    "def Set(Matrix, Indices, NewVals):\n",
    "  return Matrix.at[:, Indices[0], Indices[1]].set(NewVals)"
   ]
  },
  {
   "cell_type": "code",
   "execution_count": 130,
   "metadata": {},
   "outputs": [],
   "source": [
    "@jit\n",
    "def KL_Term(L_Matrix, V_Vector, Num_Filt, M):\n",
    "  return  0.5 * (- jnp.sum(jnp.log(jnp.diagonal(L_Matrix, axis1 = 1, axis2 = 2) ** 2)) + \\\n",
    "                jnp.sum(L_Matrix ** 2) + jnp.sum(V_Vector ** 2) - Num_Filt * M)"
   ]
  },
  {
   "cell_type": "code",
   "execution_count": 131,
   "metadata": {},
   "outputs": [],
   "source": [
    "@jit\n",
    "def Solver(Kmm, Diff):\n",
    "  return jsc.linalg.solve(Kmm, Diff, sym_pos=True, check_finite=True)"
   ]
  },
  {
   "cell_type": "code",
   "execution_count": 132,
   "metadata": {},
   "outputs": [],
   "source": [
    "V_Solver = vmap(Solver, in_axes = [None, 0])"
   ]
  },
  {
   "cell_type": "code",
   "execution_count": 133,
   "metadata": {},
   "outputs": [],
   "source": [
    "@jit\n",
    "def Likelihoods(Predictions, Velocity, Sigma_n, N):\n",
    "  return - 0.5 * ((N + 1) * jnp.log(2 * jnp.pi * Sigma_n ** 2) + \\\n",
    "                    jnp.sum((Velocity - Predictions)**2, axis = -2)/(Sigma_n ** 2))"
   ]
  },
  {
   "cell_type": "code",
   "execution_count": 134,
   "metadata": {},
   "outputs": [],
   "source": [
    "Likely = vmap(Likelihoods, in_axes=(0, 0, None, 0,))"
   ]
  },
  {
   "cell_type": "code",
   "execution_count": 135,
   "metadata": {},
   "outputs": [],
   "source": [
    "def Neg_ELBO(Sigma_f, Ell, Sigma_n, Z_Fractions, V_Vector, L_Diag, L_ODiag, TRise,\n",
    "              TauDiff, Lag, Number_F, Num_Base, M, Num_Filt, Batch_Size, K, N0, N1, N2,\n",
    "              Indices, Spike_Fft, Velocity, F_Time, Subkeys):\n",
    "\n",
    "  # Creating lag and z-vector         \n",
    "  Lag = Lag ** 2.0\n",
    "  \n",
    "  Z_Vector = (0.5 * jnp.sin( jnp.pi * (Z_Fractions - 0.5)) + 0.5) * (F_Time[-1, 0] - Lag) + Lag\n",
    "\n",
    "  # Creating the L-matrix\n",
    "  D = Diag(jnp.exp(L_Diag))\n",
    "\n",
    "  L_Matrix = D.at[:, Indices[0], Indices[1]].set(L_ODiag)\n",
    "\n",
    "  # KL term\n",
    "  KL = 0.5 * (- jnp.sum(jnp.log(jnp.diagonal(L_Matrix, axis1 = 1, axis2 = 2) ** 2)) + \\\n",
    "                jnp.sum(L_Matrix ** 2) + jnp.sum(V_Vector ** 2) - Batch_Size * M)\n",
    "\n",
    "  # Expectation term\n",
    "  Thetas = random.normal(Subkeys[0], (Number_F, Batch_Size, 1, Num_Base)) * (1.0 / Ell)\n",
    "\n",
    "  Taus = random.uniform(Subkeys[1], (Number_F, Batch_Size, 1, Num_Base)) * 2.0 * jnp.pi\n",
    "\n",
    "  Omegas = random.normal(Subkeys[2], (Number_F, Batch_Size, Num_Base, 1))\n",
    "\n",
    "  Constant = (Sigma_f * jnp.sqrt(2.0 / Num_Base))\n",
    "\n",
    "  ZT = Z_Vector.transpose(0, 2, 1)\n",
    " \n",
    "  Phi1 = Constant * jnp.cos(F_Time * Thetas + Taus)\n",
    "  Phi2 = Constant * jnp.cos(Z_Vector * Thetas + Taus)\n",
    "\n",
    "  Kmm = Squared_exp(Z_Vector, ZT, Sigma_f, Ell)\n",
    "  Knm = Squared_exp(F_Time, ZT, Sigma_f, Ell)\n",
    "\n",
    "  C = jnp.linalg.cholesky(Kmm + jnp.eye(M) * 1e-6)\n",
    "\n",
    "  V_u = C @ L_Matrix @ L_Matrix.transpose(0, 2, 1) @ C.transpose(0, 2, 1)\n",
    "\n",
    "  Mu_u = C @ V_Vector\n",
    "\n",
    "  V_uChol = jnp.linalg.cholesky(V_u + 1e-6 * jnp.eye(M))\n",
    "\n",
    "  U_Samples = Mu_u + V_uChol @ random.normal(Subkeys[3], (Number_F, Batch_Size, M, 1))\n",
    "\n",
    "  Vu = V_Solver(Kmm + 1e-6 * jnp.eye(M), U_Samples - Phi2 @ Omegas)\n",
    "\n",
    "  F_Samples = (Phi1 @ Omegas + Knm @ Vu) * AlpEnvelope(F_Time, TRise, TauDiff, Lag)\n",
    "\n",
    "  F_Fft0 = jnp.fft.rfft(F_Samples, n = N0 + K + 1, axis = -2)\n",
    "  F_Fft1 = jnp.fft.rfft(F_Samples, n = N1 + K + 1, axis = -2)\n",
    "  F_Fft2 = jnp.fft.rfft(F_Samples, n = N2 + K + 1, axis = -2)\n",
    "\n",
    "  Filter_Out0 = jnp.fft.irfft(F_Fft0 * Spike_Fft[0], N0 + K + 1, axis = -2)[:, :, : N0 + 1].sum(axis = 1)\n",
    "  Filter_Out1 = jnp.fft.irfft(F_Fft1 * Spike_Fft[1], N1 + K + 1, axis = -2)[:, :, : N1 + 1].sum(axis = 1)\n",
    "  Filter_Out2 = jnp.fft.irfft(F_Fft2 * Spike_Fft[2], N2 + K + 1, axis = -2)[:, :, : N2 + 1].sum(axis = 1)\n",
    "\n",
    "  Filter0 = lax.psum(Filter_Out0, axis_name=\"machs\")\n",
    "  Filter1 = lax.psum(Filter_Out1, axis_name=\"machs\")\n",
    "  Filter2 = lax.psum(Filter_Out2, axis_name=\"machs\")\n",
    "\n",
    "  Filter = jnp.asarray([Filter0, Filter1, Filter2])\n",
    "  N = jnp.asarray([N0, N1, N2])\n",
    "\n",
    "  Likelihood0 = Likely(Filter, Velocity, Sigma_n, N).sum(axis=0)\n",
    "\n",
    "  KL = lax.psum(KL, axis_name=\"machs\")\n",
    "  Exp = jnp.mean(Likelihood0)\n",
    "                  \n",
    "  return (KL-Exp)/(Num_Filt * jnp.sum(N) + 1)"
   ]
  },
  {
   "cell_type": "code",
   "execution_count": 136,
   "metadata": {},
   "outputs": [],
   "source": [
    "PNeg = pmap(Neg_ELBO, axis_name = \"machs\", in_axes=(0, 0, None, 0, 0, 0, 0, 0, 0, 0, None, None, None, None, None, None, None, None, None, None, 0, None, None, 0,),\n",
    "            static_broadcasted_argnums = range(10, 19))"
   ]
  },
  {
   "cell_type": "code",
   "execution_count": 137,
   "metadata": {},
   "outputs": [],
   "source": [
    "test_number_f = 15\n",
    "test_num_base = 100\n",
    "test_m = int(20)\n",
    "\n",
    "test_key = random.PRNGKey(0)\n",
    "test_key, *test_subkeys = random.split(test_key, 1 + 4 * num_mach)\n",
    "test_subkeys = np.asarray(test_subkeys).astype(np.uint32).reshape(num_mach, 4, 2)\n",
    "\n",
    "test_sigma_f = 2.0 * np.ones((num_mach, batch_size, 1, 1))# np.arange(num_mach * batch_size).reshape(num_mach, batch_size, 1, 1)\n",
    "test_ell_f = 0.7 * np.ones((num_mach, batch_size, 1, 1))\n",
    "test_sigma_n = 0.01\n",
    "test_z_final = jnp.tile(jnp.linspace(0.0, 1.0, test_m).reshape((test_m, 1)), (num_mach, batch_size, 1, 1))\n",
    "test_z_m = (jnp.arcsin(2.0 * (test_z_final - 0.5)) / jnp.pi) + 0.5\n",
    "test_v_m = 5.0 * np.ones((num_mach, batch_size, test_m, 1))\n",
    "test_l_diag = np.ones((num_mach, batch_size, test_m))\n",
    "test_l_odiag = np.tile(np.tril(np.ones((test_m, test_m)), -1)[np.tril_indices(test_m, -1)], (num_mach, batch_size, 1))\n",
    "test_trise = 0.02 * np.ones((num_mach, batch_size, 1, 1))\n",
    "test_tdiff = 0.03 * np.ones((num_mach, batch_size, 1, 1))\n",
    "test_lag = 0.01 * np.ones((num_mach, batch_size, 1, 1))\n",
    "test_indices = np.tril_indices(test_m, -1)"
   ]
  },
  {
   "cell_type": "code",
   "execution_count": 138,
   "metadata": {},
   "outputs": [],
   "source": [
    "@partial(jit, static_argnums = range(10, 19))\n",
    "def Return(Sigma_f, Ell, Sigma_n, Z_Fractions, V_Vector, L_Diag, L_ODiag, TRise,\n",
    "              TauDiff, Lag, Number_F, Num_Base, M, Num_Filt, Batch_Size, K, N0, N1, N2,\n",
    "              Indices, Spike_Fft, Velocity, F_Time, Subkeys):\n",
    "\n",
    "  return PNeg(Sigma_f, Ell, Sigma_n, Z_Fractions, V_Vector, L_Diag, L_ODiag, TRise,\n",
    "              TauDiff, Lag, Number_F, Num_Base, M, Num_Filt, Batch_Size, K, N0, N1, N2,\n",
    "              Indices, Spike_Fft, Velocity, F_Time, Subkeys)[0]"
   ]
  },
  {
   "cell_type": "code",
   "execution_count": 139,
   "metadata": {},
   "outputs": [],
   "source": [
    "testelb = Return(test_sigma_f, test_ell_f, test_sigma_n, test_z_m, test_v_m, test_l_diag,\n",
    "              test_l_odiag, test_trise, test_tdiff, test_lag, test_number_f, test_num_base,\n",
    "              test_m, num_filt, batch_size, k, n, n, n, test_indices, spikefft, yvel, \n",
    "              ftime, test_subkeys)"
   ]
  },
  {
   "cell_type": "code",
   "execution_count": 140,
   "metadata": {},
   "outputs": [
    {
     "name": "stdout",
     "output_type": "stream",
     "text": [
      "13903.916811462572\n"
     ]
    }
   ],
   "source": [
    "print(testelb)"
   ]
  },
  {
   "cell_type": "code",
   "execution_count": 141,
   "metadata": {},
   "outputs": [],
   "source": [
    "Grad_Bound = value_and_grad(Return, argnums = range(10))"
   ]
  },
  {
   "cell_type": "code",
   "execution_count": 142,
   "metadata": {},
   "outputs": [],
   "source": [
    "testval, testgrad = Grad_Bound(test_sigma_f, test_ell_f, test_sigma_n, test_z_m, test_v_m, test_l_diag,\n",
    "              test_l_odiag, test_trise, test_tdiff, test_lag, test_number_f, test_num_base,\n",
    "              test_m, num_filt, batch_size, k, n, n, n, test_indices, spikefft, yvel, \n",
    "              ftime, test_subkeys)"
   ]
  },
  {
   "cell_type": "code",
   "execution_count": 143,
   "metadata": {},
   "outputs": [
    {
     "name": "stdout",
     "output_type": "stream",
     "text": [
      "13903.916811462572\n"
     ]
    }
   ],
   "source": [
    "print(testval)"
   ]
  },
  {
   "cell_type": "markdown",
   "metadata": {},
   "source": [
    "# Training the Model"
   ]
  },
  {
   "cell_type": "code",
   "execution_count": null,
   "metadata": {
    "executionInfo": {
     "elapsed": 6,
     "status": "ok",
     "timestamp": 1646766634668,
     "user": {
      "displayName": "Simon Gomez-Cullen",
      "photoUrl": "https://lh3.googleusercontent.com/a/default-user=s64",
      "userId": "13652272254121268238"
     },
     "user_tz": 0
    },
    "id": "HSufsznIhJ4G"
   },
   "outputs": [],
   "source": [
    "@jit\n",
    "def MCalc(Grad, M, B1 = 0.9):\n",
    "  return (1 - B1) * Grad + B1 * M"
   ]
  },
  {
   "cell_type": "code",
   "execution_count": null,
   "metadata": {
    "executionInfo": {
     "elapsed": 6,
     "status": "ok",
     "timestamp": 1646766634668,
     "user": {
      "displayName": "Simon Gomez-Cullen",
      "photoUrl": "https://lh3.googleusercontent.com/a/default-user=s64",
      "userId": "13652272254121268238"
     },
     "user_tz": 0
    },
    "id": "J7jHt1Kuh3nh"
   },
   "outputs": [],
   "source": [
    "@jit\n",
    "def MBias(M, Step, B1 = 0.9):\n",
    "  return M / (1 - B1 ** (Step + 1))"
   ]
  },
  {
   "cell_type": "code",
   "execution_count": null,
   "metadata": {
    "executionInfo": {
     "elapsed": 6,
     "status": "ok",
     "timestamp": 1646766634668,
     "user": {
      "displayName": "Simon Gomez-Cullen",
      "photoUrl": "https://lh3.googleusercontent.com/a/default-user=s64",
      "userId": "13652272254121268238"
     },
     "user_tz": 0
    },
    "id": "eyxhBriJhk3O"
   },
   "outputs": [],
   "source": [
    "@jit\n",
    "def VCalc(Grad, V, B2 = 0.99):\n",
    "  return (1 - B2) * jnp.square(Grad) + B2 * V"
   ]
  },
  {
   "cell_type": "code",
   "execution_count": null,
   "metadata": {
    "executionInfo": {
     "elapsed": 5,
     "status": "ok",
     "timestamp": 1646766634668,
     "user": {
      "displayName": "Simon Gomez-Cullen",
      "photoUrl": "https://lh3.googleusercontent.com/a/default-user=s64",
      "userId": "13652272254121268238"
     },
     "user_tz": 0
    },
    "id": "DgBlxV4giAuT"
   },
   "outputs": [],
   "source": [
    "@jit\n",
    "def VBias(V, Step, B2 = 0.99):\n",
    "  return V / (1 - B2 ** (Step + 1))"
   ]
  },
  {
   "cell_type": "code",
   "execution_count": null,
   "metadata": {
    "executionInfo": {
     "elapsed": 6,
     "status": "ok",
     "timestamp": 1646766634669,
     "user": {
      "displayName": "Simon Gomez-Cullen",
      "photoUrl": "https://lh3.googleusercontent.com/a/default-user=s64",
      "userId": "13652272254121268238"
     },
     "user_tz": 0
    },
    "id": "5GuAsMo2kCfe"
   },
   "outputs": [],
   "source": [
    "@jit\n",
    "def CFinState(X, Mhat, Vhat, Step_Size = 1e-2, Eps = 1e-8):\n",
    "  return X - Step_Size * Mhat / (jnp.sqrt(Vhat) + Eps)"
   ]
  },
  {
   "cell_type": "code",
   "execution_count": null,
   "metadata": {},
   "outputs": [],
   "source": [
    "@jit\n",
    "def MFinState(X, Mhat, Vhat, Step_Size = 1e-3, Eps = 1e-8):\n",
    "  return X - Step_Size * Mhat / (jnp.sqrt(Vhat) + Eps)"
   ]
  },
  {
   "cell_type": "code",
   "execution_count": null,
   "metadata": {},
   "outputs": [],
   "source": [
    "@jit\n",
    "def FFinState(X, Mhat, Vhat, Step_Size = 1e-4, Eps = 1e-8):\n",
    "  return X - Step_Size * Mhat / (jnp.sqrt(Vhat) + Eps)"
   ]
  },
  {
   "cell_type": "code",
   "execution_count": null,
   "metadata": {
    "executionInfo": {
     "elapsed": 6,
     "status": "ok",
     "timestamp": 1646766634669,
     "user": {
      "displayName": "Simon Gomez-Cullen",
      "photoUrl": "https://lh3.googleusercontent.com/a/default-user=s64",
      "userId": "13652272254121268238"
     },
     "user_tz": 0
    },
    "id": "53tnnK-EvSk2"
   },
   "outputs": [],
   "source": [
    "@jit\n",
    "def CAdam(Step, X, Grad, M, V):\n",
    "\n",
    "  M = tree_map(MCalc, Grad, M) # First  moment estimate.\n",
    "  V = tree_map(VCalc, Grad, V)  # Second moment estimate.\n",
    "  Step = tuple(Step * jnp.ones(10))\n",
    "  Mhat = tree_map(MBias, M, Step) # Bias correction.\n",
    "  Vhat = tree_map(VBias, V, Step) # Bias correction.\n",
    "\n",
    "  X = tree_map(CFinState, X, Mhat, Vhat)\n",
    "\n",
    "  return X, M, V"
   ]
  },
  {
   "cell_type": "code",
   "execution_count": null,
   "metadata": {},
   "outputs": [],
   "source": [
    "@jit\n",
    "def MAdam(Step, X, Grad, M, V):\n",
    "\n",
    "  M = tree_map(MCalc, Grad, M) # First  moment estimate.\n",
    "  V = tree_map(VCalc, Grad, V)  # Second moment estimate.\n",
    "  Step = tuple(Step * jnp.ones(10))\n",
    "  Mhat = tree_map(MBias, M, Step) # Bias correction.\n",
    "  Vhat = tree_map(VBias, V, Step) # Bias correction.\n",
    "\n",
    "  X = tree_map(MFinState, X, Mhat, Vhat)\n",
    "\n",
    "  return X, M, V"
   ]
  },
  {
   "cell_type": "code",
   "execution_count": null,
   "metadata": {},
   "outputs": [],
   "source": [
    "@jit\n",
    "def FAdam(Step, X, Grad, M, V):\n",
    "\n",
    "  M = tree_map(MCalc, Grad, M) # First  moment estimate.\n",
    "  V = tree_map(VCalc, Grad, V)  # Second moment estimate.\n",
    "  Step = tuple(Step * jnp.ones(10))\n",
    "  Mhat = tree_map(MBias, M, Step) # Bias correction.\n",
    "  Vhat = tree_map(VBias, V, Step) # Bias correction.\n",
    "\n",
    "  X = tree_map(FFinState, X, Mhat, Vhat)\n",
    "\n",
    "  return X, M, V"
   ]
  },
  {
   "cell_type": "code",
   "execution_count": null,
   "metadata": {
    "executionInfo": {
     "elapsed": 277,
     "status": "ok",
     "timestamp": 1646766634940,
     "user": {
      "displayName": "Simon Gomez-Cullen",
      "photoUrl": "https://lh3.googleusercontent.com/a/default-user=s64",
      "userId": "13652272254121268238"
     },
     "user_tz": 0
    },
    "id": "DJlnRpN8lC2n"
   },
   "outputs": [],
   "source": [
    "@partial(jit, static_argnums = range(8, 18))\n",
    "def _CUpdate(Iter, X, Subkeys, Key, ELBO_History, Step, Mad, Vad, \n",
    "              Num_Coarse_Fs, Num_Base, M, Num_Filt, Num_Mach, Batch_Size, K, N0, N1, N2, Indices, \n",
    "              Spike_Fft, Velocity, F_Time):\n",
    "              \n",
    "  Value, Grads = Grad_Bound(*X, Num_Coarse_Fs, Num_Base, M, Num_Filt, Batch_Size, K, N0, N1, N2,\n",
    "                  Indices, Spike_Fft, Velocity, F_Time, Subkeys)\n",
    "  X, Mad, Vad = CAdam(Iter, X, Grads, Mad, Vad)\n",
    "  Key, *Subkeys = random.split(Key, 1 + 4 * Num_Mach)\n",
    "  Subkeys = jnp.asarray(Subkeys).astype(jnp.uint32).reshape(Num_Mach, 4, 2)\n",
    "  ELBO_History = ELBO_History.at[Step].set(-Value)\n",
    "  Step += 1\n",
    "\n",
    "  return (X, Subkeys, Key, ELBO_History, Step, Mad, Vad)"
   ]
  },
  {
   "cell_type": "code",
   "execution_count": null,
   "metadata": {},
   "outputs": [],
   "source": [
    "@partial(jit, static_argnums = range(8, 18))\n",
    "def _MUpdate(Iter, X, Subkeys, Key, ELBO_History, Step, Mad, Vad, \n",
    "              Num_Mid_Fs, Num_Base, M, Num_Filt, Num_Mach, Batch_Size, K, N0, N1, N2, Indices, \n",
    "              Spike_Fft, Velocity, F_Time):\n",
    "\n",
    "  Value, Grads = Grad_Bound(*X, Num_Mid_Fs, Num_Base, M, Num_Filt, Batch_Size, K, N0, N1, N2,\n",
    "                  Indices, Spike_Fft, Velocity, F_Time, Subkeys)\n",
    "  X, Mad, Vad = MAdam(Iter, X, Grads, Mad, Vad)\n",
    "  Key, *Subkeys = random.split(Key, 1 + 4 * Num_Mach)\n",
    "  Subkeys = jnp.asarray(Subkeys).astype(jnp.uint32).reshape(Num_Mach, 4, 2)\n",
    "  ELBO_History = ELBO_History.at[Step].set(-Value)\n",
    "  Step += 1\n",
    "\n",
    "  return (X, Subkeys, Key, ELBO_History, Step, Mad, Vad)"
   ]
  },
  {
   "cell_type": "code",
   "execution_count": null,
   "metadata": {},
   "outputs": [],
   "source": [
    "@partial(jit, static_argnums = range(8, 18))\n",
    "def _FUpdate(Iter, X, Subkeys, Key, ELBO_History, Step, Mad, Vad, \n",
    "              Num_Fine_Fs, Num_Base, M, Num_Filt, Num_Mach, Batch_Size, K, N0, N1, N2, Indices, \n",
    "              Spike_Fft, Velocity, F_Time):\n",
    "\n",
    "  Value, Grads = Grad_Bound(*X, Num_Fine_Fs, Num_Base, M, Num_Filt, Batch_Size, K, N0, N1, N2,\n",
    "                  Indices, Spike_Fft, Velocity, F_Time, Subkeys)\n",
    "  X, Mad, Vad = FAdam(Iter, X, Grads, Mad, Vad)\n",
    "  Key, *Subkeys = random.split(Key, 1 + 4 * Num_Mach)\n",
    "  Subkeys = jnp.asarray(Subkeys).astype(jnp.uint32).reshape(Num_Mach, 4, 2)\n",
    "  ELBO_History = ELBO_History.at[Step].set(-Value)\n",
    "  Step += 1\n",
    "\n",
    "  return (X, Subkeys, Key, ELBO_History, Step, Mad, Vad)"
   ]
  },
  {
   "cell_type": "markdown",
   "metadata": {},
   "source": [
    "#### Adam Function Definition"
   ]
  },
  {
   "cell_type": "code",
   "execution_count": null,
   "metadata": {
    "executionInfo": {
     "elapsed": 4,
     "status": "ok",
     "timestamp": 1646766634941,
     "user": {
      "displayName": "Simon Gomez-Cullen",
      "photoUrl": "https://lh3.googleusercontent.com/a/default-user=s64",
      "userId": "13652272254121268238"
     },
     "user_tz": 0
    },
    "id": "JgQLvmqHYgIv"
   },
   "outputs": [],
   "source": [
    "@partial(jit, static_argnums = range(1, 11))\n",
    "def AdamOpt(Init_Params, Num_Fs, Num_Base, M, Num_Filt, Num_Mach, Batch_Size, K, N0, N1, N2, Indices, \n",
    "              Spike_Fft, Velocity, F_Time, Coarse_Schedule = jnp.asarray([1500]), \n",
    "              Mid_Schedule = jnp.asarray([16500]), Fine_Iters = 2000):\n",
    "  \n",
    "  \"\"\"\n",
    "  Function implementing the Adam optimiser loop.\n",
    "  \"\"\"\n",
    "  ELBO_History = jnp.zeros(15)\n",
    "  Step = 0\n",
    "  Mad = tree_map(jnp.zeros_like, Init_Params)\n",
    "  Vad = tree_map(jnp.zeros_like, Init_Params)\n",
    "  Key = random.PRNGKey(0)\n",
    "  Key, *Subkeys = random.split(Key, 1 + 4 * Num_Mach)\n",
    "  Subkeys = jnp.asarray(Subkeys).astype(jnp.uint32).reshape(Num_Mach, 4, 2)\n",
    "  Params = Init_Params\n",
    "\n",
    "  def CUpdate(Iter, State):\n",
    "    return _CUpdate(Iter, *State, Num_Fs, Num_Base, M, Num_Filt, Num_Mach, Batch_Size, K, N0, N1, N2, Indices, \n",
    "                      Spike_Fft, Velocity, F_Time)\n",
    "\n",
    "  def MUpdate(Iter, State):\n",
    "    return _MUpdate(Iter, *State, Num_Fs, Num_Base, M, Num_Filt, Num_Mach, Batch_Size, K, N0, N1, N2, Indices, \n",
    "                      Spike_Fft, Velocity, F_Time)\n",
    "\n",
    "  def FUpdate(Iter, State):\n",
    "    return _FUpdate(Iter, *State, Num_Fs, Num_Base, M, Num_Filt, Num_Mach, Batch_Size, K, N0, N1, N2, Indices, \n",
    "                      Spike_Fft, Velocity, F_Time)\n",
    "\n",
    "  JCUpdate = jit(CUpdate)\n",
    "  JMUpdate = jit(MUpdate)\n",
    "  JFUpdate = jit(FUpdate)\n",
    "\n",
    "  def CReset(Iter, State):\n",
    "    InOptState = lax.fori_loop(0, Coarse_Schedule[Iter], JCUpdate, State)\n",
    "    return InOptState\n",
    "\n",
    "  def MReset(Iter, State):\n",
    "    InOptState = lax.fori_loop(0, Mid_Schedule[Iter], JMUpdate, State)\n",
    "    return InOptState\n",
    "\n",
    "  JCReset = jit(CReset)\n",
    "  JMReset = jit(MReset)\n",
    "\n",
    "  OptState = lax.fori_loop(0, len(Coarse_Schedule), JCReset, \n",
    "                              (Params, Subkeys, Key, ELBO_History, Step, Mad, Vad))\n",
    "\n",
    "  OptState = lax.fori_loop(0, len(Mid_Schedule), JMReset, OptState)\n",
    "\n",
    "  OptState = lax.fori_loop(0, Fine_Iters, JFUpdate, OptState)\n",
    "\n",
    "  return OptState[0], OptState[-4]"
   ]
  },
  {
   "cell_type": "code",
   "execution_count": 152,
   "metadata": {
    "executionInfo": {
     "elapsed": 3292,
     "status": "ok",
     "timestamp": 1646766638229,
     "user": {
      "displayName": "Simon Gomez-Cullen",
      "photoUrl": "https://lh3.googleusercontent.com/a/default-user=s64",
      "userId": "13652272254121268238"
     },
     "user_tz": 0
    },
    "id": "UAGaB-DdaFO-"
   },
   "outputs": [],
   "source": [
    "key = random.PRNGKey(4)\n",
    "\n",
    "# Initialising the parameters\n",
    "\n",
    "# Generative parameters\n",
    "isigma_f = 1.0 * jnp.ones((num_mach, batch_size, 1, 1))\n",
    "iell = 0.002 * jnp.ones ((num_mach, batch_size, 1, 1))\n",
    "isigma_n = 0.000000005\n",
    "itrise = np.sqrt(0.05) * jnp.ones((num_mach, batch_size, 1, 1))\n",
    "itaudiff = np.sqrt(0.01) * jnp.ones((num_mach, batch_size, 1, 1))\n",
    "ilag = np.sqrt(0.01) * jnp.ones((num_mach, batch_size, 1, 1))\n",
    "\n",
    "# Variational parameters\n",
    "num_f = 15\n",
    "num_b = 100\n",
    "num_ind = 20\n",
    "iz_final = jnp.tile(jnp.linspace(0.0, 1.0, num_ind).reshape((num_ind, 1)), (num_mach, batch_size, 1, 1))\n",
    "iz_fracs = (jnp.arcsin(2.0 * (iz_final - 0.5)) / jnp.pi) + 0.5\n",
    "key, *subkeys = random.split(key, 4)\n",
    "iv_vector = 0.01 * random.normal(subkeys[-3], (num_mach, batch_size, num_ind, 1))\n",
    "il_diag = 0.01 * random.normal(subkeys[-2], (num_mach, batch_size, num_ind))\n",
    "il_odiag = 0.1 * random.normal(subkeys[-1], (num_mach, batch_size, int((num_ind ** 2 - num_ind) / 2)))\n",
    "indices = jnp.asarray(jnp.tril_indices(num_ind, -1))\n",
    "\n",
    "# Random number generator\n",
    "opt_key = random.PRNGKey(1)\n",
    "opt_key, *opt_subkey = random.split(opt_key, 1 + 4 * num_mach)\n",
    "opt_subkey = np.asarray([opt_subkey[i:i+4] for i in range(num_mach)]).astype(np.uint32)\n",
    "\n",
    "params = (isigma_f, iell, isigma_n, iz_fracs, iv_vector, il_diag, il_odiag, itrise, itaudiff, ilag)\n",
    "consparams = (num_ind, num_filt, batch_size, k, n, n, n, indices, spikefft, yvel, ftime)"
   ]
  },
  {
   "cell_type": "code",
   "execution_count": 153,
   "metadata": {},
   "outputs": [
    {
     "name": "stderr",
     "output_type": "stream",
     "text": [
      "100%|██████████| 3/3 [06:55<00:00, 138.43s/it]\n",
      "  0%|          | 0/1 [00:00<?, ?it/s]"
     ]
    }
   ],
   "source": [
    "fparams, elbo_history = AdamOpt(params, num_f, num_b, num_ind, num_filt, num_mach, batch_size,\n",
    "                                  k, n, n, n, indices, spikefft, yvel, ftime)"
   ]
  },
  {
   "cell_type": "code",
   "execution_count": null,
   "metadata": {
    "colab": {
     "base_uri": "https://localhost:8080/"
    },
    "executionInfo": {
     "elapsed": 1017,
     "status": "ok",
     "timestamp": 1646766776379,
     "user": {
      "displayName": "Simon Gomez-Cullen",
      "photoUrl": "https://lh3.googleusercontent.com/a/default-user=s64",
      "userId": "13652272254121268238"
     },
     "user_tz": 0
    },
    "id": "1mkX9pbJV9Gb",
    "outputId": "1dfd7eb9-273b-486a-b845-37037bf375d8"
   },
   "outputs": [
    {
     "name": "stdout",
     "output_type": "stream",
     "text": [
      "1.0868276779308414e+17\n"
     ]
    }
   ],
   "source": [
    "print(Return(*params, num_f, num_b, *consparams, opt_subkey))"
   ]
  },
  {
   "cell_type": "code",
   "execution_count": null,
   "metadata": {},
   "outputs": [
    {
     "name": "stdout",
     "output_type": "stream",
     "text": [
      "-1.5252875842538631\n"
     ]
    }
   ],
   "source": [
    "print(Return(*fparams, num_f, num_b, *consparams, opt_subkey))"
   ]
  },
  {
   "cell_type": "code",
   "execution_count": null,
   "metadata": {},
   "outputs": [
    {
     "data": {
      "text/plain": [
       "[<matplotlib.lines.Line2D at 0x7fbc58162a90>]"
      ]
     },
     "metadata": {},
     "output_type": "display_data"
    },
    {
     "data": {
      "image/png": "[encoded data removed]",
      "text/plain": [
       "<Figure size 432x288 with 1 Axes>"
      ]
     },
     "metadata": {},
     "output_type": "display_data"
    }
   ],
   "source": [
    "plt.plot(elbo_history[:])"
   ]
  },
  {
   "cell_type": "code",
   "execution_count": null,
   "metadata": {
    "executionInfo": {
     "elapsed": 7,
     "status": "ok",
     "timestamp": 1646766776379,
     "user": {
      "displayName": "Simon Gomez-Cullen",
      "photoUrl": "https://lh3.googleusercontent.com/a/default-user=s64",
      "userId": "13652272254121268238"
     },
     "user_tz": 0
    },
    "id": "LF-fsINZXfoK"
   },
   "outputs": [],
   "source": [
    "fsigma_f, fell, fsigma_n, fz_fracs, fv_vector, fl_diag, fl_odiag, ftrise, ftaudiff, flag = fparams"
   ]
  },
  {
   "cell_type": "code",
   "execution_count": null,
   "metadata": {},
   "outputs": [],
   "source": [
    "@jit\n",
    "def Set(Matrix, Indices, NewVals):\n",
    "  return Matrix.at[:, Indices[0], Indices[1]].set(NewVals)"
   ]
  },
  {
   "cell_type": "code",
   "execution_count": null,
   "metadata": {},
   "outputs": [],
   "source": [
    "PDiag = pmap(Diag)"
   ]
  },
  {
   "cell_type": "code",
   "execution_count": null,
   "metadata": {},
   "outputs": [],
   "source": [
    "PSet = pmap(Set, in_axes=(0, None, 0,))"
   ]
  },
  {
   "cell_type": "code",
   "execution_count": null,
   "metadata": {},
   "outputs": [
    {
     "name": "stdout",
     "output_type": "stream",
     "text": [
      "(1, 1, 20)\n",
      "(1, 1, 20, 20)\n",
      "(1, 1, 20, 20)\n",
      "(1, 1, 20, 20)\n"
     ]
    }
   ],
   "source": [
    "ilag = ilag ** 2\n",
    "\n",
    "iz_vector = (0.5 * np.sin( np.pi * (iz_fracs - 0.5)) + 0.5) * (ftime[-1, 0] - ilag) + ilag\n",
    "\n",
    "idz = PDiag(np.exp(il_diag))\n",
    "print(il_diag.shape)\n",
    "print(idz.shape)\n",
    "il_matrix = PSet(idz, indices, il_odiag)\n",
    "\n",
    "\n",
    "flag = flag ** 2\n",
    "\n",
    "fz_vector = (0.5 * np.sin( np.pi * (fz_fracs - 0.5)) + 0.5) * (ftime[-1] - flag) + flag\n",
    "\n",
    "fd = PDiag(np.exp(fl_diag))\n",
    "fl_matrix = PSet(fd, indices, fl_odiag)\n",
    "print(fd.shape)\n",
    "print(fl_matrix.shape)"
   ]
  },
  {
   "cell_type": "code",
   "execution_count": null,
   "metadata": {
    "colab": {
     "base_uri": "https://localhost:8080/"
    },
    "executionInfo": {
     "elapsed": 7,
     "status": "ok",
     "timestamp": 1646766776380,
     "user": {
      "displayName": "Simon Gomez-Cullen",
      "photoUrl": "https://lh3.googleusercontent.com/a/default-user=s64",
      "userId": "13652272254121268238"
     },
     "user_tz": 0
    },
    "id": "1GPauHWaa4u_",
    "outputId": "538efe20-48cb-435d-b7f4-2153fbe5ae3b"
   },
   "outputs": [],
   "source": [
    "isigma_ff = isigma_f.reshape(num_filt, 1)\n",
    "iellf = iell.reshape(num_filt, 1)\n",
    "iz_vectorf = iz_vector.reshape(num_filt, num_ind, 1)\n",
    "iv_vectorf = iv_vector.reshape(num_filt, num_ind, 1)\n",
    "il_matrixf = il_matrix.reshape(num_filt, num_ind, num_ind)\n",
    "itrisef = itrise.reshape(num_filt, 1)\n",
    "itaudifff = itaudiff.reshape(num_filt, 1)\n",
    "ilagf = ilag.reshape(num_filt, 1)\n",
    "\n",
    "fsigma_ff = fsigma_f.reshape(num_filt, 1)\n",
    "fellf = fell.reshape(num_filt, 1)\n",
    "fz_vectorf = fz_vector.reshape(num_filt, num_ind, 1)\n",
    "fv_vectorf = fv_vector.reshape(num_filt, num_ind, 1)\n",
    "fl_matrixf = fl_matrix.reshape(num_filt, num_ind, num_ind)\n",
    "ftrisef = ftrise.reshape(num_filt, 1)\n",
    "ftaudifff = ftaudiff.reshape(num_filt, 1)\n",
    "flagf = flag.reshape(num_filt, 1)"
   ]
  },
  {
   "cell_type": "code",
   "execution_count": null,
   "metadata": {},
   "outputs": [
    {
     "name": "stdout",
     "output_type": "stream",
     "text": [
      "1\n"
     ]
    }
   ],
   "source": [
    "print(len(spikefft))"
   ]
  },
  {
   "cell_type": "code",
   "execution_count": null,
   "metadata": {},
   "outputs": [],
   "source": [
    "spikeffta = [np.asarray([spikefft[i][j] for i in range(num_mach)]) for j in range(3)]"
   ]
  },
  {
   "cell_type": "code",
   "execution_count": null,
   "metadata": {},
   "outputs": [],
   "source": [
    "spikefftf = [spikeffta[i].reshape(num_filt, fftlen[i], 1) for i in range(3)]"
   ]
  },
  {
   "cell_type": "code",
   "execution_count": null,
   "metadata": {},
   "outputs": [
    {
     "name": "stdout",
     "output_type": "stream",
     "text": [
      "3\n",
      "(1, 401, 1)\n"
     ]
    }
   ],
   "source": [
    "print(len(spikefftf))\n",
    "print(spikefftf[0].shape)"
   ]
  },
  {
   "cell_type": "code",
   "execution_count": null,
   "metadata": {},
   "outputs": [
    {
     "name": "stdout",
     "output_type": "stream",
     "text": [
      "[[0.4197237]]\n"
     ]
    }
   ],
   "source": [
    "print(fsigma_ff)"
   ]
  },
  {
   "cell_type": "code",
   "execution_count": null,
   "metadata": {
    "colab": {
     "base_uri": "https://localhost:8080/"
    },
    "executionInfo": {
     "elapsed": 6,
     "status": "ok",
     "timestamp": 1646766776380,
     "user": {
      "displayName": "Simon Gomez-Cullen",
      "photoUrl": "https://lh3.googleusercontent.com/a/default-user=s64",
      "userId": "13652272254121268238"
     },
     "user_tz": 0
    },
    "id": "mxaZOsQha6pw",
    "outputId": "9c265bd2-3017-41bc-ba9e-fdb11024573b"
   },
   "outputs": [
    {
     "name": "stdout",
     "output_type": "stream",
     "text": [
      "[[-0.09435575]]\n"
     ]
    }
   ],
   "source": [
    "print(fellf)"
   ]
  },
  {
   "cell_type": "code",
   "execution_count": null,
   "metadata": {
    "colab": {
     "base_uri": "https://localhost:8080/"
    },
    "executionInfo": {
     "elapsed": 4,
     "status": "ok",
     "timestamp": 1646766776380,
     "user": {
      "displayName": "Simon Gomez-Cullen",
      "photoUrl": "https://lh3.googleusercontent.com/a/default-user=s64",
      "userId": "13652272254121268238"
     },
     "user_tz": 0
    },
    "id": "z9WJW3aQa9nt",
    "outputId": "92af4fb5-3e2d-4d07-8654-85cff07f301b"
   },
   "outputs": [
    {
     "name": "stdout",
     "output_type": "stream",
     "text": [
      "0.05114641127716294\n"
     ]
    }
   ],
   "source": [
    "print(fsigma_n)"
   ]
  },
  {
   "cell_type": "code",
   "execution_count": null,
   "metadata": {},
   "outputs": [
    {
     "name": "stdout",
     "output_type": "stream",
     "text": [
      "[[0.22323244]]\n"
     ]
    }
   ],
   "source": [
    "print(ftrisef)"
   ]
  },
  {
   "cell_type": "code",
   "execution_count": null,
   "metadata": {},
   "outputs": [
    {
     "name": "stdout",
     "output_type": "stream",
     "text": [
      "[[-0.33523586]]\n"
     ]
    }
   ],
   "source": [
    "print(ftaudifff)"
   ]
  },
  {
   "cell_type": "code",
   "execution_count": null,
   "metadata": {},
   "outputs": [
    {
     "name": "stdout",
     "output_type": "stream",
     "text": [
      "[[1.19956918e-40]]\n"
     ]
    }
   ],
   "source": [
    "print(flagf)"
   ]
  },
  {
   "cell_type": "markdown",
   "metadata": {
    "id": "6IDmU9CbBKAT"
   },
   "source": [
    "## Variational Predictions"
   ]
  },
  {
   "cell_type": "code",
   "execution_count": null,
   "metadata": {
    "executionInfo": {
     "elapsed": 3,
     "status": "ok",
     "timestamp": 1646766776651,
     "user": {
      "displayName": "Simon Gomez-Cullen",
      "photoUrl": "https://lh3.googleusercontent.com/a/default-user=s64",
      "userId": "13652272254121268238"
     },
     "user_tz": 0
    },
    "id": "BQxqxqrfBY2x"
   },
   "outputs": [],
   "source": [
    "fpred_points = ftime.copy()"
   ]
  },
  {
   "cell_type": "code",
   "execution_count": null,
   "metadata": {},
   "outputs": [],
   "source": [
    "scisigmaf = isigma_ff[:, None]\n",
    "sciellf = iellf[:, None]\n",
    "scitrisef = itrisef[:, None]\n",
    "scitaudifff = itaudifff[:, None]\n",
    "scilagf = ilagf[:, None]\n",
    "\n",
    "ikmm = Squared_exp(iz_vectorf, iz_vectorf.transpose(0, 2, 1), scisigmaf, sciellf)\n",
    "icpred = np.linalg.cholesky(ikmm + 1e-6 * np.eye(num_ind))\n",
    "ikzast = Squared_exp(iz_vectorf, fpred_points.T, scisigmaf, sciellf)\n",
    "ibzast = np.zeros((num_filt, num_ind, k + 1))\n",
    "for i in range(num_filt):\n",
    "  ibzast[i] = sc.linalg.solve_triangular(icpred[i], ikzast[i], lower = True)\n",
    "ibzastT = ibzast.transpose(0, 2, 1)\n",
    "ipredenv = AlpEnvelope(fpred_points, scitrisef, scitaudifff, scilagf)\n",
    "ipredenvT = ipredenv.transpose(0, 2, 1)\n",
    "imeanpred = ipredenv * (ibzastT @ iv_vectorf)\n",
    "ikastast = Squared_exp(fpred_points, fpred_points.T, scisigmaf, sciellf)\n",
    "icovpred = ipredenv * (ikastast + ibzastT @ (il_matrixf @ il_matrixf.transpose(0, 2, 1) - np.eye(num_ind)) @ ibzast) * ipredenvT"
   ]
  },
  {
   "cell_type": "code",
   "execution_count": null,
   "metadata": {
    "colab": {
     "base_uri": "https://localhost:8080/"
    },
    "executionInfo": {
     "elapsed": 376,
     "status": "ok",
     "timestamp": 1646766777705,
     "user": {
      "displayName": "Simon Gomez-Cullen",
      "photoUrl": "https://lh3.googleusercontent.com/a/default-user=s64",
      "userId": "13652272254121268238"
     },
     "user_tz": 0
    },
    "id": "Q-CB-IqaBR55",
    "outputId": "a31e8b74-af31-4de3-8d3a-cab034775837"
   },
   "outputs": [],
   "source": [
    "scfsigmaf = fsigma_ff[:, None]\n",
    "scfellf = fellf[:, None]\n",
    "scftrisef = ftrisef[:, None]\n",
    "scftaudifff = ftaudifff[:, None]\n",
    "scflagf = flagf[:, None]\n",
    "\n",
    "fkmm = Squared_exp(fz_vectorf, fz_vectorf.transpose(0, 2, 1), scfsigmaf, scfellf)\n",
    "fcpred = np.linalg.cholesky(fkmm + 1e-6 * np.eye(num_ind))\n",
    "fkzast = Squared_exp(fz_vectorf, fpred_points.T, scfsigmaf, scfellf)\n",
    "fbzast = np.zeros((num_filt, num_ind, k + 1))\n",
    "for i in range(num_filt):\n",
    "  fbzast[i] = sc.linalg.solve_triangular(fcpred[i], fkzast[i], lower = True)\n",
    "fbzastT = fbzast.transpose(0, 2, 1)\n",
    "fpredenv = AlpEnvelope(fpred_points, scftrisef, scftaudifff, scflagf)\n",
    "fpredenvT = fpredenv.transpose(0, 2, 1)\n",
    "fmeanpred = fpredenv * (fbzastT @ fv_vectorf)\n",
    "\n",
    "fkastast = Squared_exp(fpred_points, fpred_points.T, scfsigmaf, scfellf)\n",
    "fcovpred = fpredenv * (fkastast + fbzastT @ (fl_matrixf @ fl_matrixf.transpose(0, 2, 1) - np.eye(num_ind)) @ fbzast) * fpredenvT"
   ]
  },
  {
   "cell_type": "code",
   "execution_count": null,
   "metadata": {},
   "outputs": [
    {
     "name": "stdout",
     "output_type": "stream",
     "text": [
      "(1, 201, 1)\n"
     ]
    }
   ],
   "source": [
    "print(imeanpred.shape)"
   ]
  },
  {
   "cell_type": "code",
   "execution_count": null,
   "metadata": {},
   "outputs": [
    {
     "data": {
      "text/plain": [
       "<matplotlib.collections.PathCollection at 0x7fbc58225b80>"
      ]
     },
     "metadata": {},
     "output_type": "display_data"
    },
    {
     "data": {
      "image/png": "[encoded data removed]",
      "text/plain": [
       "<Figure size 432x288 with 1 Axes>"
      ]
     },
     "metadata": {},
     "output_type": "display_data"
    }
   ],
   "source": [
    "ipredindenv = AlpEnvelope(iz_vectorf, scitrisef, scitaudifff, scilagf)\n",
    "index = 2\n",
    "plt.plot(fpred_points, imeanpred[index])\n",
    "is2 = np.sqrt(np.diag(icovpred[index]))\n",
    "ifill = (imeanpred[index].flatten() - is2, imeanpred[index].flatten() + is2)\n",
    "plt.fill_between(fpred_points.flatten(), *ifill, alpha = 0.1)\n",
    "plt.scatter(iz_vectorf[index], (ipredindenv * (icpred @ iv_vectorf))[index], s = 100, marker = '+', c='k', alpha = 0.6)\n",
    "#plt.xlim([ftime[0], ftime[-1]])"
   ]
  },
  {
   "cell_type": "code",
   "execution_count": null,
   "metadata": {},
   "outputs": [
    {
     "data": {
      "text/plain": [
       "<matplotlib.collections.PathCollection at 0x7fbc5804d8b0>"
      ]
     },
     "metadata": {},
     "output_type": "display_data"
    },
    {
     "data": {
      "image/png": "[encoded data removed]",
      "text/plain": [
       "<Figure size 432x288 with 1 Axes>"
      ]
     },
     "metadata": {},
     "output_type": "display_data"
    }
   ],
   "source": [
    "predindenv = AlpEnvelope(fz_vectorf, scftrisef, scftaudifff, scflagf)\n",
    "\n",
    "plt.plot(fpred_points, fmeanpred[index])\n",
    "s2 = np.sqrt(np.diag(fcovpred[index]))\n",
    "fill = (fmeanpred[index].flatten() - s2, fmeanpred[index].flatten() + s2)\n",
    "plt.fill_between(fpred_points.flatten(), *fill, alpha = 0.1)\n",
    "plt.scatter(fz_vectorf[index], (predindenv * (fcpred @ fv_vectorf))[index], s = 100, marker = '+', c='k', alpha = 0.6)\n",
    "#plt.xlim([ftime[0], ftime[-1]])"
   ]
  },
  {
   "cell_type": "code",
   "execution_count": null,
   "metadata": {},
   "outputs": [
    {
     "data": {
      "image/png": "[encoded data removed]",
      "text/plain": [
       "<Figure size 432x288 with 1 Axes>"
      ]
     },
     "metadata": {},
     "output_type": "display_data"
    }
   ],
   "source": [
    "envelopes = AlpEnvelope(ftime, scftrisef, scftaudifff, scflagf)\n",
    "for i in envelopes:\n",
    "  plt.plot(ftime, i)"
   ]
  },
  {
   "cell_type": "code",
   "execution_count": null,
   "metadata": {},
   "outputs": [
    {
     "data": {
      "text/plain": [
       "[<matplotlib.lines.Line2D at 0x7fbbe6010b80>]"
      ]
     },
     "metadata": {},
     "output_type": "display_data"
    },
    {
     "data": {
      "image/png": "[encoded data removed]",
      "text/plain": [
       "<Figure size 432x288 with 1 Axes>"
      ]
     },
     "metadata": {},
     "output_type": "display_data"
    }
   ],
   "source": [
    "for index in range(num_filt):\n",
    "  plt.plot(fpred_points, fmeanpred[index])\n",
    "  s2 = np.sqrt(np.diag(fcovpred[index]))\n",
    "  fill = (fmeanpred[index].flatten() - s2, fmeanpred[index].flatten() + s2)\n",
    "  plt.fill_between(fpred_points.flatten(), *fill, alpha = 0.1)\n",
    "  plt.scatter(fz_vectorf[index], (predindenv * (fcpred @ fv_vectorf))[index], s = 100, marker = '+', c='k', alpha = 0.6)\n",
    "  #plt.xlim([ftime[0], ftime[-1]])\n",
    "\n",
    "plt.plot(ftime, ftrue)"
   ]
  },
  {
   "cell_type": "code",
   "execution_count": null,
   "metadata": {},
   "outputs": [],
   "source": [
    "def OUTconvolve(Filters, K, N, Spike_FFT):\n",
    "  Pad = np.hstack((Filters, np.zeros((num_filt, N, 1))))\n",
    "  Pred_fft = np.fft.rfft(Pad, axis = -2)\n",
    "  Pred_sum = np.sum(Pred_fft * Spike_FFT, axis = 0)\n",
    "  Pred_fitfft = np.fft.irfft(Pred_sum, K + N + 1, axis = -2)[ : N + 1]\n",
    "  return Pred_fitfft"
   ]
  },
  {
   "cell_type": "code",
   "execution_count": null,
   "metadata": {},
   "outputs": [],
   "source": [
    "is2 = np.sqrt(np.diagonal(icovpred, axis1=1, axis2=2)).reshape((num_filt, k + 1, 1))\n",
    "\n",
    "imeanpredict = OUTconvolve(imeanpred, k, n, spikefftf[0])\n",
    "imeanpredictns2 = OUTconvolve(imeanpred - 2 * is2, k, n, spikefftf[0])\n",
    "imeanpredictps2 = OUTconvolve(imeanpred + 2 * is2, k, n, spikefftf[0])"
   ]
  },
  {
   "cell_type": "code",
   "execution_count": null,
   "metadata": {},
   "outputs": [
    {
     "name": "stdout",
     "output_type": "stream",
     "text": [
      "(601, 1)\n"
     ]
    }
   ],
   "source": [
    "fs2 = np.sqrt(np.diagonal(fcovpred, axis1=1, axis2=2)).reshape((num_filt, k + 1, 1))\n",
    "\n",
    "fmeanpredict = OUTconvolve(fmeanpred, k, n, spikefftf[1])\n",
    "print(fmeanpredict.shape)\n",
    "fmeanpredictns2 = OUTconvolve(fmeanpred - 2 * fs2, k, n, spikefftf[1])\n",
    "fmeanpredictps2 = OUTconvolve(fmeanpred + 2 * fs2, k, n, spikefftf[1])"
   ]
  },
  {
   "cell_type": "code",
   "execution_count": null,
   "metadata": {},
   "outputs": [
    {
     "data": {
      "text/plain": [
       "<matplotlib.collections.PolyCollection at 0x7fbbe5ec1c70>"
      ]
     },
     "metadata": {},
     "output_type": "display_data"
    },
    {
     "data": {
      "image/png": "[encoded data removed]",
      "text/plain": [
       "<Figure size 432x288 with 1 Axes>"
      ]
     },
     "metadata": {},
     "output_type": "display_data"
    }
   ],
   "source": [
    "plt.plot(ytime, imeanpredict)\n",
    "plt.plot(ytime, yvel[0])\n",
    "plt.fill_between(ytime.flatten(), imeanpredictns2.flatten() - 2 * isigma_n,  \n",
    "                  imeanpredictps2.flatten() + 2 * isigma_n, alpha = 0.5)"
   ]
  },
  {
   "cell_type": "code",
   "execution_count": null,
   "metadata": {},
   "outputs": [
    {
     "data": {
      "text/plain": [
       "<matplotlib.collections.PolyCollection at 0x7fbbe5eacd30>"
      ]
     },
     "metadata": {},
     "output_type": "display_data"
    },
    {
     "data": {
      "image/png": "[encoded data removed]",
      "text/plain": [
       "<Figure size 432x288 with 1 Axes>"
      ]
     },
     "metadata": {},
     "output_type": "display_data"
    }
   ],
   "source": [
    "plt.plot(ytime, fmeanpredict)\n",
    "plt.plot(ytime, yvel[1])\n",
    "plt.fill_between(ytime.flatten(), fmeanpredictns2.flatten() - 2 * fsigma_n,  \n",
    "                  fmeanpredictps2.flatten() + 2 * fsigma_n, alpha = 0.5)"
   ]
  },
  {
   "cell_type": "code",
   "execution_count": null,
   "metadata": {},
   "outputs": [
    {
     "data": {
      "text/plain": [
       "<matplotlib.collections.PolyCollection at 0x7fbbe5f5f190>"
      ]
     },
     "metadata": {},
     "output_type": "display_data"
    },
    {
     "data": {
      "image/png": "[encoded data removed]",
      "text/plain": [
       "<Figure size 432x288 with 1 Axes>"
      ]
     },
     "metadata": {},
     "output_type": "display_data"
    }
   ],
   "source": [
    "ytesttru = yvel[:3000]\n",
    "ytimetru = ytime[:3000]\n",
    "fmeanpredicttru = fmeanpredict[:3000]\n",
    "fmeanpredictns2tru = fmeanpredictns2[:3000]\n",
    "fmeanpredictps2tru = fmeanpredictps2[:3000]\n",
    "plt.plot(ytimetru, fmeanpredicttru)\n",
    "plt.plot(ytimetru, ytesttru[0])\n",
    "plt.fill_between(ytimetru.flatten(), fmeanpredictns2tru.flatten() - 2 * fsigma_n,  \n",
    "                  fmeanpredictps2tru.flatten() + 2 * fsigma_n, alpha = 0.5)"
   ]
  }
 ],
 "metadata": {
  "interpreter": {
   "hash": "732f194484e0284080b04ff83f236bb381f8bb18faa7a6782cdb6b2333c8b4db"
  },
  "kernelspec": {
   "display_name": "Python 3.8.10 ('.venv': venv)",
   "language": "python",
   "name": "python3"
  },
  "language_info": {
   "codemirror_mode": {
    "name": "ipython",
    "version": 3
   },
   "file_extension": ".py",
   "mimetype": "text/x-python",
   "name": "python",
   "nbconvert_exporter": "python",
   "pygments_lexer": "ipython3",
   "version": "3.8.10"
  },
  "orig_nbformat": 4
 },
 "nbformat": 4,
 "nbformat_minor": 2
}
