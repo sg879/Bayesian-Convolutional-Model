{
 "cells": [
  {
   "cell_type": "markdown",
   "metadata": {},
   "source": [
    "# Importing Packages"
   ]
  },
  {
   "cell_type": "code",
   "execution_count": null,
   "metadata": {
    "executionInfo": {
     "elapsed": 1294,
     "status": "ok",
     "timestamp": 1646766605696,
     "user": {
      "displayName": "Simon Gomez-Cullen",
      "photoUrl": "https://lh3.googleusercontent.com/a/default-user=s64",
      "userId": "13652272254121268238"
     },
     "user_tz": 0
    },
    "id": "I2mF29avQ9MM"
   },
   "outputs": [],
   "source": [
    "import matplotlib as mpl\n",
    "import matplotlib.pyplot as plt\n",
    "%matplotlib inline\n",
    "\n",
    "import numpy as np\n",
    "import pandas as pd\n",
    "import scipy as sc\n",
    "import scipy.io as io\n",
    "from functools import partial\n",
    "\n",
    "import jax.numpy as jnp\n",
    "import jax.scipy as jsc\n",
    "from jax import grad, jit, vmap, pmap, random, lax, value_and_grad, tree_map, devices\n",
    "import jax.example_libraries.optimizers as jeo\n",
    "\n",
    "from tqdm import trange\n",
    "import pickle"
   ]
  },
  {
   "cell_type": "code",
   "execution_count": null,
   "metadata": {
    "executionInfo": {
     "elapsed": 2,
     "status": "ok",
     "timestamp": 1646766605696,
     "user": {
      "displayName": "Simon Gomez-Cullen",
      "photoUrl": "https://lh3.googleusercontent.com/a/default-user=s64",
      "userId": "13652272254121268238"
     },
     "user_tz": 0
    },
    "id": "-RF6Rxy-tE-A"
   },
   "outputs": [],
   "source": [
    "from jax.config import config\n",
    "config.update(\"jax_enable_x64\", True)\n",
    "config.update(\"jax_debug_nans\", True)"
   ]
  },
  {
   "cell_type": "code",
   "execution_count": null,
   "metadata": {},
   "outputs": [],
   "source": [
    "num_mach = 10\n",
    "attemptno = 1"
   ]
  },
  {
   "cell_type": "markdown",
   "metadata": {},
   "source": [
    "# Prior Functions"
   ]
  },
  {
   "cell_type": "code",
   "execution_count": null,
   "metadata": {},
   "outputs": [],
   "source": [
    "@jit\n",
    "def AlpEnvelope(Xarr, TRise, TauDiff, Lag):\n",
    "  TRise = TRise ** 2.0\n",
    "  TDecay = TRise + TauDiff ** 2 + 1e-8\n",
    "  TMax = (jnp.log(TRise / TDecay) * TDecay * TRise) / (TRise - TDecay)\n",
    "  Max =  jnp.exp(- TMax / TDecay) - jnp.exp(- TMax / TRise)\n",
    "  Delayed = Xarr - Lag\n",
    "  NewTime = jnp.where(Delayed < 0.0, 1000, Delayed)\n",
    "  return (jnp.exp(- NewTime / TDecay) - jnp.exp(- NewTime / TRise)) / Max"
   ]
  },
  {
   "cell_type": "code",
   "execution_count": null,
   "metadata": {
    "executionInfo": {
     "elapsed": 2,
     "status": "ok",
     "timestamp": 1646766605696,
     "user": {
      "displayName": "Simon Gomez-Cullen",
      "photoUrl": "https://lh3.googleusercontent.com/a/default-user=s64",
      "userId": "13652272254121268238"
     },
     "user_tz": 0
    },
    "id": "fApWN_Djp0Eq"
   },
   "outputs": [],
   "source": [
    "@jit\n",
    "def Squared_exp(I, J, Sigma_f, Ell):\n",
    "  return Sigma_f**2.0*jnp.exp(-(I-J)**2/(2.0*Ell**2))"
   ]
  },
  {
   "cell_type": "markdown",
   "metadata": {
    "id": "FeX7Rr4Rnwnc"
   },
   "source": [
    "# Obtaining Training Data"
   ]
  },
  {
   "cell_type": "markdown",
   "metadata": {},
   "source": [
    "## Importing Spike Trains and Finger Movement"
   ]
  },
  {
   "cell_type": "code",
   "execution_count": null,
   "metadata": {},
   "outputs": [],
   "source": [
    "alldata = pd.read_hdf('./Data/Allfinger_veldata.h5') # Import DataFrame"
   ]
  },
  {
   "cell_type": "code",
   "execution_count": null,
   "metadata": {},
   "outputs": [],
   "source": [
    "alldata.xs(0)"
   ]
  },
  {
   "cell_type": "code",
   "execution_count": null,
   "metadata": {},
   "outputs": [],
   "source": [
    "trainind = (0, 1, 2)"
   ]
  },
  {
   "cell_type": "code",
   "execution_count": null,
   "metadata": {},
   "outputs": [],
   "source": [
    "alldata.loc[0].to_numpy().shape"
   ]
  },
  {
   "cell_type": "code",
   "execution_count": null,
   "metadata": {},
   "outputs": [],
   "source": [
    "data = [alldata.loc[i] for i in trainind]"
   ]
  },
  {
   "cell_type": "code",
   "execution_count": null,
   "metadata": {},
   "outputs": [],
   "source": [
    "data[2]"
   ]
  },
  {
   "cell_type": "code",
   "execution_count": null,
   "metadata": {},
   "outputs": [],
   "source": [
    "datlen = [len(i.index) for i in data]\n",
    "print(min(datlen))"
   ]
  },
  {
   "cell_type": "code",
   "execution_count": null,
   "metadata": {},
   "outputs": [],
   "source": [
    "# Set number of time bins (k) and number of filters to use, num_tbin cannot exceed the minimum length in the training set!\n",
    "num_tbin = 159913\n",
    "n = num_tbin - 1\n",
    "num_filt = 130\n",
    "batch_size = num_filt // num_mach\n",
    "num_filt = num_mach * batch_size\n",
    "print(num_filt)"
   ]
  },
  {
   "cell_type": "code",
   "execution_count": null,
   "metadata": {},
   "outputs": [],
   "source": [
    "# All to correspond to dims (nummach, numsam, numfilt, k + 1, 1)"
   ]
  },
  {
   "cell_type": "code",
   "execution_count": null,
   "metadata": {},
   "outputs": [],
   "source": [
    "spikedat = [data[i].spikes.to_numpy()[:num_tbin, :num_filt].T[:, :, None] for i in trainind]"
   ]
  },
  {
   "cell_type": "code",
   "execution_count": null,
   "metadata": {},
   "outputs": [],
   "source": [
    "print(spikedat[2].shape)"
   ]
  },
  {
   "cell_type": "code",
   "execution_count": null,
   "metadata": {},
   "outputs": [],
   "source": [
    "ytime = [(data[i].index / np.timedelta64(1, 's')).to_numpy()[:num_tbin] for i in trainind] # Get spikes/output time array"
   ]
  },
  {
   "cell_type": "code",
   "execution_count": null,
   "metadata": {},
   "outputs": [],
   "source": [
    "# Get x velocities\n",
    "xraw = [data[i].finger_vel.x.to_numpy()[:num_tbin].reshape(n + 1, 1) for i in trainind]"
   ]
  },
  {
   "cell_type": "code",
   "execution_count": null,
   "metadata": {},
   "outputs": [],
   "source": [
    "xraw[0].shape"
   ]
  },
  {
   "cell_type": "markdown",
   "metadata": {},
   "source": [
    "## Standardising Data"
   ]
  },
  {
   "cell_type": "code",
   "execution_count": null,
   "metadata": {},
   "outputs": [],
   "source": [
    "# Set variance to 1.0\n",
    "xvel = [xraw[i] / np.std(xraw[i]) for i in trainind]"
   ]
  },
  {
   "cell_type": "code",
   "execution_count": null,
   "metadata": {},
   "outputs": [],
   "source": [
    "del data # Clear data from memory\n",
    "del alldata"
   ]
  },
  {
   "cell_type": "code",
   "execution_count": null,
   "metadata": {},
   "outputs": [],
   "source": [
    "for i in trainind:\n",
    "  plt.plot(ytime[i], xvel[i])"
   ]
  },
  {
   "cell_type": "markdown",
   "metadata": {},
   "source": [
    "## Setting up Filter Sizes"
   ]
  },
  {
   "cell_type": "code",
   "execution_count": null,
   "metadata": {},
   "outputs": [],
   "source": [
    "# Time bin size\n",
    "time_bin = ytime[0][1] - ytime[0][0]\n",
    "print(time_bin)\n",
    "\n",
    "f_maxt = 1.0 # Filter horizon\n",
    "\n",
    "k = np.floor(f_maxt/time_bin).astype(np.int16) # Maximum index of filter data\n",
    "\n",
    "ftime = np.linspace(0.0, f_maxt, k + 1).reshape((k + 1, 1)) # Filter corresponding time array"
   ]
  },
  {
   "cell_type": "markdown",
   "metadata": {},
   "source": [
    "## Getting FFT of Spike Data"
   ]
  },
  {
   "cell_type": "code",
   "execution_count": null,
   "metadata": {},
   "outputs": [],
   "source": [
    "# FFT of spike train\n",
    "spikepad = [np.hstack((spikedat[i], np.zeros((num_filt, k, 1)))) for i in trainind]\n",
    "spikefft = [np.fft.rfft(spikepad[i], axis=1) for i in trainind]\n",
    "fftlen = [np.shape(spikefft[i])[1] for i in trainind]\n",
    "spikefft = [spikefft[i].reshape(num_mach, batch_size, fftlen[i], 1) for i in trainind]\n",
    "spikefft = [[spikefft[j][i] for j in range(len(trainind))] for i in range(num_mach)]\n",
    "spikefft = jnp.asarray(spikefft)\n",
    "xvel = jnp.asarray(xvel)"
   ]
  },
  {
   "cell_type": "code",
   "execution_count": null,
   "metadata": {},
   "outputs": [],
   "source": [
    "print(spikefft.shape)\n",
    "print(xvel.shape)"
   ]
  },
  {
   "cell_type": "markdown",
   "metadata": {},
   "source": [
    "# ELBO "
   ]
  },
  {
   "cell_type": "code",
   "execution_count": null,
   "metadata": {},
   "outputs": [],
   "source": [
    "Diag = vmap(jnp.diag)"
   ]
  },
  {
   "cell_type": "code",
   "execution_count": null,
   "metadata": {},
   "outputs": [],
   "source": [
    "@jit\n",
    "def Solver(Kmm, Diff):\n",
    "  return jsc.linalg.solve(Kmm, Diff, sym_pos=True, check_finite=True)"
   ]
  },
  {
   "cell_type": "code",
   "execution_count": null,
   "metadata": {},
   "outputs": [],
   "source": [
    "V_Solver = vmap(Solver, in_axes = [None, 0])"
   ]
  },
  {
   "cell_type": "code",
   "execution_count": null,
   "metadata": {},
   "outputs": [],
   "source": [
    "@jit\n",
    "def Likelihoods(Predictions, Velocity, Sigma_n, N):\n",
    "  return - 0.5 * ((N + 1) * jnp.log(2 * jnp.pi * Sigma_n ** 2) + \\\n",
    "                    jnp.sum((Velocity - Predictions)**2, axis = -2)/(Sigma_n ** 2))"
   ]
  },
  {
   "cell_type": "code",
   "execution_count": null,
   "metadata": {},
   "outputs": [],
   "source": [
    "Likely = vmap(Likelihoods, in_axes=(0, 0, None, None,))"
   ]
  },
  {
   "cell_type": "code",
   "execution_count": null,
   "metadata": {},
   "outputs": [],
   "source": [
    "@partial(jit, static_argnums = (2, 3,))\n",
    "def Irfft(Fft, Array, K, N):\n",
    "  return jnp.fft.irfft(Fft * Array, N + K + 1, axis = -2)[:, :, : N + 1].sum(axis = 1)"
   ]
  },
  {
   "cell_type": "code",
   "execution_count": null,
   "metadata": {},
   "outputs": [],
   "source": [
    "VIrfft = vmap(Irfft, in_axes=(None, 0, None, None,))"
   ]
  },
  {
   "cell_type": "code",
   "execution_count": null,
   "metadata": {},
   "outputs": [],
   "source": [
    "@partial(jit, static_argnums = range(10, 17))\n",
    "def Neg_ELBO(Sigma_f, Ell, Sigma_n, Z_Fractions, V_Vector, L_Diag, L_ODiag, TRise,\n",
    "              TauDiff, Lag, Number_F, Num_Base, M, Num_Filt, Batch_Size, K, N,\n",
    "              Indices, Spike_Fft, Velocity, F_Time, Subkeys):\n",
    "\n",
    "  # Creating lag and z-vector         \n",
    "  Lag = Lag ** 2.0\n",
    "  \n",
    "  Z_Vector = (0.5 * jnp.sin( jnp.pi * (Z_Fractions - 0.5)) + 0.5) * (F_Time[-1, 0] - Lag) + Lag\n",
    "\n",
    "  # Creating the L-matrix\n",
    "  D = Diag(jnp.exp(L_Diag))\n",
    "\n",
    "  L_Matrix = D.at[:, Indices[0], Indices[1]].set(L_ODiag)\n",
    "\n",
    "  # KL term\n",
    "  KL = 0.5 * (- jnp.sum(jnp.log(jnp.diagonal(L_Matrix, axis1 = 1, axis2 = 2) ** 2)) + \\\n",
    "                jnp.sum(L_Matrix ** 2) + jnp.sum(V_Vector ** 2) - Batch_Size * M)\n",
    "\n",
    "  # Expectation term\n",
    "  Thetas = random.normal(Subkeys[0], (Number_F, Batch_Size, 1, Num_Base)) * (1.0 / Ell)\n",
    "\n",
    "  Taus = random.uniform(Subkeys[1], (Number_F, Batch_Size, 1, Num_Base)) * 2.0 * jnp.pi\n",
    "\n",
    "  Omegas = random.normal(Subkeys[2], (Number_F, Batch_Size, Num_Base, 1))\n",
    "\n",
    "  Constant = (Sigma_f * jnp.sqrt(2.0 / Num_Base))\n",
    "\n",
    "  ZT = Z_Vector.transpose(0, 2, 1)\n",
    " \n",
    "  Phi1 = Constant * jnp.cos(F_Time * Thetas + Taus)\n",
    "  Phi2 = Constant * jnp.cos(Z_Vector * Thetas + Taus)\n",
    "\n",
    "  Kmm = Squared_exp(Z_Vector, ZT, Sigma_f, Ell)\n",
    "  Knm = Squared_exp(F_Time, ZT, Sigma_f, Ell)\n",
    "\n",
    "  C = jnp.linalg.cholesky(Kmm + jnp.eye(M) * 1e-6)\n",
    "\n",
    "  V_u = C @ L_Matrix @ L_Matrix.transpose(0, 2, 1) @ C.transpose(0, 2, 1)\n",
    "\n",
    "  Mu_u = C @ V_Vector\n",
    "\n",
    "  V_uChol = jnp.linalg.cholesky(V_u + 1e-6 * jnp.eye(M))\n",
    "\n",
    "  U_Samples = Mu_u + V_uChol @ random.normal(Subkeys[3], (Number_F, Batch_Size, M, 1))\n",
    "\n",
    "  Vu = V_Solver(Kmm + 1e-6 * jnp.eye(M), U_Samples - Phi2 @ Omegas)\n",
    "\n",
    "  F_Samples = (Phi1 @ Omegas + Knm @ Vu) * AlpEnvelope(F_Time, TRise, TauDiff, Lag)\n",
    "\n",
    "  F_Fft = jnp.fft.rfft(F_Samples, n = N + K + 1, axis = -2)\n",
    "\n",
    "  Filter_Out = VIrfft(F_Fft, Spike_Fft, K, N)\n",
    "\n",
    "  Filter = lax.psum(Filter_Out, axis_name=\"machs\")\n",
    "\n",
    "  Likelihood = Likely(Filter, Velocity, Sigma_n, N).sum(axis=0)\n",
    "\n",
    "  KL = lax.psum(KL, axis_name=\"machs\")\n",
    "  Exp = jnp.mean(Likelihood)\n",
    "                  \n",
    "  return (KL-Exp)/(Num_Filt * N + 1)"
   ]
  },
  {
   "cell_type": "code",
   "execution_count": null,
   "metadata": {},
   "outputs": [],
   "source": [
    "PNeg = pmap(Neg_ELBO, axis_name = \"machs\", in_axes=(0, 0, None, 0, 0, 0, 0, 0, 0, 0, None, None, None, None, None, None, None, None, 0, None, None, 0,),\n",
    "            static_broadcasted_argnums = range(10, 17))"
   ]
  },
  {
   "cell_type": "code",
   "execution_count": null,
   "metadata": {},
   "outputs": [],
   "source": [
    "Grad_Bound = value_and_grad(Neg_ELBO, argnums = range(10))"
   ]
  },
  {
   "cell_type": "markdown",
   "metadata": {},
   "source": [
    "# Training the Model"
   ]
  },
  {
   "cell_type": "code",
   "execution_count": null,
   "metadata": {
    "executionInfo": {
     "elapsed": 6,
     "status": "ok",
     "timestamp": 1646766634668,
     "user": {
      "displayName": "Simon Gomez-Cullen",
      "photoUrl": "https://lh3.googleusercontent.com/a/default-user=s64",
      "userId": "13652272254121268238"
     },
     "user_tz": 0
    },
    "id": "HSufsznIhJ4G"
   },
   "outputs": [],
   "source": [
    "@jit\n",
    "def MCalc(Grad, M, B1 = 0.9):\n",
    "  return (1 - B1) * Grad + B1 * M"
   ]
  },
  {
   "cell_type": "code",
   "execution_count": null,
   "metadata": {
    "executionInfo": {
     "elapsed": 6,
     "status": "ok",
     "timestamp": 1646766634668,
     "user": {
      "displayName": "Simon Gomez-Cullen",
      "photoUrl": "https://lh3.googleusercontent.com/a/default-user=s64",
      "userId": "13652272254121268238"
     },
     "user_tz": 0
    },
    "id": "J7jHt1Kuh3nh"
   },
   "outputs": [],
   "source": [
    "@jit\n",
    "def MBias(M, Step, B1 = 0.9):\n",
    "  return M / (1 - B1 ** (Step + 1))"
   ]
  },
  {
   "cell_type": "code",
   "execution_count": null,
   "metadata": {
    "executionInfo": {
     "elapsed": 6,
     "status": "ok",
     "timestamp": 1646766634668,
     "user": {
      "displayName": "Simon Gomez-Cullen",
      "photoUrl": "https://lh3.googleusercontent.com/a/default-user=s64",
      "userId": "13652272254121268238"
     },
     "user_tz": 0
    },
    "id": "eyxhBriJhk3O"
   },
   "outputs": [],
   "source": [
    "@jit\n",
    "def VCalc(Grad, V, B2 = 0.99):\n",
    "  return (1 - B2) * jnp.square(Grad) + B2 * V"
   ]
  },
  {
   "cell_type": "code",
   "execution_count": null,
   "metadata": {
    "executionInfo": {
     "elapsed": 5,
     "status": "ok",
     "timestamp": 1646766634668,
     "user": {
      "displayName": "Simon Gomez-Cullen",
      "photoUrl": "https://lh3.googleusercontent.com/a/default-user=s64",
      "userId": "13652272254121268238"
     },
     "user_tz": 0
    },
    "id": "DgBlxV4giAuT"
   },
   "outputs": [],
   "source": [
    "@jit\n",
    "def VBias(V, Step, B2 = 0.99):\n",
    "  return V / (1 - B2 ** (Step + 1))"
   ]
  },
  {
   "cell_type": "code",
   "execution_count": null,
   "metadata": {
    "executionInfo": {
     "elapsed": 6,
     "status": "ok",
     "timestamp": 1646766634669,
     "user": {
      "displayName": "Simon Gomez-Cullen",
      "photoUrl": "https://lh3.googleusercontent.com/a/default-user=s64",
      "userId": "13652272254121268238"
     },
     "user_tz": 0
    },
    "id": "5GuAsMo2kCfe"
   },
   "outputs": [],
   "source": [
    "@jit\n",
    "def CFinState(X, Mhat, Vhat, Step_Size = 1e-2, Eps = 1e-8):\n",
    "  return X - Step_Size * Mhat / (jnp.sqrt(Vhat) + Eps)"
   ]
  },
  {
   "cell_type": "code",
   "execution_count": null,
   "metadata": {},
   "outputs": [],
   "source": [
    "@jit\n",
    "def MFinState(X, Mhat, Vhat, Step_Size = 1e-3, Eps = 1e-8):\n",
    "  return X - Step_Size * Mhat / (jnp.sqrt(Vhat) + Eps)"
   ]
  },
  {
   "cell_type": "code",
   "execution_count": null,
   "metadata": {},
   "outputs": [],
   "source": [
    "@jit\n",
    "def FFinState(X, Mhat, Vhat, Step_Size = 1e-4, Eps = 1e-8):\n",
    "  return X - Step_Size * Mhat / (jnp.sqrt(Vhat) + Eps)"
   ]
  },
  {
   "cell_type": "code",
   "execution_count": null,
   "metadata": {
    "executionInfo": {
     "elapsed": 6,
     "status": "ok",
     "timestamp": 1646766634669,
     "user": {
      "displayName": "Simon Gomez-Cullen",
      "photoUrl": "https://lh3.googleusercontent.com/a/default-user=s64",
      "userId": "13652272254121268238"
     },
     "user_tz": 0
    },
    "id": "53tnnK-EvSk2"
   },
   "outputs": [],
   "source": [
    "@jit\n",
    "def CAdam(Step, X, Grad, M, V):\n",
    "\n",
    "  M = tree_map(MCalc, Grad, M) # First  moment estimate.\n",
    "  V = tree_map(VCalc, Grad, V)  # Second moment estimate.\n",
    "  Step = tuple(Step * jnp.ones(10))\n",
    "  Mhat = tree_map(MBias, M, Step) # Bias correction.\n",
    "  Vhat = tree_map(VBias, V, Step) # Bias correction.\n",
    "\n",
    "  X = tree_map(CFinState, X, Mhat, Vhat)\n",
    "\n",
    "  return X, M, V"
   ]
  },
  {
   "cell_type": "code",
   "execution_count": null,
   "metadata": {},
   "outputs": [],
   "source": [
    "@jit\n",
    "def MAdam(Step, X, Grad, M, V):\n",
    "\n",
    "  M = tree_map(MCalc, Grad, M) # First  moment estimate.\n",
    "  V = tree_map(VCalc, Grad, V)  # Second moment estimate.\n",
    "  Step = tuple(Step * jnp.ones(10))\n",
    "  Mhat = tree_map(MBias, M, Step) # Bias correction.\n",
    "  Vhat = tree_map(VBias, V, Step) # Bias correction.\n",
    "\n",
    "  X = tree_map(MFinState, X, Mhat, Vhat)\n",
    "\n",
    "  return X, M, V"
   ]
  },
  {
   "cell_type": "code",
   "execution_count": null,
   "metadata": {},
   "outputs": [],
   "source": [
    "@jit\n",
    "def FAdam(Step, X, Grad, M, V):\n",
    "\n",
    "  M = tree_map(MCalc, Grad, M) # First  moment estimate.\n",
    "  V = tree_map(VCalc, Grad, V)  # Second moment estimate.\n",
    "  Step = tuple(Step * jnp.ones(10))\n",
    "  Mhat = tree_map(MBias, M, Step) # Bias correction.\n",
    "  Vhat = tree_map(VBias, V, Step) # Bias correction.\n",
    "\n",
    "  X = tree_map(FFinState, X, Mhat, Vhat)\n",
    "\n",
    "  return X, M, V"
   ]
  },
  {
   "cell_type": "code",
   "execution_count": null,
   "metadata": {
    "executionInfo": {
     "elapsed": 277,
     "status": "ok",
     "timestamp": 1646766634940,
     "user": {
      "displayName": "Simon Gomez-Cullen",
      "photoUrl": "https://lh3.googleusercontent.com/a/default-user=s64",
      "userId": "13652272254121268238"
     },
     "user_tz": 0
    },
    "id": "DJlnRpN8lC2n"
   },
   "outputs": [],
   "source": [
    "@partial(pmap, axis_name = \"machs\", in_axes=(None, 0, 0, None, 0, 0, 0, 0, 0, 0, 0, None, \n",
    "                                    None, None, None, None, None, None, None,  \n",
    "                                    0, None, None, 0, 0, 0, 0,),\n",
    "                static_broadcasted_argnums = range(11, 18))\n",
    "\n",
    "def _CUpdate(Iter, Sigma_f, Ell, Sigma_n, Z_Fractions, V_Vector, L_Diag, L_ODiag, TRise,\n",
    "              TauDiff, Lag, Num_Coarse_Fs, Num_Base, M, Num_Filt, Batch_Size, K, N,\n",
    "              Indices, Spike_Fft, Velocity, F_Time, Subkeys, Key, Mad, Vad):\n",
    "  \n",
    "  Value, Grads = Grad_Bound(Sigma_f, Ell, Sigma_n, Z_Fractions, V_Vector, L_Diag, L_ODiag, TRise,\n",
    "              TauDiff, Lag, Num_Coarse_Fs, Num_Base, M, Num_Filt, Batch_Size, K, N,\n",
    "                  Indices, Spike_Fft, Velocity, F_Time, Subkeys)\n",
    "  \n",
    "  X, Mad, Vad = CAdam(Iter, (Sigma_f, Ell, Sigma_n, Z_Fractions, V_Vector, L_Diag, L_ODiag, TRise,\n",
    "              TauDiff, Lag), Grads, Mad, Vad)\n",
    "\n",
    "  Key, *Subkeys = random.split(Key, 5)\n",
    "  Subkeys = jnp.asarray(Subkeys).astype(jnp.uint32).reshape(4, 2)\n",
    "\n",
    "  return *X, Subkeys, Key, Mad, Vad, Value"
   ]
  },
  {
   "cell_type": "code",
   "execution_count": null,
   "metadata": {},
   "outputs": [],
   "source": [
    "@partial(pmap, axis_name = \"machs\", in_axes=(None, 0, 0, None, 0, 0, 0, 0, 0, 0, 0, None, \n",
    "                                    None, None, None, None, None, None, None, \n",
    "                                    0, None, None, 0, 0, 0, 0,),\n",
    "                static_broadcasted_argnums = range(11, 18))\n",
    "\n",
    "def _MUpdate(Iter, Sigma_f, Ell, Sigma_n, Z_Fractions, V_Vector, L_Diag, L_ODiag, TRise,\n",
    "              TauDiff, Lag, Num_Mid_Fs, Num_Base, M, Num_Filt, Batch_Size, K, N,\n",
    "              Indices, Spike_Fft, Velocity, F_Time, Subkeys, Key, Mad, Vad):\n",
    "  \n",
    "  Value, Grads = Grad_Bound(Sigma_f, Ell, Sigma_n, Z_Fractions, V_Vector, L_Diag, L_ODiag, TRise,\n",
    "              TauDiff, Lag, Num_Mid_Fs, Num_Base, M, Num_Filt, Batch_Size, K, N,\n",
    "                  Indices, Spike_Fft, Velocity, F_Time, Subkeys)\n",
    "  \n",
    "  X, Mad, Vad = MAdam(Iter, (Sigma_f, Ell, Sigma_n, Z_Fractions, V_Vector, L_Diag, L_ODiag, TRise,\n",
    "              TauDiff, Lag), Grads, Mad, Vad)\n",
    "\n",
    "  Key, *Subkeys = random.split(Key, 5)\n",
    "  Subkeys = jnp.asarray(Subkeys).astype(jnp.uint32).reshape(4, 2)\n",
    "\n",
    "  return *X, Subkeys, Key, Mad, Vad, Value"
   ]
  },
  {
   "cell_type": "code",
   "execution_count": null,
   "metadata": {},
   "outputs": [],
   "source": [
    "@partial(pmap, axis_name = \"machs\", in_axes=(None, 0, 0, None, 0, 0, 0, 0, 0, 0, 0, None, \n",
    "                                    None, None, None, None, None, None, None, \n",
    "                                    0, None, None, 0, 0, 0, 0,),\n",
    "                static_broadcasted_argnums = range(11, 18))\n",
    "\n",
    "def _FUpdate(Iter, Sigma_f, Ell, Sigma_n, Z_Fractions, V_Vector, L_Diag, L_ODiag, TRise,\n",
    "              TauDiff, Lag, Num_Fine_Fs, Num_Base, M, Num_Filt, Batch_Size, K, N,\n",
    "              Indices, Spike_Fft, Velocity, F_Time, Subkeys, Key, Mad, Vad):\n",
    "  \n",
    "  Value, Grads = Grad_Bound(Sigma_f, Ell, Sigma_n, Z_Fractions, V_Vector, L_Diag, L_ODiag, TRise,\n",
    "              TauDiff, Lag, Num_Fine_Fs, Num_Base, M, Num_Filt, Batch_Size, K, N,\n",
    "                  Indices, Spike_Fft, Velocity, F_Time, Subkeys)\n",
    "  \n",
    "  X, Mad, Vad = FAdam(Iter, (Sigma_f, Ell, Sigma_n, Z_Fractions, V_Vector, L_Diag, L_ODiag, TRise,\n",
    "              TauDiff, Lag), Grads, Mad, Vad)\n",
    "\n",
    "  Key, *Subkeys = random.split(Key, 5)\n",
    "  Subkeys = jnp.asarray(Subkeys).astype(jnp.uint32).reshape(4, 2)\n",
    "\n",
    "  return *X, Subkeys, Key, Mad, Vad, Value"
   ]
  },
  {
   "cell_type": "code",
   "execution_count": null,
   "metadata": {},
   "outputs": [],
   "source": [
    "@partial(pmap, in_axes = (0, 0, None, 0, 0, 0, 0, 0, 0, 0,))\n",
    "def Init_Adam(Sigma_f, Ell, Sigma_n, Z_Fractions, V_Vector, L_Diag, L_ODiag, TRise,\n",
    "              TauDiff, Lag):\n",
    "  X = (Sigma_f, Ell, Sigma_n, Z_Fractions, V_Vector, L_Diag, L_ODiag, TRise,\n",
    "              TauDiff, Lag)\n",
    "\n",
    "  Mad = tree_map(jnp.zeros_like, X)\n",
    "\n",
    "  return Mad, Mad\n",
    "  "
   ]
  },
  {
   "cell_type": "code",
   "execution_count": null,
   "metadata": {},
   "outputs": [],
   "source": [
    "@jit\n",
    "def Set(Matrix, Indices, NewVals):\n",
    "  return Matrix.at[:, Indices[0], Indices[1]].set(NewVals)"
   ]
  },
  {
   "cell_type": "code",
   "execution_count": null,
   "metadata": {},
   "outputs": [],
   "source": [
    "PDiag = pmap(Diag)"
   ]
  },
  {
   "cell_type": "code",
   "execution_count": null,
   "metadata": {},
   "outputs": [],
   "source": [
    "PSet = pmap(Set, in_axes=(0, None, 0,))"
   ]
  },
  {
   "cell_type": "code",
   "execution_count": null,
   "metadata": {},
   "outputs": [],
   "source": [
    "spikeffta = [np.asarray([spikefft[i][j] for i in range(num_mach)]) for j in range(3)]"
   ]
  },
  {
   "cell_type": "code",
   "execution_count": null,
   "metadata": {},
   "outputs": [],
   "source": [
    "spikefftf = [spikeffta[i].reshape(num_filt, fftlen[i], 1) for i in range(3)]"
   ]
  },
  {
   "cell_type": "code",
   "execution_count": null,
   "metadata": {},
   "outputs": [],
   "source": [
    "@jit\n",
    "def LowerSolv(MatA, MatB):\n",
    "  return jsc.linalg.solve_triangular(MatA, MatB, lower = True)"
   ]
  },
  {
   "cell_type": "code",
   "execution_count": null,
   "metadata": {},
   "outputs": [],
   "source": [
    "VLS = vmap(LowerSolv)"
   ]
  },
  {
   "cell_type": "code",
   "execution_count": null,
   "metadata": {},
   "outputs": [],
   "source": [
    "@partial(jit, static_argnums = (1, 2, 3,))\n",
    "def OUTconvolve(Filters, Num_Filt, K, N, Spike_FFT):\n",
    "  Pad = jnp.hstack((Filters, jnp.zeros((Num_Filt, N, 1))))\n",
    "  Pred_fft = jnp.fft.rfft(Pad, axis = -2)\n",
    "  Pred_sum = jnp.sum(Pred_fft * Spike_FFT, axis = 0)\n",
    "  Pred_fitfft = jnp.fft.irfft(Pred_sum, K + N + 1, axis = -2)[ : N + 1]\n",
    "  return Pred_fitfft"
   ]
  },
  {
   "cell_type": "markdown",
   "metadata": {},
   "source": [
    "# X Velocity"
   ]
  },
  {
   "cell_type": "code",
   "execution_count": null,
   "metadata": {},
   "outputs": [],
   "source": [
    "key = random.PRNGKey(4)\n",
    "\n",
    "# Initialising the parameters\n",
    "\n",
    "# Generative parameters\n",
    "isigma_f = 1.0 * jnp.ones((num_mach, batch_size, 1, 1))\n",
    "iell = 0.002 * jnp.ones ((num_mach, batch_size, 1, 1))\n",
    "isigma_n = 0.000000005\n",
    "itrise = np.sqrt(0.05) * jnp.ones((num_mach, batch_size, 1, 1))\n",
    "itaudiff = np.sqrt(0.01) * jnp.ones((num_mach, batch_size, 1, 1))\n",
    "ilag = np.sqrt(0.01) * jnp.ones((num_mach, batch_size, 1, 1))\n",
    "\n",
    "xsigma_f = isigma_f\n",
    "xell = iell\n",
    "xsigma_n = isigma_n\n",
    "xtrise = itrise\n",
    "xtaudiff = itaudiff\n",
    "xlag = ilag\n",
    "\n",
    "# Variational parameters\n",
    "num_f = 15\n",
    "num_b = 100\n",
    "num_ind = 20\n",
    "iz_final = jnp.tile(jnp.linspace(0.0, 1.0, num_ind).reshape((num_ind, 1)), (num_mach, batch_size, 1, 1))\n",
    "iz_fracs = (jnp.arcsin(2.0 * (iz_final - 0.5)) / jnp.pi) + 0.5\n",
    "key, *subkeys = random.split(key, 4)\n",
    "iv_vector = 0.01 * random.normal(subkeys[-3], (num_mach, batch_size, num_ind, 1))\n",
    "il_diag = 0.01 * random.normal(subkeys[-2], (num_mach, batch_size, num_ind))\n",
    "il_odiag = 0.1 * random.normal(subkeys[-1], (num_mach, batch_size, int((num_ind ** 2 - num_ind) / 2)))\n",
    "indices = jnp.asarray(jnp.tril_indices(num_ind, -1))\n",
    "\n",
    "xz_fracs = iz_fracs\n",
    "xv_vector = iv_vector\n",
    "xl_diag = il_diag\n",
    "xl_odiag = il_odiag\n",
    "\n",
    "# Random number generator\n",
    "iopt_key = np.asarray([random.PRNGKey(i) for i in range(num_mach)]).astype(np.uint32)\n",
    "itest = vmap(random.split, in_axes=(0, None))(iopt_key, 1 + 4 * num_mach)\n",
    "iopt_key = np.asarray([itest[i][0] for i in range(num_mach)]).astype(np.uint32)\n",
    "iopt_subkey = np.asarray([itest[i][1:] for i in range(num_mach)]).astype(np.uint32)\n",
    "\n",
    "opt_key = iopt_key\n",
    "opt_subkey = iopt_subkey\n",
    "print(opt_subkey.shape)"
   ]
  },
  {
   "cell_type": "code",
   "execution_count": null,
   "metadata": {},
   "outputs": [],
   "source": [
    "mad, vad = Init_Adam(isigma_f, iell, isigma_n, iz_fracs, iv_vector, il_diag,\n",
    "              il_odiag, itrise, itaudiff, ilag)"
   ]
  },
  {
   "cell_type": "code",
   "execution_count": null,
   "metadata": {},
   "outputs": [],
   "source": [
    "step = 0\n",
    "xelbo_history = np.zeros(20000)"
   ]
  },
  {
   "cell_type": "code",
   "execution_count": null,
   "metadata": {},
   "outputs": [],
   "source": [
    "coarse_steps = 1500\n",
    "mid_steps = 16500\n",
    "fine_steps = 2000"
   ]
  },
  {
   "cell_type": "code",
   "execution_count": null,
   "metadata": {},
   "outputs": [],
   "source": [
    "extra_coarse_steps = 0\n",
    "extra_mid_steps = 0\n",
    "extra_fine_steps = 0"
   ]
  },
  {
   "cell_type": "code",
   "execution_count": null,
   "metadata": {},
   "outputs": [],
   "source": [
    "xelbo_history = np.hstack((xelbo_history, np.zeros(sum([extra_coarse_steps, extra_mid_steps, extra_fine_steps]))))"
   ]
  },
  {
   "cell_type": "code",
   "execution_count": null,
   "metadata": {},
   "outputs": [],
   "source": [
    "step = 0\n",
    "for i in trange(coarse_steps):  \n",
    "  xsigma_f, xell, xsigma_n, xz_fracs, xv_vector, xl_diag, xl_odiag, xtrise, xtaudiff, xlag, st, kt, mad, vad, xvalue = _CUpdate(i, xsigma_f, xell, xsigma_n, xz_fracs, xv_vector, xl_diag, xl_odiag, xtrise, xtaudiff, xlag, num_f, num_b, num_ind, num_filt, batch_size, k, n, indices, spikefft, xvel, ftime, opt_subkey, opt_key, mad, vad)\n",
    "  xsigma_n = xsigma_n[0]\n",
    "  xelbo_history[step] = -xvalue[0]\n",
    "  step += 1"
   ]
  },
  {
   "cell_type": "code",
   "execution_count": null,
   "metadata": {},
   "outputs": [],
   "source": [
    "for i in trange(mid_steps): \n",
    "  xsigma_f, xell, xsigma_n, xz_fracs, xv_vector, xl_diag, xl_odiag, xtrise, xtaudiff, xlag, st, kt, mad, vad, xvalue = _MUpdate(i, xsigma_f, xell, xsigma_n, xz_fracs, xv_vector, xl_diag, xl_odiag, xtrise, xtaudiff, xlag, num_f, num_b, num_ind, num_filt, batch_size, k, n, indices, spikefft, xvel, ftime, opt_subkey, opt_key, mad, vad)\n",
    "  xsigma_n = xsigma_n[0]\n",
    "  xelbo_history[step] = -xvalue[0]\n",
    "  step += 1"
   ]
  },
  {
   "cell_type": "code",
   "execution_count": null,
   "metadata": {},
   "outputs": [],
   "source": [
    "for i in trange(fine_steps):  \n",
    "  xsigma_f, xell, xsigma_n, xz_fracs, xv_vector, xl_diag, xl_odiag, xtrise, xtaudiff, xlag, st, kt, mad, vad, xvalue = _FUpdate(i, xsigma_f, xell, xsigma_n, xz_fracs, xv_vector, xl_diag, xl_odiag, xtrise, xtaudiff, xlag, num_f, num_b, num_ind, num_filt, batch_size, k, n, indices, spikefft, xvel, ftime, opt_subkey, opt_key, mad, vad)\n",
    "  xsigma_n = xsigma_n[0]\n",
    "  xelbo_history[step] = -xvalue[0]\n",
    "  step += 1"
   ]
  },
  {
   "cell_type": "code",
   "execution_count": null,
   "metadata": {},
   "outputs": [],
   "source": [
    "plt.plot(xelbo_history[10000:])"
   ]
  },
  {
   "cell_type": "code",
   "execution_count": null,
   "metadata": {},
   "outputs": [],
   "source": [
    "print(PNeg(isigma_f, iell, isigma_n, iz_fracs, iv_vector, il_diag,\n",
    "                il_odiag, itrise, itaudiff, ilag, num_f, num_b,\n",
    "                num_ind, num_filt, batch_size, k, n, indices, spikefft, xvel, \n",
    "                ftime, iopt_subkey))"
   ]
  },
  {
   "cell_type": "code",
   "execution_count": null,
   "metadata": {},
   "outputs": [],
   "source": [
    "print(PNeg(xsigma_f, xell, xsigma_n, xz_fracs, xv_vector, xl_diag,\n",
    "                xl_odiag, xtrise, xtaudiff, xlag, num_f, num_b,\n",
    "                num_ind, num_filt, batch_size, k, n, indices, spikefft, xvel, \n",
    "                ftime, iopt_subkey))"
   ]
  },
  {
   "cell_type": "code",
   "execution_count": null,
   "metadata": {
    "executionInfo": {
     "elapsed": 7,
     "status": "ok",
     "timestamp": 1646766776379,
     "user": {
      "displayName": "Simon Gomez-Cullen",
      "photoUrl": "https://lh3.googleusercontent.com/a/default-user=s64",
      "userId": "13652272254121268238"
     },
     "user_tz": 0
    },
    "id": "LF-fsINZXfoK"
   },
   "outputs": [],
   "source": [
    "xfsigma_f, xfell, xfsigma_n, xfz_fracs, xfv_vector, xfl_diag, xfl_odiag, xftrise, xftaudiff, xflag = xsigma_f, xell, xsigma_n, xz_fracs, xv_vector, xl_diag, xl_odiag, xtrise, xtaudiff, xlag"
   ]
  },
  {
   "cell_type": "code",
   "execution_count": null,
   "metadata": {},
   "outputs": [],
   "source": [
    "xoutdict = {\"Parameters\": (xfsigma_f, xfell, xfsigma_n, xfz_fracs, xfv_vector, xfl_diag, xfl_odiag, xftrise, xftaudiff, xflag),\n",
    "          \"ELBO History\": xelbo_history,\n",
    "          \"Training Sets\": trainind,\n",
    "          \"Steps\":(coarse_steps, mid_steps, fine_steps, extra_coarse_steps, extra_mid_steps, extra_fine_steps),\n",
    "          \"Initial Parameters\": (isigma_f, iell, isigma_n, iz_fracs, iv_vector, il_diag, il_odiag, itrise, itaudiff, ilag),\n",
    "          \"Training Parameters\": (num_f, num_b, num_ind, num_filt),\n",
    "          \"mad\": mad,\n",
    "          \"vad\": vad,\n",
    "          \"Velocity Trained\": \"x\"}"
   ]
  },
  {
   "cell_type": "code",
   "execution_count": null,
   "metadata": {},
   "outputs": [],
   "source": [
    "with open('./Data/Hyperparameters/' + str(n) + '_' + str(attemptno) + 'xvel' + '.pkl', 'wb') as f:\n",
    "    pickle.dump(xoutdict, f)"
   ]
  },
  {
   "cell_type": "code",
   "execution_count": null,
   "metadata": {},
   "outputs": [],
   "source": [
    "ilag = ilag ** 2\n",
    "\n",
    "iz_vector = (0.5 * np.sin( np.pi * (iz_fracs - 0.5)) + 0.5) * (ftime[-1, 0] - ilag) + ilag\n",
    "\n",
    "idz = PDiag(np.exp(il_diag))\n",
    "print(il_diag.shape)\n",
    "print(idz.shape)\n",
    "il_matrix = PSet(idz, indices, il_odiag)\n",
    "\n",
    "\n",
    "xflag = xflag ** 2\n",
    "\n",
    "xfz_vector = (0.5 * np.sin( np.pi * (xfz_fracs - 0.5)) + 0.5) * (ftime[-1] - xflag) + xflag\n",
    "\n",
    "xfd = PDiag(np.exp(xfl_diag))\n",
    "xfl_matrix = PSet(xfd, indices, xfl_odiag)\n",
    "print(xfd.shape)\n",
    "print(xfl_matrix.shape)"
   ]
  },
  {
   "cell_type": "code",
   "execution_count": null,
   "metadata": {
    "colab": {
     "base_uri": "https://localhost:8080/"
    },
    "executionInfo": {
     "elapsed": 7,
     "status": "ok",
     "timestamp": 1646766776380,
     "user": {
      "displayName": "Simon Gomez-Cullen",
      "photoUrl": "https://lh3.googleusercontent.com/a/default-user=s64",
      "userId": "13652272254121268238"
     },
     "user_tz": 0
    },
    "id": "1GPauHWaa4u_",
    "outputId": "538efe20-48cb-435d-b7f4-2153fbe5ae3b"
   },
   "outputs": [],
   "source": [
    "isigma_ff = isigma_f.reshape(num_filt, 1)\n",
    "iellf = iell.reshape(num_filt, 1)\n",
    "iz_vectorf = iz_vector.reshape(num_filt, num_ind, 1)\n",
    "iv_vectorf = iv_vector.reshape(num_filt, num_ind, 1)\n",
    "il_matrixf = il_matrix.reshape(num_filt, num_ind, num_ind)\n",
    "itrisef = itrise.reshape(num_filt, 1)\n",
    "itaudifff = itaudiff.reshape(num_filt, 1)\n",
    "ilagf = ilag.reshape(num_filt, 1)\n",
    "\n",
    "xfsigma_ff = xfsigma_f.reshape(num_filt, 1)\n",
    "xfellf = xfell.reshape(num_filt, 1)\n",
    "xfz_vectorf = xfz_vector.reshape(num_filt, num_ind, 1)\n",
    "xfv_vectorf = xfv_vector.reshape(num_filt, num_ind, 1)\n",
    "xfl_matrixf = xfl_matrix.reshape(num_filt, num_ind, num_ind)\n",
    "xftrisef = xftrise.reshape(num_filt, 1)\n",
    "xftaudifff = xftaudiff.reshape(num_filt, 1)\n",
    "xflagf = xflag.reshape(num_filt, 1)"
   ]
  },
  {
   "cell_type": "code",
   "execution_count": null,
   "metadata": {},
   "outputs": [],
   "source": [
    "print(xfsigma_ff)"
   ]
  },
  {
   "cell_type": "code",
   "execution_count": null,
   "metadata": {
    "colab": {
     "base_uri": "https://localhost:8080/"
    },
    "executionInfo": {
     "elapsed": 6,
     "status": "ok",
     "timestamp": 1646766776380,
     "user": {
      "displayName": "Simon Gomez-Cullen",
      "photoUrl": "https://lh3.googleusercontent.com/a/default-user=s64",
      "userId": "13652272254121268238"
     },
     "user_tz": 0
    },
    "id": "mxaZOsQha6pw",
    "outputId": "9c265bd2-3017-41bc-ba9e-fdb11024573b"
   },
   "outputs": [],
   "source": [
    "print(xfellf)"
   ]
  },
  {
   "cell_type": "code",
   "execution_count": null,
   "metadata": {
    "colab": {
     "base_uri": "https://localhost:8080/"
    },
    "executionInfo": {
     "elapsed": 4,
     "status": "ok",
     "timestamp": 1646766776380,
     "user": {
      "displayName": "Simon Gomez-Cullen",
      "photoUrl": "https://lh3.googleusercontent.com/a/default-user=s64",
      "userId": "13652272254121268238"
     },
     "user_tz": 0
    },
    "id": "z9WJW3aQa9nt",
    "outputId": "92af4fb5-3e2d-4d07-8654-85cff07f301b"
   },
   "outputs": [],
   "source": [
    "print(xfsigma_n)"
   ]
  },
  {
   "cell_type": "code",
   "execution_count": null,
   "metadata": {},
   "outputs": [],
   "source": [
    "print(xftrisef)"
   ]
  },
  {
   "cell_type": "code",
   "execution_count": null,
   "metadata": {},
   "outputs": [],
   "source": [
    "print(xftaudifff)"
   ]
  },
  {
   "cell_type": "code",
   "execution_count": null,
   "metadata": {},
   "outputs": [],
   "source": [
    "print(xflagf)"
   ]
  },
  {
   "cell_type": "markdown",
   "metadata": {
    "id": "6IDmU9CbBKAT"
   },
   "source": [
    "## Variational Predictions"
   ]
  },
  {
   "cell_type": "code",
   "execution_count": null,
   "metadata": {},
   "outputs": [],
   "source": [
    "fpred_points = ftime.copy()"
   ]
  },
  {
   "cell_type": "code",
   "execution_count": null,
   "metadata": {},
   "outputs": [],
   "source": [
    "scisigmaf = isigma_ff[:, None]\n",
    "sciellf = iellf[:, None]\n",
    "scitrisef = itrisef[:, None]\n",
    "scitaudifff = itaudifff[:, None]\n",
    "scilagf = ilagf[:, None]\n",
    "\n",
    "ikmm = Squared_exp(iz_vectorf, iz_vectorf.transpose(0, 2, 1), scisigmaf, sciellf)\n",
    "icpred = np.linalg.cholesky(ikmm + 1e-6 * np.eye(num_ind))\n",
    "del ikmm\n",
    "ikzast = Squared_exp(iz_vectorf, fpred_points.T, scisigmaf, sciellf)\n",
    "# ibzast = np.zeros((num_filt, num_ind, k + 1))\n",
    "# for i in range(num_filt):\n",
    "#   ibzast[i] = sc.linalg.solve_triangular(icpred[i], ikzast[i], lower = True)\n",
    "ibzast = VLS(icpred, ikzast)\n",
    "del ikzast\n",
    "del icpred\n",
    "ibzastT = ibzast.transpose(0, 2, 1)\n",
    "ipredenv = AlpEnvelope(fpred_points, scitrisef, scitaudifff, scilagf)\n",
    "ipredenvT = ipredenv.transpose(0, 2, 1)\n",
    "imeanpred = ipredenv * (ibzastT @ iv_vectorf)\n",
    "ikastast = Squared_exp(fpred_points, fpred_points.T, scisigmaf, sciellf)\n",
    "icovpred = ipredenv * (ikastast + ibzastT @ (il_matrixf @ il_matrixf.transpose(0, 2, 1) - np.eye(num_ind)) @ ibzast) * ipredenvT"
   ]
  },
  {
   "cell_type": "code",
   "execution_count": null,
   "metadata": {
    "colab": {
     "base_uri": "https://localhost:8080/"
    },
    "executionInfo": {
     "elapsed": 376,
     "status": "ok",
     "timestamp": 1646766777705,
     "user": {
      "displayName": "Simon Gomez-Cullen",
      "photoUrl": "https://lh3.googleusercontent.com/a/default-user=s64",
      "userId": "13652272254121268238"
     },
     "user_tz": 0
    },
    "id": "Q-CB-IqaBR55",
    "outputId": "a31e8b74-af31-4de3-8d3a-cab034775837"
   },
   "outputs": [],
   "source": [
    "xscfsigmaf = xfsigma_ff[:, None]\n",
    "xscfellf = xfellf[:, None]\n",
    "xscftrisef = xftrisef[:, None]\n",
    "xscftaudifff = xftaudifff[:, None]\n",
    "xscflagf = xflagf[:, None]\n",
    "\n",
    "xfkmm = Squared_exp(xfz_vectorf, xfz_vectorf.transpose(0, 2, 1), xscfsigmaf, xscfellf)\n",
    "xfcpred = np.linalg.cholesky(xfkmm + 1e-6 * np.eye(num_ind))\n",
    "xfkzast = Squared_exp(xfz_vectorf, fpred_points.T, xscfsigmaf, xscfellf)\n",
    "xfbzast = np.zeros((num_filt, num_ind, k + 1))\n",
    "# for i in range(num_filt):\n",
    "#   xfbzast[i] = sc.linalg.solve_triangular(xfcpred[i], xfkzast[i], lower = True)\n",
    "xfbzast = VLS(xfcpred, xfkzast)\n",
    "xfbzastT = xfbzast.transpose(0, 2, 1)\n",
    "xfpredenv = AlpEnvelope(fpred_points, xscftrisef, xscftaudifff, xscflagf)\n",
    "xfpredenvT = xfpredenv.transpose(0, 2, 1)\n",
    "xfmeanpred = xfpredenv * (xfbzastT @ xfv_vectorf)\n",
    "\n",
    "xfkastast = Squared_exp(fpred_points, fpred_points.T, xscfsigmaf, xscfellf)\n",
    "xfcovpred = xfpredenv * (xfkastast + xfbzastT @ (xfl_matrixf @ xfl_matrixf.transpose(0, 2, 1) - np.eye(num_ind)) @ xfbzast) * xfpredenvT"
   ]
  },
  {
   "cell_type": "code",
   "execution_count": null,
   "metadata": {},
   "outputs": [],
   "source": [
    "print(imeanpred.shape)"
   ]
  },
  {
   "cell_type": "code",
   "execution_count": null,
   "metadata": {},
   "outputs": [],
   "source": [
    "ipredindenv = AlpEnvelope(iz_vectorf, scitrisef, scitaudifff, scilagf)\n",
    "index = 2\n",
    "plt.plot(fpred_points, imeanpred[index])\n",
    "is2 = np.sqrt(np.diag(icovpred[index]))\n",
    "ifill = (imeanpred[index].flatten() - is2, imeanpred[index].flatten() + is2)\n",
    "plt.fill_between(fpred_points.flatten(), *ifill, alpha = 0.1)\n",
    "plt.scatter(iz_vectorf[index], (ipredindenv * (icpred @ iv_vectorf))[index], s = 100, marker = '+', c='k', alpha = 0.6)\n",
    "#plt.xlim([ftime[0], ftime[-1]])"
   ]
  },
  {
   "cell_type": "code",
   "execution_count": null,
   "metadata": {},
   "outputs": [],
   "source": [
    "xpredindenv = AlpEnvelope(xfz_vectorf, xscftrisef, xscftaudifff, xscflagf)\n",
    "\n",
    "plt.plot(fpred_points, xfmeanpred[index])\n",
    "xs2 = np.sqrt(np.diag(xfcovpred[index]))\n",
    "fill = (xfmeanpred[index].flatten() - xs2, xfmeanpred[index].flatten() + xs2)\n",
    "plt.fill_between(fpred_points.flatten(), *fill, alpha = 0.1)\n",
    "plt.scatter(xfz_vectorf[index], (xpredindenv * (xfcpred @ xfv_vectorf))[index], s = 100, marker = '+', c='k', alpha = 0.6)\n",
    "#plt.xlim([ftime[0], ftime[-1]])"
   ]
  },
  {
   "cell_type": "code",
   "execution_count": null,
   "metadata": {},
   "outputs": [],
   "source": [
    "xenvelopes = AlpEnvelope(ftime, xscftrisef, xscftaudifff, xscflagf)\n",
    "for i in xenvelopes:\n",
    "  plt.plot(ftime, i)"
   ]
  },
  {
   "cell_type": "code",
   "execution_count": null,
   "metadata": {},
   "outputs": [],
   "source": [
    "for index in range(num_filt):\n",
    "  plt.plot(fpred_points, xfmeanpred[index])\n",
    "  xs2 = np.sqrt(np.diag(xfcovpred[index]))\n",
    "  xfill = (xfmeanpred[index].flatten() - xs2, xfmeanpred[index].flatten() + xs2)\n",
    "  plt.fill_between(fpred_points.flatten(), *xfill, alpha = 0.1)\n",
    "  plt.scatter(xfz_vectorf[index], (xpredindenv * (xfcpred @ xfv_vectorf))[index], s = 100, marker = '+', c='k', alpha = 0.6)\n",
    "  #plt.xlim([ftime[0], ftime[-1]])"
   ]
  },
  {
   "cell_type": "code",
   "execution_count": null,
   "metadata": {},
   "outputs": [],
   "source": [
    "@partial(jit, static_argnums = (1, 2,))\n",
    "def OUTconvolve(Filters, K, N, Spike_FFT):\n",
    "  Pad = np.hstack((Filters, np.zeros((num_filt, N, 1))))\n",
    "  Pred_fft = np.fft.rfft(Pad, axis = -2)\n",
    "  Pred_sum = np.sum(Pred_fft * Spike_FFT, axis = 0)\n",
    "  Pred_fitfft = np.fft.irfft(Pred_sum, K + N + 1, axis = -2)[ : N + 1]\n",
    "  return Pred_fitfft"
   ]
  },
  {
   "cell_type": "code",
   "execution_count": null,
   "metadata": {},
   "outputs": [],
   "source": [
    "is2 = np.sqrt(np.diagonal(icovpred, axis1=1, axis2=2)).reshape((num_filt, k + 1, 1))\n",
    "\n",
    "imeanpredict = OUTconvolve(imeanpred, k, n, spikefftf[0])\n",
    "imeanpredictns2 = OUTconvolve(imeanpred - 2 * is2, k, n, spikefftf[0])\n",
    "imeanpredictps2 = OUTconvolve(imeanpred + 2 * is2, k, n, spikefftf[0])"
   ]
  },
  {
   "cell_type": "code",
   "execution_count": null,
   "metadata": {},
   "outputs": [],
   "source": [
    "xfs2 = np.sqrt(np.diagonal(xfcovpred, axis1=1, axis2=2)).reshape((num_filt, k + 1, 1))\n",
    "\n",
    "xfmeanpredict = OUTconvolve(xfmeanpred, k, n, spikefftf[2])\n",
    "print(xfmeanpredict.shape)\n",
    "xfmeanpredictns2 = OUTconvolve(xfmeanpred - 2 * xfs2, k, n, spikefftf[2])\n",
    "xfmeanpredictps2 = OUTconvolve(xfmeanpred + 2 * xfs2, k, n, spikefftf[2])"
   ]
  },
  {
   "cell_type": "code",
   "execution_count": null,
   "metadata": {},
   "outputs": [],
   "source": [
    "plt.plot(ytime[0], imeanpredict)\n",
    "plt.plot(ytime[0], xvel[0])\n",
    "plt.fill_between(ytime[0].flatten(), imeanpredictns2.flatten() - 2 * isigma_n,  \n",
    "                  imeanpredictps2.flatten() + 2 * isigma_n, alpha = 0.5)"
   ]
  },
  {
   "cell_type": "code",
   "execution_count": null,
   "metadata": {},
   "outputs": [],
   "source": [
    "plt.plot(ytime[2], xfmeanpredict)\n",
    "plt.plot(ytime[2], xvel[2])\n",
    "plt.fill_between(ytime[2].flatten(), xfmeanpredictns2.flatten() - 2 * xfsigma_n,  \n",
    "                  xfmeanpredictps2.flatten() + 2 * xfsigma_n, alpha = 0.5)"
   ]
  },
  {
   "cell_type": "code",
   "execution_count": null,
   "metadata": {},
   "outputs": [],
   "source": [
    "xytesttru = xvel[:, :3000]\n",
    "xytimetru = ytime[0][:3000]\n",
    "xfmeanpredicttru = xfmeanpredict[:3000]\n",
    "xfmeanpredictns2tru = xfmeanpredictns2[:3000]\n",
    "xfmeanpredictps2tru = xfmeanpredictps2[:3000]\n",
    "plt.plot(xytimetru, xfmeanpredicttru)\n",
    "plt.plot(xytimetru, xytesttru[0])\n",
    "plt.fill_between(xytimetru.flatten(), xfmeanpredictns2tru.flatten() - 2 * xfsigma_n,  \n",
    "                  xfmeanpredictps2tru.flatten() + 2 * xfsigma_n, alpha = 0.5)"
   ]
  },
  {
   "cell_type": "markdown",
   "metadata": {},
   "source": [
    "# On Test Data"
   ]
  },
  {
   "cell_type": "code",
   "execution_count": null,
   "metadata": {},
   "outputs": [],
   "source": [
    "alldata = pd.read_hdf('./Data/Allfinger_veldata.h5') # Import DataFrame"
   ]
  },
  {
   "cell_type": "code",
   "execution_count": null,
   "metadata": {},
   "outputs": [],
   "source": [
    "testind = (3,)"
   ]
  },
  {
   "cell_type": "code",
   "execution_count": null,
   "metadata": {},
   "outputs": [],
   "source": [
    "testdat = [alldata.loc[i] for i in testind]"
   ]
  },
  {
   "cell_type": "code",
   "execution_count": null,
   "metadata": {},
   "outputs": [],
   "source": [
    "testdat[0]"
   ]
  },
  {
   "cell_type": "code",
   "execution_count": null,
   "metadata": {},
   "outputs": [],
   "source": [
    "num_tes = 161393\n",
    "tes_filt = 130\n",
    "ntest = num_tes - 1"
   ]
  },
  {
   "cell_type": "code",
   "execution_count": null,
   "metadata": {},
   "outputs": [],
   "source": [
    "testspike = [testdat[i].spikes.to_numpy()[:num_tes, :tes_filt].T[:, :, None] for i in range(len(testind))]"
   ]
  },
  {
   "cell_type": "code",
   "execution_count": null,
   "metadata": {},
   "outputs": [],
   "source": [
    "testpad = [jnp.hstack((i, jnp.zeros((num_filt, k, 1)))) for i in testspike]\n",
    "print(testpad[0].shape)\n",
    "testspikefft = jnp.asarray([np.fft.rfft(i, axis = -2) for i in testpad])\n",
    "print(testspikefft[0].shape)"
   ]
  },
  {
   "cell_type": "code",
   "execution_count": null,
   "metadata": {},
   "outputs": [],
   "source": [
    "testtime = [(testdat[i].index / np.timedelta64(1, 's')).to_numpy()[:num_tes] for i in range(len(testind))] # Get spikes/output time array"
   ]
  },
  {
   "cell_type": "code",
   "execution_count": null,
   "metadata": {},
   "outputs": [],
   "source": [
    "# Get x velocities\n",
    "xrawtes = [testdat[i].finger_vel.x.to_numpy()[:num_tes].reshape(ntest + 1, 1) for i in range(len(testind))]"
   ]
  },
  {
   "cell_type": "markdown",
   "metadata": {},
   "source": [
    "## Standardising Data"
   ]
  },
  {
   "cell_type": "code",
   "execution_count": null,
   "metadata": {},
   "outputs": [],
   "source": [
    "# Set variance to 1.0\n",
    "xtest = np.asarray([xrawtes[i] / np.std(xrawtes[i]) for i in range(len(testind))])"
   ]
  },
  {
   "cell_type": "code",
   "execution_count": null,
   "metadata": {},
   "outputs": [],
   "source": [
    "del testdat # Clear data from memory\n",
    "del alldata"
   ]
  },
  {
   "cell_type": "code",
   "execution_count": null,
   "metadata": {},
   "outputs": [],
   "source": [
    "for i in range(len(testind)):\n",
    "  plt.plot(testtime[i], xtest[i])"
   ]
  },
  {
   "cell_type": "markdown",
   "metadata": {},
   "source": [
    "## Plotting vs Test"
   ]
  },
  {
   "cell_type": "code",
   "execution_count": null,
   "metadata": {},
   "outputs": [],
   "source": [
    "xtmeanpredict = OUTconvolve(xfmeanpred, tes_filt, k, ntest, testspikefft[0])\n",
    "xtmeanpredictns2 = OUTconvolve(xfmeanpred - 2 * xfs2, tes_filt, k, ntest, testspikefft[0])\n",
    "xtmeanpredictps2 = OUTconvolve(xfmeanpred + 2 * xfs2, tes_filt, k, ntest, testspikefft[0])"
   ]
  },
  {
   "cell_type": "code",
   "execution_count": null,
   "metadata": {},
   "outputs": [],
   "source": [
    "plt.plot(testtime[0], xtmeanpredict)\n",
    "plt.plot(testtime[0], xtest[0])\n",
    "plt.fill_between(testtime[0].flatten(), xtmeanpredictns2.flatten() - 2 * xfsigma_n,  \n",
    "                  xtmeanpredictps2.flatten() + 2 * xfsigma_n, alpha = 0.5)"
   ]
  },
  {
   "cell_type": "markdown",
   "metadata": {},
   "source": [
    "## R^2"
   ]
  },
  {
   "cell_type": "markdown",
   "metadata": {},
   "source": [
    "## X Velocity"
   ]
  },
  {
   "cell_type": "markdown",
   "metadata": {},
   "source": [
    "### Test Data"
   ]
  },
  {
   "cell_type": "code",
   "execution_count": null,
   "metadata": {},
   "outputs": [],
   "source": [
    "alltestpredict = np.asarray([OUTconvolve(xfmeanpred, num_filt, k, ntest, i) for i in testspikefft])"
   ]
  },
  {
   "cell_type": "code",
   "execution_count": null,
   "metadata": {},
   "outputs": [],
   "source": [
    "plt.scatter(xtest.flatten(), alltestpredict.flatten(), s=.005)"
   ]
  },
  {
   "cell_type": "code",
   "execution_count": null,
   "metadata": {},
   "outputs": [],
   "source": [
    "tess = np.sum(np.asarray([np.square(xtest[i] - alltestpredict[i]) for i in range(len(testind))]).flatten())\n",
    "ttss = np.sum(np.asarray([np.square(xtest[i] - np.mean(xtest[i])) for i in range(len(testind))]).flatten())\n",
    "tr2 = 1 - tess/ttss\n",
    "print(tr2)"
   ]
  },
  {
   "cell_type": "markdown",
   "metadata": {},
   "source": [
    "### Training Data"
   ]
  },
  {
   "cell_type": "code",
   "execution_count": null,
   "metadata": {},
   "outputs": [],
   "source": [
    "allpredict = np.asarray([OUTconvolve(xfmeanpred, num_filt, k, n, i) for i in spikefftf])"
   ]
  },
  {
   "cell_type": "code",
   "execution_count": null,
   "metadata": {},
   "outputs": [],
   "source": [
    "plt.scatter(xvel.flatten(), allpredict.flatten(), s=.005)"
   ]
  },
  {
   "cell_type": "code",
   "execution_count": null,
   "metadata": {},
   "outputs": [],
   "source": [
    "ess = np.sum(np.asarray([np.square(xvel[i] - allpredict[i]) for i in range(len(trainind))]).flatten())\n",
    "tss = np.sum(np.asarray([np.square(xvel[i] - np.mean(xvel[i])) for i in range(len(trainind))]).flatten())\n",
    "r2 = 1 - ess/tss\n",
    "print(r2)"
   ]
  }
 ],
 "metadata": {
  "interpreter": {
   "hash": "732f194484e0284080b04ff83f236bb381f8bb18faa7a6782cdb6b2333c8b4db"
  },
  "kernelspec": {
   "display_name": "Python (myenv)",
   "language": "python",
   "name": "env"
  },
  "language_info": {
   "codemirror_mode": {
    "name": "ipython",
    "version": 3
   },
   "file_extension": ".py",
   "mimetype": "text/x-python",
   "name": "python",
   "nbconvert_exporter": "python",
   "pygments_lexer": "ipython3",
   "version": "3.8.10"
  },
  "orig_nbformat": 4
 },
 "nbformat": 4,
 "nbformat_minor": 2
}
